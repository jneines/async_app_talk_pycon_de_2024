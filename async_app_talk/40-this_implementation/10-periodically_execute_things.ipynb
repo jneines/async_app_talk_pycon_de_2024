{
 "cells": [
  {
   "cell_type": "markdown",
   "id": "6323f26a-c9c2-4968-ab5c-24ba6b695611",
   "metadata": {
    "editable": true,
    "slideshow": {
     "slide_type": ""
    },
    "tags": []
   },
   "source": [
    "# How to periodically execute things"
   ]
  },
  {
   "cell_type": "code",
   "execution_count": null,
   "id": "63c7a16a-c98b-4dee-83a4-2e3720eebfd1",
   "metadata": {
    "editable": true,
    "slideshow": {
     "slide_type": ""
    },
    "tags": []
   },
   "outputs": [],
   "source": [
    "import asyncio\n",
    "import time"
   ]
  },
  {
   "cell_type": "code",
   "execution_count": null,
   "id": "feb4a54c-dd07-4ce4-8492-ba0458238340",
   "metadata": {
    "editable": true,
    "slideshow": {
     "slide_type": ""
    },
    "tags": []
   },
   "outputs": [],
   "source": [
    "max_calls = 5\n",
    "call_every = 1 / 2"
   ]
  },
  {
   "cell_type": "markdown",
   "id": "956ddf99-01cb-4106-ad97-fecb9dd2014e",
   "metadata": {
    "editable": true,
    "slideshow": {
     "slide_type": ""
    },
    "tags": []
   },
   "source": [
    "Trivia, straight forward implementation"
   ]
  },
  {
   "cell_type": "code",
   "execution_count": null,
   "id": "4429b029-6144-4363-8157-604b7c0bba4e",
   "metadata": {
    "editable": true,
    "slideshow": {
     "slide_type": ""
    },
    "tags": []
   },
   "outputs": [],
   "source": [
    "for call_index in range(max_calls):\n",
    "    \n",
    "    print(\"Hello\")\n",
    "    \n",
    "    time.sleep(call_every)"
   ]
  },
  {
   "cell_type": "markdown",
   "id": "4c603738-94cf-40c9-b160-cd8b236a3771",
   "metadata": {
    "editable": true,
    "slideshow": {
     "slide_type": ""
    },
    "tags": []
   },
   "source": [
    "Not utterly brilliant!\n",
    "\n",
    "Something more complex might be called than `print`.\n",
    "We might even not now exactly know how long the execution takes.\n",
    "Execution time might vary as the system might be more or less busy doing other things."
   ]
  },
  {
   "cell_type": "code",
   "execution_count": null,
   "id": "5e9cb671-d83d-4bac-bb9e-a45698e4ff3c",
   "metadata": {
    "editable": true,
    "slideshow": {
     "slide_type": ""
    },
    "tags": []
   },
   "outputs": [],
   "source": [
    "for call_index in range(max_calls):\n",
    "    tic  = time.perf_counter()\n",
    "    print(\"Hello\")\n",
    "    toc = time.perf_counter()\n",
    "\n",
    "    sleep_for = max(0, call_every  - (toc-tic))\n",
    "    time.sleep(sleep_for)"
   ]
  },
  {
   "cell_type": "markdown",
   "id": "6f15f6d2-a404-46ec-9139-c3d0dc04cf7e",
   "metadata": {
    "editable": true,
    "slideshow": {
     "slide_type": ""
    },
    "tags": []
   },
   "source": [
    "Much better!\n",
    "\n",
    "Now generalize this to allow it to be used as a template, make it interceptable and usable in an asyncio based environment."
   ]
  },
  {
   "cell_type": "code",
   "execution_count": null,
   "id": "c8adc613-dcdd-4af5-b1f0-e239ad6ac973",
   "metadata": {
    "editable": true,
    "slideshow": {
     "slide_type": ""
    },
    "tags": []
   },
   "outputs": [],
   "source": [
    "async def exiter(exit_after):\n",
    "    global keep_running\n",
    "    await asyncio.sleep(exit_after)\n",
    "    keep_running = False"
   ]
  },
  {
   "cell_type": "code",
   "execution_count": null,
   "id": "edc71f05-a9e5-43a4-a865-b7a10e46df36",
   "metadata": {
    "editable": true,
    "slideshow": {
     "slide_type": ""
    },
    "tags": []
   },
   "outputs": [],
   "source": [
    "async def periodically(call_every, callback):\n",
    "    while keep_running:\n",
    "        tic  = time.perf_counter()\n",
    "        callback()\n",
    "        toc = time.perf_counter()\n",
    "    \n",
    "        sleep_for = max(0, call_every  - (toc-tic))\n",
    "        await asyncio.sleep(sleep_for)"
   ]
  },
  {
   "cell_type": "code",
   "execution_count": null,
   "id": "adb22046-f8a3-48b4-82ab-46e015173b0f",
   "metadata": {
    "editable": true,
    "slideshow": {
     "slide_type": ""
    },
    "tags": []
   },
   "outputs": [],
   "source": [
    "keep_running = True\n",
    "asyncio.gather(\n",
    "    exiter(5),\n",
    "    periodically(1 / 2, lambda : print(\"Hello\")),\n",
    ")"
   ]
  },
  {
   "cell_type": "code",
   "execution_count": null,
   "id": "491f164e-b27b-4a3b-9499-59117ac6b9dd",
   "metadata": {
    "editable": true,
    "slideshow": {
     "slide_type": ""
    },
    "tags": []
   },
   "outputs": [],
   "source": []
  }
 ],
 "metadata": {
  "kernelspec": {
   "display_name": "Python 3 (ipykernel)",
   "language": "python",
   "name": "python3"
  },
  "language_info": {
   "codemirror_mode": {
    "name": "ipython",
    "version": 3
   },
   "file_extension": ".py",
   "mimetype": "text/x-python",
   "name": "python",
   "nbconvert_exporter": "python",
   "pygments_lexer": "ipython3",
   "version": "3.12.2"
  }
 },
 "nbformat": 4,
 "nbformat_minor": 5
}
