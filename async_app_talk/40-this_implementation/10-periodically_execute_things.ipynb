{
 "cells": [
  {
   "cell_type": "markdown",
   "id": "6323f26a-c9c2-4968-ab5c-24ba6b695611",
   "metadata": {
    "editable": true,
    "slideshow": {
     "slide_type": ""
    },
    "tags": []
   },
   "source": [
    "# How to periodically execute things"
   ]
  },
  {
   "cell_type": "code",
   "execution_count": 1,
   "id": "63c7a16a-c98b-4dee-83a4-2e3720eebfd1",
   "metadata": {
    "editable": true,
    "execution": {
     "iopub.execute_input": "2024-04-13T16:46:01.105501Z",
     "iopub.status.busy": "2024-04-13T16:46:01.105334Z",
     "iopub.status.idle": "2024-04-13T16:46:01.109390Z",
     "shell.execute_reply": "2024-04-13T16:46:01.108924Z",
     "shell.execute_reply.started": "2024-04-13T16:46:01.105484Z"
    },
    "slideshow": {
     "slide_type": ""
    },
    "tags": []
   },
   "outputs": [],
   "source": [
    "import asyncio\n",
    "import time\n",
    "\n",
    "import app_state"
   ]
  },
  {
   "cell_type": "code",
   "execution_count": 2,
   "id": "221d79f1-70c6-4a27-acfd-8477942f2f6c",
   "metadata": {
    "editable": true,
    "execution": {
     "iopub.execute_input": "2024-04-13T16:46:01.110426Z",
     "iopub.status.busy": "2024-04-13T16:46:01.110072Z",
     "iopub.status.idle": "2024-04-13T16:46:01.113763Z",
     "shell.execute_reply": "2024-04-13T16:46:01.112986Z",
     "shell.execute_reply.started": "2024-04-13T16:46:01.110409Z"
    },
    "slideshow": {
     "slide_type": ""
    },
    "tags": [
     "remove-cell"
    ]
   },
   "outputs": [],
   "source": [
    "# override print to allow showing the output in one cell as it was printed in a terminal\n",
    "import os\n",
    "\n",
    "real_print = print\n",
    "lines = []\n",
    "def print(text):\n",
    "    global lines\n",
    "    lines.append(text)"
   ]
  },
  {
   "cell_type": "code",
   "execution_count": 3,
   "id": "feb4a54c-dd07-4ce4-8492-ba0458238340",
   "metadata": {
    "editable": true,
    "execution": {
     "iopub.execute_input": "2024-04-13T16:46:01.114905Z",
     "iopub.status.busy": "2024-04-13T16:46:01.114710Z",
     "iopub.status.idle": "2024-04-13T16:46:01.117678Z",
     "shell.execute_reply": "2024-04-13T16:46:01.117235Z",
     "shell.execute_reply.started": "2024-04-13T16:46:01.114888Z"
    },
    "slideshow": {
     "slide_type": ""
    },
    "tags": []
   },
   "outputs": [],
   "source": [
    "max_calls = 5\n",
    "call_every = 1 / 2"
   ]
  },
  {
   "cell_type": "markdown",
   "id": "956ddf99-01cb-4106-ad97-fecb9dd2014e",
   "metadata": {
    "editable": true,
    "slideshow": {
     "slide_type": ""
    },
    "tags": []
   },
   "source": [
    "Trivial, straight forward implementation"
   ]
  },
  {
   "cell_type": "code",
   "execution_count": 4,
   "id": "4429b029-6144-4363-8157-604b7c0bba4e",
   "metadata": {
    "editable": true,
    "execution": {
     "iopub.execute_input": "2024-04-13T16:46:01.118707Z",
     "iopub.status.busy": "2024-04-13T16:46:01.118418Z",
     "iopub.status.idle": "2024-04-13T16:46:03.640070Z",
     "shell.execute_reply": "2024-04-13T16:46:03.639186Z",
     "shell.execute_reply.started": "2024-04-13T16:46:01.118690Z"
    },
    "slideshow": {
     "slide_type": ""
    },
    "tags": []
   },
   "outputs": [],
   "source": [
    "for call_index in range(max_calls):\n",
    "    \n",
    "    print(\"Hello\")\n",
    "    \n",
    "    time.sleep(call_every)"
   ]
  },
  {
   "cell_type": "code",
   "execution_count": 5,
   "id": "a3a24c95-af1e-47b4-85f6-39fec4a1c4c2",
   "metadata": {
    "editable": true,
    "execution": {
     "iopub.execute_input": "2024-04-13T16:46:03.641643Z",
     "iopub.status.busy": "2024-04-13T16:46:03.641300Z",
     "iopub.status.idle": "2024-04-13T16:46:03.644350Z",
     "shell.execute_reply": "2024-04-13T16:46:03.643955Z",
     "shell.execute_reply.started": "2024-04-13T16:46:03.641622Z"
    },
    "slideshow": {
     "slide_type": ""
    },
    "tags": [
     "remove-input"
    ]
   },
   "outputs": [
    {
     "name": "stdout",
     "output_type": "stream",
     "text": [
      "Hello\n",
      "Hello\n",
      "Hello\n",
      "Hello\n",
      "Hello\n"
     ]
    }
   ],
   "source": [
    "real_print(\"\\n\".join(lines))\n",
    "lines = []"
   ]
  },
  {
   "cell_type": "markdown",
   "id": "4c603738-94cf-40c9-b160-cd8b236a3771",
   "metadata": {
    "editable": true,
    "slideshow": {
     "slide_type": ""
    },
    "tags": []
   },
   "source": [
    "Not utterly brilliant!\n",
    "\n",
    "The problem here is:\n",
    "\n",
    "- something far more complex than `print` might be called.\n",
    "- we might not now exactly know how long the execution takes.\n",
    "- execution time might vary depending on the systems load\n",
    "\n",
    "A better variant might be this."
   ]
  },
  {
   "cell_type": "code",
   "execution_count": 6,
   "id": "5e9cb671-d83d-4bac-bb9e-a45698e4ff3c",
   "metadata": {
    "editable": true,
    "execution": {
     "iopub.execute_input": "2024-04-13T16:46:03.646461Z",
     "iopub.status.busy": "2024-04-13T16:46:03.646291Z",
     "iopub.status.idle": "2024-04-13T16:46:06.162914Z",
     "shell.execute_reply": "2024-04-13T16:46:06.162369Z",
     "shell.execute_reply.started": "2024-04-13T16:46:03.646446Z"
    },
    "slideshow": {
     "slide_type": ""
    },
    "tags": []
   },
   "outputs": [],
   "source": [
    "for call_index in range(max_calls):\n",
    "    tic  = time.perf_counter()\n",
    "    print(\"Hello\")\n",
    "    toc = time.perf_counter()\n",
    "\n",
    "    sleep_for = max(0, call_every - (toc - tic))\n",
    "    time.sleep(sleep_for)"
   ]
  },
  {
   "cell_type": "code",
   "execution_count": 7,
   "id": "e4db375b-d0c5-4505-b9e2-f2107d1b6973",
   "metadata": {
    "editable": true,
    "execution": {
     "iopub.execute_input": "2024-04-13T16:46:06.164125Z",
     "iopub.status.busy": "2024-04-13T16:46:06.163647Z",
     "iopub.status.idle": "2024-04-13T16:46:06.166751Z",
     "shell.execute_reply": "2024-04-13T16:46:06.166337Z",
     "shell.execute_reply.started": "2024-04-13T16:46:06.164104Z"
    },
    "slideshow": {
     "slide_type": ""
    },
    "tags": [
     "remove-input"
    ]
   },
   "outputs": [
    {
     "name": "stdout",
     "output_type": "stream",
     "text": [
      "Hello\n",
      "Hello\n",
      "Hello\n",
      "Hello\n",
      "Hello\n"
     ]
    }
   ],
   "source": [
    "real_print(\"\\n\".join(lines))\n",
    "lines = []"
   ]
  },
  {
   "cell_type": "markdown",
   "id": "6f15f6d2-a404-46ec-9139-c3d0dc04cf7e",
   "metadata": {
    "editable": true,
    "slideshow": {
     "slide_type": ""
    },
    "tags": []
   },
   "source": [
    "Much better!\n",
    "\n",
    "Now generalize this to allow it to be used as a template, make it interruptable and usable in an asyncio based environment."
   ]
  },
  {
   "cell_type": "code",
   "execution_count": 8,
   "id": "c8adc613-dcdd-4af5-b1f0-e239ad6ac973",
   "metadata": {
    "editable": true,
    "execution": {
     "iopub.execute_input": "2024-04-13T16:46:06.167712Z",
     "iopub.status.busy": "2024-04-13T16:46:06.167419Z",
     "iopub.status.idle": "2024-04-13T16:46:06.173327Z",
     "shell.execute_reply": "2024-04-13T16:46:06.172823Z",
     "shell.execute_reply.started": "2024-04-13T16:46:06.167697Z"
    },
    "slideshow": {
     "slide_type": ""
    },
    "tags": []
   },
   "outputs": [],
   "source": [
    "async def exit_after(exit_after):\n",
    "    \n",
    "    await asyncio.sleep(exit_after)\n",
    "    app_state.keep_running = False"
   ]
  },
  {
   "cell_type": "code",
   "execution_count": 9,
   "id": "edc71f05-a9e5-43a4-a865-b7a10e46df36",
   "metadata": {
    "editable": true,
    "execution": {
     "iopub.execute_input": "2024-04-13T16:46:06.174187Z",
     "iopub.status.busy": "2024-04-13T16:46:06.173909Z",
     "iopub.status.idle": "2024-04-13T16:46:06.176865Z",
     "shell.execute_reply": "2024-04-13T16:46:06.176509Z",
     "shell.execute_reply.started": "2024-04-13T16:46:06.174172Z"
    },
    "slideshow": {
     "slide_type": ""
    },
    "tags": []
   },
   "outputs": [],
   "source": [
    "async def periodically(call_every, callback):\n",
    "    while app_state.keep_running:\n",
    "        tic  = time.perf_counter()\n",
    "        callback()\n",
    "        toc = time.perf_counter()\n",
    "    \n",
    "        sleep_for = max(0, call_every - (toc - tic))\n",
    "        await asyncio.sleep(sleep_for)"
   ]
  },
  {
   "cell_type": "code",
   "execution_count": 12,
   "id": "adb22046-f8a3-48b4-82ab-46e015173b0f",
   "metadata": {
    "editable": true,
    "execution": {
     "iopub.execute_input": "2024-04-13T16:48:47.065668Z",
     "iopub.status.busy": "2024-04-13T16:48:47.065459Z",
     "iopub.status.idle": "2024-04-13T16:48:52.072504Z",
     "shell.execute_reply": "2024-04-13T16:48:52.072056Z",
     "shell.execute_reply.started": "2024-04-13T16:48:47.065651Z"
    },
    "slideshow": {
     "slide_type": ""
    },
    "tags": []
   },
   "outputs": [],
   "source": [
    "app_state.keep_running = True\n",
    "\n",
    "_ = await asyncio.gather(\n",
    "    exit_after(5),\n",
    "    periodically(1 / 2, lambda : print(\"Hello\")),\n",
    ")"
   ]
  },
  {
   "cell_type": "code",
   "execution_count": 11,
   "id": "9504ca22-bae1-4a75-ac43-099162bc9719",
   "metadata": {
    "editable": true,
    "execution": {
     "iopub.execute_input": "2024-04-13T16:46:11.189058Z",
     "iopub.status.busy": "2024-04-13T16:46:11.188925Z",
     "iopub.status.idle": "2024-04-13T16:46:11.191689Z",
     "shell.execute_reply": "2024-04-13T16:46:11.191167Z",
     "shell.execute_reply.started": "2024-04-13T16:46:11.189044Z"
    },
    "slideshow": {
     "slide_type": ""
    },
    "tags": [
     "remove-input"
    ]
   },
   "outputs": [
    {
     "name": "stdout",
     "output_type": "stream",
     "text": [
      "Hello\n",
      "Hello\n",
      "Hello\n",
      "Hello\n",
      "Hello\n",
      "Hello\n",
      "Hello\n",
      "Hello\n",
      "Hello\n",
      "Hello\n"
     ]
    }
   ],
   "source": [
    "real_print(\"\\n\".join(lines))\n",
    "lines = []"
   ]
  },
  {
   "cell_type": "code",
   "execution_count": null,
   "id": "66b8fee2-833b-438d-873e-d9d7f026626e",
   "metadata": {
    "editable": true,
    "slideshow": {
     "slide_type": ""
    },
    "tags": []
   },
   "outputs": [],
   "source": []
  }
 ],
 "metadata": {
  "kernelspec": {
   "display_name": "Python 3 (ipykernel)",
   "language": "python",
   "name": "python3"
  },
  "language_info": {
   "codemirror_mode": {
    "name": "ipython",
    "version": 3
   },
   "file_extension": ".py",
   "mimetype": "text/x-python",
   "name": "python",
   "nbconvert_exporter": "python",
   "pygments_lexer": "ipython3",
   "version": "3.12.2"
  }
 },
 "nbformat": 4,
 "nbformat_minor": 5
}
