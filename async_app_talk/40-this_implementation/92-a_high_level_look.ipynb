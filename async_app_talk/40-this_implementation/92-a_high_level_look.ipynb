{
 "cells": [
  {
   "cell_type": "markdown",
   "id": "6dd026e3-385c-4d70-91d8-f3437d83cdac",
   "metadata": {
    "editable": true,
    "slideshow": {
     "slide_type": ""
    },
    "tags": []
   },
   "source": [
    "# A highlevel look at the implementation"
   ]
  },
  {
   "cell_type": "code",
   "execution_count": 3,
   "id": "5b4b44c5-00a0-49b9-827c-4476e35ff14c",
   "metadata": {
    "editable": true,
    "execution": {
     "iopub.execute_input": "2024-04-14T17:51:41.584372Z",
     "iopub.status.busy": "2024-04-14T17:51:41.584158Z",
     "iopub.status.idle": "2024-04-14T17:51:41.588028Z",
     "shell.execute_reply": "2024-04-14T17:51:41.587638Z",
     "shell.execute_reply.started": "2024-04-14T17:51:41.584357Z"
    },
    "slideshow": {
     "slide_type": ""
    },
    "tags": []
   },
   "outputs": [],
   "source": [
    "import asyncio\n",
    "\n",
    "import async_app.state as app_state\n",
    "from async_app.app_factory import async_app_options\n"
   ]
  },
  {
   "cell_type": "markdown",
   "id": "349cf92d-9e40-4922-aca6-84d9dc722c87",
   "metadata": {
    "editable": true,
    "slideshow": {
     "slide_type": ""
    },
    "tags": []
   },
   "source": [
    "The following code is an excerpt of the real implementation to visualize the interface the user will deal with."
   ]
  },
  {
   "cell_type": "code",
   "execution_count": 4,
   "id": "44d0b728-4265-41c3-8a15-c702c72d4b82",
   "metadata": {
    "editable": true,
    "execution": {
     "iopub.execute_input": "2024-04-14T17:51:44.628251Z",
     "iopub.status.busy": "2024-04-14T17:51:44.628041Z",
     "iopub.status.idle": "2024-04-14T17:51:44.631292Z",
     "shell.execute_reply": "2024-04-14T17:51:44.630900Z",
     "shell.execute_reply.started": "2024-04-14T17:51:44.628235Z"
    },
    "slideshow": {
     "slide_type": ""
    },
    "tags": []
   },
   "outputs": [],
   "source": [
    "class AsyncApp(object):\n",
    "    def __init__(self, **kwargs):\n",
    "        self.task_descriptions = {\n",
    "            \"init\": [],\n",
    "            \"continuous\": [],\n",
    "            \"periodic\": [],\n",
    "            \"cleanup\": [],\n",
    "        }\n",
    "\n",
    "    def add_task_description(self, task_description):\n",
    "        \"\"\"Depending on the tasks kind, add it to its matching list.\"\"\"\n",
    "        ...\n",
    "\n",
    "    async def run(self):\n",
    "        \"\"\"Run init tasks first, and after completion execute regular and periodic tasks.\"\"\"\n",
    "        ...\n",
    "        \n",
    "    async def task_monitor(self):\n",
    "        \"\"\"Offer a callback for a periodical to watch task execution.\"\"\"\n",
    "        ...\n",
    "\n",
    "    def periodicals_monitor(self):\n",
    "        \"\"\"Offer a callback for periodicals monitoring that can be called periodically.\"\"\"\n",
    "        ...\n",
    "\n",
    "    def exit(self, *args):\n",
    "        \"\"\"Exit the app cleanly.\"\"\"\n",
    "        app_state.keep_running = False\n",
    "        "
   ]
  },
  {
   "cell_type": "markdown",
   "id": "9255ebac-fde9-4544-8387-ca5d296ac683",
   "metadata": {
    "editable": true,
    "slideshow": {
     "slide_type": ""
    },
    "tags": []
   },
   "source": [
    "And providing some functions to be used with the `AsyncApp` ..."
   ]
  },
  {
   "cell_type": "code",
   "execution_count": 5,
   "id": "8f32047c-46d8-4798-963a-8609d20a8cdf",
   "metadata": {
    "editable": true,
    "execution": {
     "iopub.execute_input": "2024-04-14T17:51:45.832907Z",
     "iopub.status.busy": "2024-04-14T17:51:45.832685Z",
     "iopub.status.idle": "2024-04-14T17:51:45.835747Z",
     "shell.execute_reply": "2024-04-14T17:51:45.835241Z",
     "shell.execute_reply.started": "2024-04-14T17:51:45.832892Z"
    },
    "slideshow": {
     "slide_type": ""
    },
    "tags": []
   },
   "outputs": [],
   "source": [
    "def init_things(): ...\n",
    "def run_forever(): ...\n",
    "def ping(): ...\n",
    "def cleanup(): ..."
   ]
  },
  {
   "cell_type": "markdown",
   "id": "20e2964c-594a-4855-bfa6-5a407f5aca0b",
   "metadata": {
    "editable": true,
    "slideshow": {
     "slide_type": ""
    },
    "tags": []
   },
   "source": [
    "... it can be used like this:"
   ]
  },
  {
   "cell_type": "code",
   "execution_count": 6,
   "id": "119a4dba-bc2b-4c88-9ca1-a76aba9c7d6a",
   "metadata": {
    "editable": true,
    "execution": {
     "iopub.execute_input": "2024-04-14T17:51:46.744115Z",
     "iopub.status.busy": "2024-04-14T17:51:46.743880Z",
     "iopub.status.idle": "2024-04-14T17:51:46.746761Z",
     "shell.execute_reply": "2024-04-14T17:51:46.746259Z",
     "shell.execute_reply.started": "2024-04-14T17:51:46.744098Z"
    },
    "slideshow": {
     "slide_type": ""
    },
    "tags": []
   },
   "outputs": [],
   "source": [
    "app = AsyncApp()"
   ]
  },
  {
   "cell_type": "code",
   "execution_count": 7,
   "id": "7f6e6ec3-6c2e-4d6a-a9c8-cc95c8751e36",
   "metadata": {
    "editable": true,
    "execution": {
     "iopub.execute_input": "2024-04-14T17:51:47.295467Z",
     "iopub.status.busy": "2024-04-14T17:51:47.295017Z",
     "iopub.status.idle": "2024-04-14T17:51:47.298182Z",
     "shell.execute_reply": "2024-04-14T17:51:47.297510Z",
     "shell.execute_reply.started": "2024-04-14T17:51:47.295451Z"
    },
    "slideshow": {
     "slide_type": ""
    },
    "tags": []
   },
   "outputs": [],
   "source": [
    "app.add_task_description(\n",
    "    {\n",
    "        \"kind\": \"init\",\n",
    "        \"function\": init_things,\n",
    "    }\n",
    ")"
   ]
  },
  {
   "cell_type": "code",
   "execution_count": 8,
   "id": "3774710c-b6bf-4ef1-8e85-c93157ea2680",
   "metadata": {
    "editable": true,
    "execution": {
     "iopub.execute_input": "2024-04-14T17:51:48.375172Z",
     "iopub.status.busy": "2024-04-14T17:51:48.374955Z",
     "iopub.status.idle": "2024-04-14T17:51:48.377387Z",
     "shell.execute_reply": "2024-04-14T17:51:48.376959Z",
     "shell.execute_reply.started": "2024-04-14T17:51:48.375156Z"
    },
    "slideshow": {
     "slide_type": ""
    },
    "tags": []
   },
   "outputs": [],
   "source": [
    "app.add_task_description(\n",
    "    {\n",
    "        \"kind\": \"continuous\",\n",
    "        \"function\": run_forever,\n",
    "    }\n",
    ")"
   ]
  },
  {
   "cell_type": "code",
   "execution_count": 9,
   "id": "91578519-9b55-41cf-91ac-049605b85fac",
   "metadata": {
    "editable": true,
    "execution": {
     "iopub.execute_input": "2024-04-14T17:51:48.577264Z",
     "iopub.status.busy": "2024-04-14T17:51:48.577056Z",
     "iopub.status.idle": "2024-04-14T17:51:48.579457Z",
     "shell.execute_reply": "2024-04-14T17:51:48.579025Z",
     "shell.execute_reply.started": "2024-04-14T17:51:48.577249Z"
    },
    "slideshow": {
     "slide_type": ""
    },
    "tags": []
   },
   "outputs": [],
   "source": [
    "app.add_task_description(\n",
    "    {\n",
    "        \"kind\": \"periodic\",\n",
    "        \"function\": ping,\n",
    "        \"call_every\": 2,\n",
    "    }\n",
    ")"
   ]
  },
  {
   "cell_type": "code",
   "execution_count": 10,
   "id": "104ee2fb-0911-41e8-92d8-231e202b2b5b",
   "metadata": {
    "editable": true,
    "execution": {
     "iopub.execute_input": "2024-04-14T17:51:48.758101Z",
     "iopub.status.busy": "2024-04-14T17:51:48.757881Z",
     "iopub.status.idle": "2024-04-14T17:51:48.760637Z",
     "shell.execute_reply": "2024-04-14T17:51:48.760197Z",
     "shell.execute_reply.started": "2024-04-14T17:51:48.758086Z"
    },
    "slideshow": {
     "slide_type": ""
    },
    "tags": []
   },
   "outputs": [],
   "source": [
    "app.add_task_description(\n",
    "    {\n",
    "        \"kind\": \"cleanup\",\n",
    "        \"function\": cleanup,\n",
    "    }\n",
    ")"
   ]
  },
  {
   "cell_type": "markdown",
   "id": "276b3dff-5b6d-4620-bcd6-2a7c3cbbe9d4",
   "metadata": {
    "editable": true,
    "slideshow": {
     "slide_type": ""
    },
    "tags": []
   },
   "source": [
    "A propper way to execute would now be calling `asyncio.run(app.run())` and follow along what the app is doing.\n",
    "In this context awaiting the results is enough."
   ]
  },
  {
   "cell_type": "code",
   "execution_count": 11,
   "id": "7dd98eac-7dc8-4979-9a80-3eef228f4c21",
   "metadata": {
    "editable": true,
    "execution": {
     "iopub.execute_input": "2024-04-14T17:51:49.589461Z",
     "iopub.status.busy": "2024-04-14T17:51:49.589241Z",
     "iopub.status.idle": "2024-04-14T17:51:49.591812Z",
     "shell.execute_reply": "2024-04-14T17:51:49.591325Z",
     "shell.execute_reply.started": "2024-04-14T17:51:49.589446Z"
    },
    "slideshow": {
     "slide_type": ""
    },
    "tags": []
   },
   "outputs": [],
   "source": [
    "# asyncio.run(app.run())\n",
    "await app.run()"
   ]
  },
  {
   "cell_type": "code",
   "execution_count": null,
   "id": "014eddca-bc43-4e1f-9926-65c92f324ce7",
   "metadata": {
    "editable": true,
    "slideshow": {
     "slide_type": ""
    },
    "tags": []
   },
   "outputs": [],
   "source": []
  }
 ],
 "metadata": {
  "kernelspec": {
   "display_name": "Python 3 (ipykernel)",
   "language": "python",
   "name": "python3"
  },
  "language_info": {
   "codemirror_mode": {
    "name": "ipython",
    "version": 3
   },
   "file_extension": ".py",
   "mimetype": "text/x-python",
   "name": "python",
   "nbconvert_exporter": "python",
   "pygments_lexer": "ipython3",
   "version": "3.12.2"
  }
 },
 "nbformat": 4,
 "nbformat_minor": 5
}
