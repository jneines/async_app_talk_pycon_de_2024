{
 "cells": [
  {
   "cell_type": "markdown",
   "id": "6dd026e3-385c-4d70-91d8-f3437d83cdac",
   "metadata": {
    "editable": true,
    "slideshow": {
     "slide_type": ""
    },
    "tags": []
   },
   "source": [
    "# One to execute them all"
   ]
  },
  {
   "cell_type": "code",
   "execution_count": 1,
   "id": "5b4b44c5-00a0-49b9-827c-4476e35ff14c",
   "metadata": {
    "editable": true,
    "execution": {
     "iopub.execute_input": "2024-04-13T16:40:21.195529Z",
     "iopub.status.busy": "2024-04-13T16:40:21.195308Z",
     "iopub.status.idle": "2024-04-13T16:40:21.198249Z",
     "shell.execute_reply": "2024-04-13T16:40:21.197782Z",
     "shell.execute_reply.started": "2024-04-13T16:40:21.195509Z"
    },
    "slideshow": {
     "slide_type": ""
    },
    "tags": []
   },
   "outputs": [],
   "source": [
    "import asyncio"
   ]
  },
  {
   "cell_type": "code",
   "execution_count": 2,
   "id": "44d0b728-4265-41c3-8a15-c702c72d4b82",
   "metadata": {
    "editable": true,
    "execution": {
     "iopub.execute_input": "2024-04-13T16:40:21.199717Z",
     "iopub.status.busy": "2024-04-13T16:40:21.199506Z",
     "iopub.status.idle": "2024-04-13T16:40:21.203861Z",
     "shell.execute_reply": "2024-04-13T16:40:21.203367Z",
     "shell.execute_reply.started": "2024-04-13T16:40:21.199702Z"
    },
    "slideshow": {
     "slide_type": ""
    },
    "tags": []
   },
   "outputs": [],
   "source": [
    "class AsyncApp(object):\n",
    "    def __init__(self, **kwargs):\n",
    "        self.task_descriptions = {\n",
    "            \"init\": [],\n",
    "            \"continuous\": [],\n",
    "            \"periodic\": [],\n",
    "            \"cleanup\": [],\n",
    "        }\n",
    "\n",
    "    def add_task_description(self, task_description):\n",
    "        \"\"\"Depending on the tasks kind, add it to its matching list.\"\"\"\n",
    "        ...\n",
    "\n",
    "    async def run(self):\n",
    "        \"\"\"Run init tasks first, and after completion execute regular and periodic tasks.\"\"\"\n",
    "        ...\n",
    "        \n",
    "    async def task_monitor(self):\n",
    "        \"\"\"Offer a callback for a periodical to watch task execution.\"\"\"\n",
    "        ...\n",
    "\n",
    "    def periodicals_monitor(self):\n",
    "        \"\"\"Offer a callback for periodicals monitoring that can be called periodically.\"\"\"\n",
    "        ...\n",
    "        "
   ]
  },
  {
   "cell_type": "markdown",
   "id": "958c6c5b-f212-4b3b-84e5-8f5bd5d7bfb2",
   "metadata": {
    "editable": true,
    "slideshow": {
     "slide_type": ""
    },
    "tags": []
   },
   "source": [
    "A function that is to be executed forever"
   ]
  },
  {
   "cell_type": "code",
   "execution_count": 3,
   "id": "cbef3099-7e24-40a7-b381-c513a64fc9ca",
   "metadata": {
    "editable": true,
    "execution": {
     "iopub.execute_input": "2024-04-13T16:40:21.204868Z",
     "iopub.status.busy": "2024-04-13T16:40:21.204599Z",
     "iopub.status.idle": "2024-04-13T16:40:21.207879Z",
     "shell.execute_reply": "2024-04-13T16:40:21.207202Z",
     "shell.execute_reply.started": "2024-04-13T16:40:21.204852Z"
    },
    "slideshow": {
     "slide_type": ""
    },
    "tags": []
   },
   "outputs": [],
   "source": [
    "def run_forever(): ..."
   ]
  },
  {
   "cell_type": "markdown",
   "id": "e21441ed-0e07-41e7-a66f-041fd856d4ea",
   "metadata": {
    "editable": true,
    "slideshow": {
     "slide_type": ""
    },
    "tags": []
   },
   "source": [
    "A function that will be called periodically"
   ]
  },
  {
   "cell_type": "code",
   "execution_count": 4,
   "id": "90b83107-bf5b-4082-b4b6-9a4f0b8a39ec",
   "metadata": {
    "editable": true,
    "execution": {
     "iopub.execute_input": "2024-04-13T16:40:21.208704Z",
     "iopub.status.busy": "2024-04-13T16:40:21.208502Z",
     "iopub.status.idle": "2024-04-13T16:40:21.210900Z",
     "shell.execute_reply": "2024-04-13T16:40:21.210491Z",
     "shell.execute_reply.started": "2024-04-13T16:40:21.208688Z"
    },
    "slideshow": {
     "slide_type": ""
    },
    "tags": []
   },
   "outputs": [],
   "source": [
    "def ping(): ..."
   ]
  },
  {
   "cell_type": "code",
   "execution_count": 5,
   "id": "119a4dba-bc2b-4c88-9ca1-a76aba9c7d6a",
   "metadata": {
    "editable": true,
    "execution": {
     "iopub.execute_input": "2024-04-13T16:40:21.211794Z",
     "iopub.status.busy": "2024-04-13T16:40:21.211592Z",
     "iopub.status.idle": "2024-04-13T16:40:21.214012Z",
     "shell.execute_reply": "2024-04-13T16:40:21.213542Z",
     "shell.execute_reply.started": "2024-04-13T16:40:21.211781Z"
    },
    "slideshow": {
     "slide_type": ""
    },
    "tags": []
   },
   "outputs": [],
   "source": [
    "app = AsyncApp()"
   ]
  },
  {
   "cell_type": "code",
   "execution_count": 6,
   "id": "3774710c-b6bf-4ef1-8e85-c93157ea2680",
   "metadata": {
    "editable": true,
    "execution": {
     "iopub.execute_input": "2024-04-13T16:40:21.216184Z",
     "iopub.status.busy": "2024-04-13T16:40:21.215997Z",
     "iopub.status.idle": "2024-04-13T16:40:21.218533Z",
     "shell.execute_reply": "2024-04-13T16:40:21.218070Z",
     "shell.execute_reply.started": "2024-04-13T16:40:21.216169Z"
    },
    "slideshow": {
     "slide_type": ""
    },
    "tags": []
   },
   "outputs": [],
   "source": [
    "app.add_task_description(\n",
    "    {\n",
    "        \"kind\": \"continuous\",\n",
    "        \"function\": run_forever,\n",
    "    }\n",
    ")"
   ]
  },
  {
   "cell_type": "code",
   "execution_count": 7,
   "id": "91578519-9b55-41cf-91ac-049605b85fac",
   "metadata": {
    "editable": true,
    "execution": {
     "iopub.execute_input": "2024-04-13T16:40:21.219542Z",
     "iopub.status.busy": "2024-04-13T16:40:21.219284Z",
     "iopub.status.idle": "2024-04-13T16:40:21.222010Z",
     "shell.execute_reply": "2024-04-13T16:40:21.221579Z",
     "shell.execute_reply.started": "2024-04-13T16:40:21.219527Z"
    },
    "slideshow": {
     "slide_type": ""
    },
    "tags": []
   },
   "outputs": [],
   "source": [
    "app.add_task_description(\n",
    "    {\n",
    "        \"kind\": \"periodic\",\n",
    "        \"function\": ping,\n",
    "        \"call_every\": 2,\n",
    "    }\n",
    ")"
   ]
  },
  {
   "cell_type": "code",
   "execution_count": 8,
   "id": "7dd98eac-7dc8-4979-9a80-3eef228f4c21",
   "metadata": {
    "editable": true,
    "execution": {
     "iopub.execute_input": "2024-04-13T16:40:21.223200Z",
     "iopub.status.busy": "2024-04-13T16:40:21.222830Z",
     "iopub.status.idle": "2024-04-13T16:40:21.226036Z",
     "shell.execute_reply": "2024-04-13T16:40:21.225620Z",
     "shell.execute_reply.started": "2024-04-13T16:40:21.223184Z"
    },
    "slideshow": {
     "slide_type": ""
    },
    "tags": []
   },
   "outputs": [],
   "source": [
    "# asyncio.run(app.run())\n",
    "await app.run()"
   ]
  },
  {
   "cell_type": "code",
   "execution_count": null,
   "id": "014eddca-bc43-4e1f-9926-65c92f324ce7",
   "metadata": {
    "editable": true,
    "slideshow": {
     "slide_type": ""
    },
    "tags": []
   },
   "outputs": [],
   "source": []
  }
 ],
 "metadata": {
  "kernelspec": {
   "display_name": "Python 3 (ipykernel)",
   "language": "python",
   "name": "python3"
  },
  "language_info": {
   "codemirror_mode": {
    "name": "ipython",
    "version": 3
   },
   "file_extension": ".py",
   "mimetype": "text/x-python",
   "name": "python",
   "nbconvert_exporter": "python",
   "pygments_lexer": "ipython3",
   "version": "3.12.2"
  }
 },
 "nbformat": 4,
 "nbformat_minor": 5
}
