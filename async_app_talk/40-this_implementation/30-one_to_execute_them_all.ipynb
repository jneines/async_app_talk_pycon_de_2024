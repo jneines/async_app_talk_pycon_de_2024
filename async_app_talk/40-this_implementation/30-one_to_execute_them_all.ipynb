{
 "cells": [
  {
   "cell_type": "markdown",
   "id": "6dd026e3-385c-4d70-91d8-f3437d83cdac",
   "metadata": {
    "editable": true,
    "slideshow": {
     "slide_type": ""
    },
    "tags": []
   },
   "source": [
    "# One to execute them all"
   ]
  },
  {
   "cell_type": "code",
   "execution_count": 18,
   "id": "5b4b44c5-00a0-49b9-827c-4476e35ff14c",
   "metadata": {
    "editable": true,
    "execution": {
     "iopub.execute_input": "2024-04-08T14:21:51.293783Z",
     "iopub.status.busy": "2024-04-08T14:21:51.293491Z",
     "iopub.status.idle": "2024-04-08T14:21:51.296475Z",
     "shell.execute_reply": "2024-04-08T14:21:51.295732Z",
     "shell.execute_reply.started": "2024-04-08T14:21:51.293763Z"
    },
    "slideshow": {
     "slide_type": ""
    },
    "tags": []
   },
   "outputs": [],
   "source": [
    "import asyncio"
   ]
  },
  {
   "cell_type": "code",
   "execution_count": 19,
   "id": "44d0b728-4265-41c3-8a15-c702c72d4b82",
   "metadata": {
    "editable": true,
    "execution": {
     "iopub.execute_input": "2024-04-08T14:21:51.656622Z",
     "iopub.status.busy": "2024-04-08T14:21:51.656403Z",
     "iopub.status.idle": "2024-04-08T14:21:51.660030Z",
     "shell.execute_reply": "2024-04-08T14:21:51.659547Z",
     "shell.execute_reply.started": "2024-04-08T14:21:51.656606Z"
    },
    "slideshow": {
     "slide_type": ""
    },
    "tags": []
   },
   "outputs": [],
   "source": [
    "class AsyncApp(object):\n",
    "    def __init__(self, **kwargs):\n",
    "        self.task_descriptions = {\n",
    "            \"init\": [],\n",
    "            \"continuous\": [],\n",
    "            \"periodic\": [],\n",
    "            \"cleanup\": [],\n",
    "        }\n",
    "\n",
    "    def add_task_description(self, task_description):\n",
    "        \"\"\"Depending on the tasks kind, add it to its matching list.\"\"\"\n",
    "        ...\n",
    "\n",
    "    async def run(self):\n",
    "        \"\"\"Run init tasks first, and after completion execute regular and periodic tasks.\"\"\"\n",
    "        ...\n",
    "        \n",
    "    async def task_monitor(self):\n",
    "        \"\"\"Offer a callback for a periodical to watch task execution.\"\"\"\n",
    "        ...\n",
    "\n",
    "    def periodicals_monitor(self):\n",
    "        \"\"\"Offer a callback for periodicals monitoring that can be called periodically.\"\"\"\n",
    "        ...\n",
    "        "
   ]
  },
  {
   "cell_type": "markdown",
   "id": "958c6c5b-f212-4b3b-84e5-8f5bd5d7bfb2",
   "metadata": {
    "editable": true,
    "slideshow": {
     "slide_type": ""
    },
    "tags": []
   },
   "source": [
    "A function that is to be executed forever"
   ]
  },
  {
   "cell_type": "code",
   "execution_count": 20,
   "id": "cbef3099-7e24-40a7-b381-c513a64fc9ca",
   "metadata": {
    "editable": true,
    "execution": {
     "iopub.execute_input": "2024-04-08T14:21:52.151642Z",
     "iopub.status.busy": "2024-04-08T14:21:52.151431Z",
     "iopub.status.idle": "2024-04-08T14:21:52.153942Z",
     "shell.execute_reply": "2024-04-08T14:21:52.153562Z",
     "shell.execute_reply.started": "2024-04-08T14:21:52.151625Z"
    },
    "slideshow": {
     "slide_type": ""
    },
    "tags": []
   },
   "outputs": [],
   "source": [
    "def run_forever(): ..."
   ]
  },
  {
   "cell_type": "markdown",
   "id": "e21441ed-0e07-41e7-a66f-041fd856d4ea",
   "metadata": {
    "editable": true,
    "slideshow": {
     "slide_type": ""
    },
    "tags": []
   },
   "source": [
    "A function that will be called periodically"
   ]
  },
  {
   "cell_type": "code",
   "execution_count": 21,
   "id": "90b83107-bf5b-4082-b4b6-9a4f0b8a39ec",
   "metadata": {
    "editable": true,
    "execution": {
     "iopub.execute_input": "2024-04-08T14:21:52.635323Z",
     "iopub.status.busy": "2024-04-08T14:21:52.635106Z",
     "iopub.status.idle": "2024-04-08T14:21:52.637903Z",
     "shell.execute_reply": "2024-04-08T14:21:52.637413Z",
     "shell.execute_reply.started": "2024-04-08T14:21:52.635307Z"
    },
    "slideshow": {
     "slide_type": ""
    },
    "tags": []
   },
   "outputs": [],
   "source": [
    "def ping(): ..."
   ]
  },
  {
   "cell_type": "code",
   "execution_count": 22,
   "id": "119a4dba-bc2b-4c88-9ca1-a76aba9c7d6a",
   "metadata": {
    "editable": true,
    "execution": {
     "iopub.execute_input": "2024-04-08T14:21:52.859492Z",
     "iopub.status.busy": "2024-04-08T14:21:52.859284Z",
     "iopub.status.idle": "2024-04-08T14:21:52.861853Z",
     "shell.execute_reply": "2024-04-08T14:21:52.861382Z",
     "shell.execute_reply.started": "2024-04-08T14:21:52.859477Z"
    },
    "slideshow": {
     "slide_type": ""
    },
    "tags": []
   },
   "outputs": [],
   "source": [
    "app = AsyncApp()"
   ]
  },
  {
   "cell_type": "code",
   "execution_count": 23,
   "id": "3774710c-b6bf-4ef1-8e85-c93157ea2680",
   "metadata": {
    "editable": true,
    "execution": {
     "iopub.execute_input": "2024-04-08T14:21:53.106300Z",
     "iopub.status.busy": "2024-04-08T14:21:53.106085Z",
     "iopub.status.idle": "2024-04-08T14:21:53.108740Z",
     "shell.execute_reply": "2024-04-08T14:21:53.108266Z",
     "shell.execute_reply.started": "2024-04-08T14:21:53.106285Z"
    },
    "slideshow": {
     "slide_type": ""
    },
    "tags": []
   },
   "outputs": [],
   "source": [
    "app.add_task_description(\n",
    "    {\n",
    "        \"kind\": \"continuous\",\n",
    "        \"function\": run_forever,\n",
    "    }\n",
    ")"
   ]
  },
  {
   "cell_type": "code",
   "execution_count": 24,
   "id": "91578519-9b55-41cf-91ac-049605b85fac",
   "metadata": {
    "editable": true,
    "execution": {
     "iopub.execute_input": "2024-04-08T14:21:53.354646Z",
     "iopub.status.busy": "2024-04-08T14:21:53.354433Z",
     "iopub.status.idle": "2024-04-08T14:21:53.357156Z",
     "shell.execute_reply": "2024-04-08T14:21:53.356702Z",
     "shell.execute_reply.started": "2024-04-08T14:21:53.354631Z"
    },
    "slideshow": {
     "slide_type": ""
    },
    "tags": []
   },
   "outputs": [],
   "source": [
    "app.add_task_description(\n",
    "    {\n",
    "        \"kind\": \"periodic\",\n",
    "        \"function\": ping,\n",
    "        \"call_every\": 2,\n",
    "    }\n",
    ")"
   ]
  },
  {
   "cell_type": "code",
   "execution_count": 27,
   "id": "7dd98eac-7dc8-4979-9a80-3eef228f4c21",
   "metadata": {
    "editable": true,
    "execution": {
     "iopub.execute_input": "2024-04-08T14:22:22.254231Z",
     "iopub.status.busy": "2024-04-08T14:22:22.254010Z",
     "iopub.status.idle": "2024-04-08T14:22:22.256465Z",
     "shell.execute_reply": "2024-04-08T14:22:22.256096Z",
     "shell.execute_reply.started": "2024-04-08T14:22:22.254216Z"
    },
    "slideshow": {
     "slide_type": ""
    },
    "tags": []
   },
   "outputs": [],
   "source": [
    "# asyncio.run(app.run())\n",
    "await app.run()"
   ]
  },
  {
   "cell_type": "code",
   "execution_count": null,
   "id": "014eddca-bc43-4e1f-9926-65c92f324ce7",
   "metadata": {
    "editable": true,
    "slideshow": {
     "slide_type": ""
    },
    "tags": []
   },
   "outputs": [],
   "source": []
  }
 ],
 "metadata": {
  "kernelspec": {
   "display_name": "Python 3 (ipykernel)",
   "language": "python",
   "name": "python3"
  },
  "language_info": {
   "codemirror_mode": {
    "name": "ipython",
    "version": 3
   },
   "file_extension": ".py",
   "mimetype": "text/x-python",
   "name": "python",
   "nbconvert_exporter": "python",
   "pygments_lexer": "ipython3",
   "version": "3.12.2"
  }
 },
 "nbformat": 4,
 "nbformat_minor": 5
}
