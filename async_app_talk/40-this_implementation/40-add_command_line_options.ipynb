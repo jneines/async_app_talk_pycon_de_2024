{
 "cells": [
  {
   "cell_type": "markdown",
   "id": "79b53e98-130a-46b2-891d-35fc25516b93",
   "metadata": {
    "editable": true,
    "slideshow": {
     "slide_type": ""
    },
    "tags": []
   },
   "source": [
    "# Adding command line options\n",
    "\n",
    "Command line argument handling can be added using the [click](https://click.palletsprojects.com) package. It basically works by generating a main entry function, which will be called in the `__main__` context. This function receives some decorators to change the way it is called. `@click.command()` makes it a click command, whereas `@click.option` can be used to add command line arguments. These are passed into the function using keyword arguments in `kwargs` or in expanded arguments, shall they be specified in the function definition."
   ]
  },
  {
   "cell_type": "code",
   "execution_count": 20,
   "id": "22556d7f-5abf-4122-a84b-fb10602b2b8b",
   "metadata": {
    "editable": true,
    "execution": {
     "iopub.execute_input": "2024-04-08T14:06:22.925297Z",
     "iopub.status.busy": "2024-04-08T14:06:22.925080Z",
     "iopub.status.idle": "2024-04-08T14:06:22.927712Z",
     "shell.execute_reply": "2024-04-08T14:06:22.927280Z",
     "shell.execute_reply.started": "2024-04-08T14:06:22.925281Z"
    },
    "slideshow": {
     "slide_type": ""
    },
    "tags": []
   },
   "outputs": [],
   "source": [
    "import click\n",
    "from click.testing import CliRunner"
   ]
  },
  {
   "cell_type": "code",
   "execution_count": 21,
   "id": "284b4510-2045-417c-9b6e-308efe4f3e93",
   "metadata": {
    "editable": true,
    "execution": {
     "iopub.execute_input": "2024-04-08T14:06:23.419211Z",
     "iopub.status.busy": "2024-04-08T14:06:23.418947Z",
     "iopub.status.idle": "2024-04-08T14:06:23.422839Z",
     "shell.execute_reply": "2024-04-08T14:06:23.422186Z",
     "shell.execute_reply.started": "2024-04-08T14:06:23.419195Z"
    },
    "slideshow": {
     "slide_type": ""
    },
    "tags": []
   },
   "outputs": [],
   "source": [
    "@click.command()\n",
    "@click.option(\"-n\", \"--name\", type=str, required=True, help=\"Select a name\")\n",
    "def run(name):\n",
    "    print(f\"Running with option {name=}.\")"
   ]
  },
  {
   "cell_type": "code",
   "execution_count": 22,
   "id": "bcee48de-4d01-483c-8423-140672806df1",
   "metadata": {
    "editable": true,
    "execution": {
     "iopub.execute_input": "2024-04-08T14:06:23.920477Z",
     "iopub.status.busy": "2024-04-08T14:06:23.920191Z",
     "iopub.status.idle": "2024-04-08T14:06:23.924306Z",
     "shell.execute_reply": "2024-04-08T14:06:23.923768Z",
     "shell.execute_reply.started": "2024-04-08T14:06:23.920462Z"
    },
    "slideshow": {
     "slide_type": ""
    },
    "tags": []
   },
   "outputs": [
    {
     "name": "stdout",
     "output_type": "stream",
     "text": [
      "Usage: run [OPTIONS]\n",
      "Try 'run --help' for help.\n",
      "\n",
      "Error: Missing option '-n' / '--name'.\n",
      "\n"
     ]
    }
   ],
   "source": [
    "runner = CliRunner()\n",
    "result = runner.invoke(run)\n",
    "print(result.output)"
   ]
  },
  {
   "cell_type": "code",
   "execution_count": 23,
   "id": "edc3774b-6a0f-44c9-bc1f-9437e0b662c7",
   "metadata": {
    "editable": true,
    "execution": {
     "iopub.execute_input": "2024-04-08T14:06:26.036771Z",
     "iopub.status.busy": "2024-04-08T14:06:26.036172Z",
     "iopub.status.idle": "2024-04-08T14:06:26.040691Z",
     "shell.execute_reply": "2024-04-08T14:06:26.040144Z",
     "shell.execute_reply.started": "2024-04-08T14:06:26.036757Z"
    },
    "slideshow": {
     "slide_type": ""
    },
    "tags": []
   },
   "outputs": [
    {
     "name": "stdout",
     "output_type": "stream",
     "text": [
      "Running with option name='Pete'.\n",
      "\n"
     ]
    }
   ],
   "source": [
    "result = runner.invoke(run, [\"--name\", \"Pete\"])\n",
    "print(result.output)"
   ]
  },
  {
   "cell_type": "markdown",
   "id": "e1626697-86ac-49be-aa0e-c7a07917936d",
   "metadata": {
    "editable": true,
    "slideshow": {
     "slide_type": ""
    },
    "tags": []
   },
   "source": [
    "For the AsyncApp there are a few default options available to enable monitoring and setting the verbosity level, which can be imported from the `async_app.app_factory` module."
   ]
  },
  {
   "cell_type": "code",
   "execution_count": 24,
   "id": "a3865b19-4787-4d9e-a1e0-bb7bfd9c2b3a",
   "metadata": {
    "editable": true,
    "execution": {
     "iopub.execute_input": "2024-04-08T14:06:29.472583Z",
     "iopub.status.busy": "2024-04-08T14:06:29.472363Z",
     "iopub.status.idle": "2024-04-08T14:06:29.476951Z",
     "shell.execute_reply": "2024-04-08T14:06:29.476421Z",
     "shell.execute_reply.started": "2024-04-08T14:06:29.472567Z"
    },
    "slideshow": {
     "slide_type": ""
    },
    "tags": [
     "remove-cell"
    ]
   },
   "outputs": [],
   "source": [
    "def set_verbosity(verbose):\n",
    "    pass\n",
    "    \n",
    "_async_app_options = [\n",
    "    click.option(\n",
    "        \"-v\",\n",
    "        \"--verbose\",\n",
    "        envvar=\"VERBOSE\",\n",
    "        count=True,\n",
    "        callback=set_verbosity,\n",
    "        help=\"Increase verbosity\",\n",
    "    ),\n",
    "    click.option(\n",
    "        \"-pmf\",\n",
    "        \"--process-monitoring-frequency\",\n",
    "        envvar=\"PROCESS_MONITORING_FREQUENCY\",\n",
    "        type=int,\n",
    "        default=0,\n",
    "        show_default=True,\n",
    "        help=\"Set process monitoring frequency in Hz. '0' means to not monitor at all. \",\n",
    "    ),\n",
    "    click.option(\n",
    "        \"-smf\",\n",
    "        \"--system-monitoring-frequency\",\n",
    "        envvar=\"SYSTEM_MONITORING_FREQUENCY\",\n",
    "        type=int,\n",
    "        default=0,\n",
    "        show_default=True,\n",
    "        help=\"Set system monitoring frequency in Hz. '0' means to not monitor at all. \",\n",
    "    ),\n",
    "    click.option(\n",
    "        \"-tmf\",\n",
    "        \"--task-monitoring-frequency\",\n",
    "        envvar=\"TASK_MONITORING_FREQUENCY\",\n",
    "        type=int,\n",
    "        default=0,\n",
    "        show_default=True,\n",
    "        help=\"Set task monitoring frequency in Hz. '0' means to not monitor at all. \",\n",
    "    ),\n",
    "    click.option(\n",
    "        \"-rmf\",\n",
    "        \"--periodicals-monitoring-frequency\",\n",
    "        envvar=\"PERIODICALS_MONITORING_FREQUENCY\",\n",
    "        type=int,\n",
    "        default=0,\n",
    "        show_default=True,\n",
    "        help=\"Set periodicals monitoring frequency in Hz. '0' means to not monitor at all. \",\n",
    "    ),\n",
    "]\n",
    "\n",
    "\n",
    "def async_app_options(func):\n",
    "    for option in reversed(_async_app_options):\n",
    "        func = option(func)\n",
    "    return func"
   ]
  },
  {
   "cell_type": "code",
   "execution_count": 25,
   "id": "f42280c9-1811-44a7-b553-b2a85c2f9909",
   "metadata": {
    "editable": true,
    "execution": {
     "iopub.execute_input": "2024-04-08T14:06:30.124754Z",
     "iopub.status.busy": "2024-04-08T14:06:30.124302Z",
     "iopub.status.idle": "2024-04-08T14:06:30.127131Z",
     "shell.execute_reply": "2024-04-08T14:06:30.126723Z",
     "shell.execute_reply.started": "2024-04-08T14:06:30.124739Z"
    },
    "slideshow": {
     "slide_type": ""
    },
    "tags": []
   },
   "outputs": [],
   "source": [
    "@click.command()\n",
    "@async_app_options\n",
    "def main(**kwargs):\n",
    "    print(f\"Running with {kwargs=}\")"
   ]
  },
  {
   "cell_type": "code",
   "execution_count": 26,
   "id": "5d847082-e11a-47c2-a73c-92c707b038f7",
   "metadata": {
    "editable": true,
    "execution": {
     "iopub.execute_input": "2024-04-08T14:06:30.468365Z",
     "iopub.status.busy": "2024-04-08T14:06:30.468126Z",
     "iopub.status.idle": "2024-04-08T14:06:30.472365Z",
     "shell.execute_reply": "2024-04-08T14:06:30.471766Z",
     "shell.execute_reply.started": "2024-04-08T14:06:30.468350Z"
    },
    "slideshow": {
     "slide_type": ""
    },
    "tags": []
   },
   "outputs": [
    {
     "name": "stdout",
     "output_type": "stream",
     "text": [
      "Usage: main [OPTIONS]\n",
      "\n",
      "Options:\n",
      "  -v, --verbose                   Increase verbosity\n",
      "  -pmf, --process-monitoring-frequency INTEGER\n",
      "                                  Set process monitoring frequency in Hz. '0'\n",
      "                                  means to not monitor at all.   [default: 0]\n",
      "  -smf, --system-monitoring-frequency INTEGER\n",
      "                                  Set system monitoring frequency in Hz. '0'\n",
      "                                  means to not monitor at all.   [default: 0]\n",
      "  -tmf, --task-monitoring-frequency INTEGER\n",
      "                                  Set task monitoring frequency in Hz. '0' means\n",
      "                                  to not monitor at all.   [default: 0]\n",
      "  -rmf, --periodicals-monitoring-frequency INTEGER\n",
      "                                  Set periodicals monitoring frequency in Hz.\n",
      "                                  '0' means to not monitor at all.   [default:\n",
      "                                  0]\n",
      "  --help                          Show this message and exit.\n",
      "\n"
     ]
    }
   ],
   "source": [
    "result = runner.invoke(main, [\"--help\"])\n",
    "print(result.output)"
   ]
  },
  {
   "cell_type": "code",
   "execution_count": null,
   "id": "9a2b424e-e248-4cbf-b7ec-39240b9ebcbd",
   "metadata": {
    "editable": true,
    "slideshow": {
     "slide_type": ""
    },
    "tags": []
   },
   "outputs": [],
   "source": []
  }
 ],
 "metadata": {
  "kernelspec": {
   "display_name": "Python 3 (ipykernel)",
   "language": "python",
   "name": "python3"
  },
  "language_info": {
   "codemirror_mode": {
    "name": "ipython",
    "version": 3
   },
   "file_extension": ".py",
   "mimetype": "text/x-python",
   "name": "python",
   "nbconvert_exporter": "python",
   "pygments_lexer": "ipython3",
   "version": "3.12.2"
  }
 },
 "nbformat": 4,
 "nbformat_minor": 5
}
