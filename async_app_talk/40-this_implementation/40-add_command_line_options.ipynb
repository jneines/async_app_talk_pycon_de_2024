{
 "cells": [
  {
   "cell_type": "markdown",
   "id": "64c99826-2793-4d3d-a7e0-7a5e20d5e122",
   "metadata": {
    "editable": true,
    "slideshow": {
     "slide_type": ""
    },
    "tags": []
   },
   "source": [
    "# Adding command line options"
   ]
  },
  {
   "cell_type": "markdown",
   "id": "aa3c65c9-c463-4338-9e62-17a4873de5b6",
   "metadata": {
    "editable": true,
    "slideshow": {
     "slide_type": ""
    },
    "tags": []
   },
   "source": [
    "The next requirement for our Framework is to allow command line argument handling."
   ]
  },
  {
   "cell_type": "markdown",
   "id": "ffb3db08-fa66-4659-83a9-9449f1e907bd",
   "metadata": {
    "editable": true,
    "slideshow": {
     "slide_type": ""
    },
    "tags": []
   },
   "source": [
    "Ths can be added using the [click](https://click.palletsprojects.com) package. It basically works by generating a main entry function, which will be called in the `__main__` context. This function receives some decorators to change the way it is called. `@click.command()` makes it a click command, whereas `@click.option` can be used to add command line arguments. These are passed into the function using keyword arguments in `kwargs` or in expanded arguments, shall they be specified in the function definition."
   ]
  },
  {
   "cell_type": "code",
   "execution_count": 1,
   "id": "22556d7f-5abf-4122-a84b-fb10602b2b8b",
   "metadata": {
    "editable": true,
    "execution": {
     "iopub.execute_input": "2024-04-14T17:27:51.500502Z",
     "iopub.status.busy": "2024-04-14T17:27:51.500289Z",
     "iopub.status.idle": "2024-04-14T17:27:51.521918Z",
     "shell.execute_reply": "2024-04-14T17:27:51.521452Z",
     "shell.execute_reply.started": "2024-04-14T17:27:51.500484Z"
    },
    "slideshow": {
     "slide_type": ""
    },
    "tags": []
   },
   "outputs": [],
   "source": [
    "import click\n",
    "from click.testing import CliRunner"
   ]
  },
  {
   "cell_type": "code",
   "execution_count": 2,
   "id": "284b4510-2045-417c-9b6e-308efe4f3e93",
   "metadata": {
    "editable": true,
    "execution": {
     "iopub.execute_input": "2024-04-14T17:27:51.522951Z",
     "iopub.status.busy": "2024-04-14T17:27:51.522637Z",
     "iopub.status.idle": "2024-04-14T17:27:51.525785Z",
     "shell.execute_reply": "2024-04-14T17:27:51.525226Z",
     "shell.execute_reply.started": "2024-04-14T17:27:51.522936Z"
    },
    "slideshow": {
     "slide_type": ""
    },
    "tags": []
   },
   "outputs": [],
   "source": [
    "@click.command()\n",
    "@click.option(\"-n\", \"--name\", type=str, required=True, help=\"Select a name\")\n",
    "def run(name):\n",
    "    print(f\"Running with option {name=}.\")"
   ]
  },
  {
   "cell_type": "code",
   "execution_count": 3,
   "id": "bcee48de-4d01-483c-8423-140672806df1",
   "metadata": {
    "editable": true,
    "execution": {
     "iopub.execute_input": "2024-04-14T17:27:51.526946Z",
     "iopub.status.busy": "2024-04-14T17:27:51.526651Z",
     "iopub.status.idle": "2024-04-14T17:27:51.530750Z",
     "shell.execute_reply": "2024-04-14T17:27:51.530381Z",
     "shell.execute_reply.started": "2024-04-14T17:27:51.526932Z"
    },
    "slideshow": {
     "slide_type": ""
    },
    "tags": []
   },
   "outputs": [
    {
     "name": "stdout",
     "output_type": "stream",
     "text": [
      "Usage: run [OPTIONS]\n",
      "Try 'run --help' for help.\n",
      "\n",
      "Error: Missing option '-n' / '--name'.\n",
      "\n"
     ]
    }
   ],
   "source": [
    "runner = CliRunner()\n",
    "result = runner.invoke(run)\n",
    "print(result.output)"
   ]
  },
  {
   "cell_type": "code",
   "execution_count": 4,
   "id": "edc3774b-6a0f-44c9-bc1f-9437e0b662c7",
   "metadata": {
    "editable": true,
    "execution": {
     "iopub.execute_input": "2024-04-14T17:27:51.531587Z",
     "iopub.status.busy": "2024-04-14T17:27:51.531346Z",
     "iopub.status.idle": "2024-04-14T17:27:51.534708Z",
     "shell.execute_reply": "2024-04-14T17:27:51.534291Z",
     "shell.execute_reply.started": "2024-04-14T17:27:51.531572Z"
    },
    "slideshow": {
     "slide_type": ""
    },
    "tags": []
   },
   "outputs": [
    {
     "name": "stdout",
     "output_type": "stream",
     "text": [
      "Running with option name='Pete'.\n",
      "\n"
     ]
    }
   ],
   "source": [
    "result = runner.invoke(run, [\"--name\", \"Pete\"])\n",
    "print(result.output)"
   ]
  },
  {
   "cell_type": "code",
   "execution_count": null,
   "id": "9a2b424e-e248-4cbf-b7ec-39240b9ebcbd",
   "metadata": {
    "editable": true,
    "slideshow": {
     "slide_type": ""
    },
    "tags": []
   },
   "outputs": [],
   "source": []
  }
 ],
 "metadata": {
  "kernelspec": {
   "display_name": "Python 3 (ipykernel)",
   "language": "python",
   "name": "python3"
  },
  "language_info": {
   "codemirror_mode": {
    "name": "ipython",
    "version": 3
   },
   "file_extension": ".py",
   "mimetype": "text/x-python",
   "name": "python",
   "nbconvert_exporter": "python",
   "pygments_lexer": "ipython3",
   "version": "3.12.2"
  }
 },
 "nbformat": 4,
 "nbformat_minor": 5
}
