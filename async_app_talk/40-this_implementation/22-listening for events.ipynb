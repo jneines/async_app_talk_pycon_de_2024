{
 "cells": [
  {
   "cell_type": "markdown",
   "id": "e0c9af46-10e3-48eb-994a-47e79abd2ad5",
   "metadata": {
    "editable": true,
    "slideshow": {
     "slide_type": ""
    },
    "tags": []
   },
   "source": [
    "# Listening for events"
   ]
  },
  {
   "cell_type": "markdown",
   "id": "7a0f874b-2656-414b-af2b-d3a4e5375347",
   "metadata": {
    "editable": true,
    "slideshow": {
     "slide_type": ""
    },
    "tags": []
   },
   "source": [
    "Another requirement was to be able to listen for events.\n",
    "This can quite often lead to deadlocks due to a blocking behaviour. \n",
    "We need to find a smart way to circumvent this."
   ]
  },
  {
   "cell_type": "code",
   "execution_count": 1,
   "id": "5cee028b-6ea9-4d67-99f5-ce53438b6d21",
   "metadata": {
    "editable": true,
    "execution": {
     "iopub.execute_input": "2024-04-14T10:11:48.235280Z",
     "iopub.status.busy": "2024-04-14T10:11:48.235118Z",
     "iopub.status.idle": "2024-04-14T10:11:48.241136Z",
     "shell.execute_reply": "2024-04-14T10:11:48.240703Z",
     "shell.execute_reply.started": "2024-04-14T10:11:48.235262Z"
    },
    "slideshow": {
     "slide_type": ""
    },
    "tags": []
   },
   "outputs": [],
   "source": [
    "import asyncio\n",
    "import async_timeout\n",
    "import random\n",
    "import time\n",
    "\n",
    "import app_state  # for singleton 'keep_running'"
   ]
  },
  {
   "cell_type": "code",
   "execution_count": 2,
   "id": "1886f85f-57f3-438a-9f1b-36421d5a7af7",
   "metadata": {
    "editable": true,
    "execution": {
     "iopub.execute_input": "2024-04-14T10:11:48.242109Z",
     "iopub.status.busy": "2024-04-14T10:11:48.241854Z",
     "iopub.status.idle": "2024-04-14T10:11:48.245459Z",
     "shell.execute_reply": "2024-04-14T10:11:48.245060Z",
     "shell.execute_reply.started": "2024-04-14T10:11:48.242093Z"
    },
    "raw_mimetype": "",
    "slideshow": {
     "slide_type": ""
    },
    "tags": [
     "remove-cell"
    ]
   },
   "outputs": [],
   "source": [
    "# override print to allow showing the output in one cell as it was printed in a terminal\n",
    "import os\n",
    "\n",
    "real_print = print\n",
    "lines = []\n",
    "def print(text):\n",
    "    global lines\n",
    "    lines.append(text)"
   ]
  },
  {
   "cell_type": "markdown",
   "id": "91d6a013-476d-4475-af8c-835a31f1e684",
   "metadata": {
    "editable": true,
    "slideshow": {
     "slide_type": ""
    },
    "tags": []
   },
   "source": [
    "Here's a simple event source emulatin events occuring randomly within a configurable timespan."
   ]
  },
  {
   "cell_type": "code",
   "execution_count": 3,
   "id": "479b0699-3b4d-4e65-bea8-602a87742c0a",
   "metadata": {
    "editable": true,
    "execution": {
     "iopub.execute_input": "2024-04-14T10:11:48.246416Z",
     "iopub.status.busy": "2024-04-14T10:11:48.246197Z",
     "iopub.status.idle": "2024-04-14T10:11:48.250626Z",
     "shell.execute_reply": "2024-04-14T10:11:48.249482Z",
     "shell.execute_reply.started": "2024-04-14T10:11:48.246402Z"
    },
    "slideshow": {
     "slide_type": ""
    },
    "tags": []
   },
   "outputs": [],
   "source": [
    "class EventSource(object):\n",
    "    def __init__(self, max_timespan=2):\n",
    "        self.max_timespan = max_timespan\n",
    "\n",
    "    async def read(self):\n",
    "        await asyncio.sleep(self.max_timespan * random.random())\n",
    "        return \"Hello\"\n",
    "\n",
    "event_source = EventSource(1.5)"
   ]
  },
  {
   "cell_type": "markdown",
   "id": "40b4fd5e-6c73-4373-99be-35fca55fd314",
   "metadata": {
    "editable": true,
    "slideshow": {
     "slide_type": ""
    },
    "tags": []
   },
   "source": [
    "And here is a callback that shall be executed by the `event_listener` on every event."
   ]
  },
  {
   "cell_type": "code",
   "execution_count": 4,
   "id": "52a76516-cf18-4abc-b51c-92b217d4081e",
   "metadata": {
    "editable": true,
    "execution": {
     "iopub.execute_input": "2024-04-14T10:11:48.251521Z",
     "iopub.status.busy": "2024-04-14T10:11:48.251383Z",
     "iopub.status.idle": "2024-04-14T10:11:48.253965Z",
     "shell.execute_reply": "2024-04-14T10:11:48.253488Z",
     "shell.execute_reply.started": "2024-04-14T10:11:48.251507Z"
    },
    "slideshow": {
     "slide_type": ""
    },
    "tags": []
   },
   "outputs": [],
   "source": [
    "async def event_notifier(event):\n",
    "    print(f\"New {event=} at {time.perf_counter()-start:.1f} seconds.\")"
   ]
  },
  {
   "cell_type": "markdown",
   "id": "cc2f9591-427a-47fb-99ed-44481d7287da",
   "metadata": {
    "editable": true,
    "slideshow": {
     "slide_type": ""
    },
    "tags": []
   },
   "source": [
    "This is a simplified implementation of the event_listener. In order to make it work just like the other tasks, an `async_timeout` is used to interrupt waiting for events."
   ]
  },
  {
   "cell_type": "code",
   "execution_count": 5,
   "id": "39157156-1c2d-4752-926a-cb7a97d5c5e6",
   "metadata": {
    "editable": true,
    "execution": {
     "iopub.execute_input": "2024-04-14T10:11:48.255033Z",
     "iopub.status.busy": "2024-04-14T10:11:48.254824Z",
     "iopub.status.idle": "2024-04-14T10:11:48.257805Z",
     "shell.execute_reply": "2024-04-14T10:11:48.257293Z",
     "shell.execute_reply.started": "2024-04-14T10:11:48.255017Z"
    },
    "slideshow": {
     "slide_type": ""
    },
    "tags": []
   },
   "outputs": [],
   "source": [
    "async def event_listener(event_source, callback):\n",
    "    while app_state.keep_running:\n",
    "        try:\n",
    "            async with async_timeout.timeout(1):\n",
    "                event = await event_source.read()\n",
    "                if event:\n",
    "                    await callback(event)\n",
    "        except asyncio.TimeoutError:\n",
    "            # no events so far\n",
    "            pass"
   ]
  },
  {
   "cell_type": "code",
   "execution_count": 6,
   "id": "f5107df4-592c-4cd7-b5a7-16d0ff6b1d59",
   "metadata": {
    "editable": true,
    "execution": {
     "iopub.execute_input": "2024-04-14T10:11:48.260368Z",
     "iopub.status.busy": "2024-04-14T10:11:48.260190Z",
     "iopub.status.idle": "2024-04-14T10:11:48.262930Z",
     "shell.execute_reply": "2024-04-14T10:11:48.262416Z",
     "shell.execute_reply.started": "2024-04-14T10:11:48.260353Z"
    },
    "slideshow": {
     "slide_type": ""
    },
    "tags": []
   },
   "outputs": [],
   "source": [
    "async def run_forever():\n",
    "    while app_state.keep_running:\n",
    "        print(f\"Still running @ {time.perf_counter()-start:.1f} seconds\")\n",
    "        await asyncio.sleep(1)\n",
    "    print(\"Done with all the work.\")"
   ]
  },
  {
   "cell_type": "code",
   "execution_count": 7,
   "id": "65f24588-8b98-47fc-a40e-92b670276ab6",
   "metadata": {
    "editable": true,
    "execution": {
     "iopub.execute_input": "2024-04-14T10:11:48.263931Z",
     "iopub.status.busy": "2024-04-14T10:11:48.263764Z",
     "iopub.status.idle": "2024-04-14T10:11:48.266203Z",
     "shell.execute_reply": "2024-04-14T10:11:48.265752Z",
     "shell.execute_reply.started": "2024-04-14T10:11:48.263917Z"
    },
    "slideshow": {
     "slide_type": ""
    },
    "tags": []
   },
   "outputs": [],
   "source": [
    "async def exit_after(exit_after):\n",
    "    await asyncio.sleep(exit_after)\n",
    "    app_state.keep_running = False"
   ]
  },
  {
   "cell_type": "code",
   "execution_count": 8,
   "id": "cfef4aa1-df37-4529-964b-1ba8d8a8338e",
   "metadata": {
    "editable": true,
    "execution": {
     "iopub.execute_input": "2024-04-14T10:11:48.267064Z",
     "iopub.status.busy": "2024-04-14T10:11:48.266809Z",
     "iopub.status.idle": "2024-04-14T10:11:54.020086Z",
     "shell.execute_reply": "2024-04-14T10:11:54.019294Z",
     "shell.execute_reply.started": "2024-04-14T10:11:48.267050Z"
    },
    "slideshow": {
     "slide_type": ""
    },
    "tags": []
   },
   "outputs": [],
   "source": [
    "app_state.keep_running = True\n",
    "start = time.perf_counter()\n",
    "\n",
    "_ = await asyncio.gather(\n",
    "    exit_after(5),\n",
    "    run_forever(),\n",
    "    event_listener(event_source, event_notifier),\n",
    ")\n",
    "\n",
    "end = time.perf_counter()\n",
    "print(f\"Execution finished after {end-start:.1f} seconds.\")"
   ]
  },
  {
   "cell_type": "code",
   "execution_count": 9,
   "id": "e969ec05-f47c-4d29-be42-1c357dcaece0",
   "metadata": {
    "editable": true,
    "execution": {
     "iopub.execute_input": "2024-04-14T10:11:54.021842Z",
     "iopub.status.busy": "2024-04-14T10:11:54.021387Z",
     "iopub.status.idle": "2024-04-14T10:11:54.024700Z",
     "shell.execute_reply": "2024-04-14T10:11:54.024285Z",
     "shell.execute_reply.started": "2024-04-14T10:11:54.021822Z"
    },
    "raw_mimetype": "",
    "slideshow": {
     "slide_type": ""
    },
    "tags": [
     "remove-input"
    ]
   },
   "outputs": [
    {
     "name": "stdout",
     "output_type": "stream",
     "text": [
      "Still running @ 0.0 seconds\n",
      "Still running @ 1.0 seconds\n",
      "New event='Hello' at 1.4 seconds.\n",
      "Still running @ 2.0 seconds\n",
      "Still running @ 3.0 seconds\n",
      "Still running @ 4.0 seconds\n",
      "New event='Hello' at 4.2 seconds.\n",
      "New event='Hello' at 4.7 seconds.\n",
      "Done with all the work.\n",
      "Execution finished after 5.7 seconds.\n"
     ]
    }
   ],
   "source": [
    "real_print(\"\\n\".join(lines))\n",
    "lines = []"
   ]
  },
  {
   "cell_type": "code",
   "execution_count": null,
   "id": "558eb75b-0c00-4b35-82dd-d7e141a68416",
   "metadata": {
    "editable": true,
    "slideshow": {
     "slide_type": ""
    },
    "tags": []
   },
   "outputs": [],
   "source": []
  }
 ],
 "metadata": {
  "kernelspec": {
   "display_name": "Python 3 (ipykernel)",
   "language": "python",
   "name": "python3"
  },
  "language_info": {
   "codemirror_mode": {
    "name": "ipython",
    "version": 3
   },
   "file_extension": ".py",
   "mimetype": "text/x-python",
   "name": "python",
   "nbconvert_exporter": "python",
   "pygments_lexer": "ipython3",
   "version": "3.12.2"
  }
 },
 "nbformat": 4,
 "nbformat_minor": 5
}
