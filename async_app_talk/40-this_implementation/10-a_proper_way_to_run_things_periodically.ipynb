{
 "cells": [
  {
   "cell_type": "markdown",
   "id": "d0fda604-0ac7-4224-bd09-c950215d1b66",
   "metadata": {
    "editable": true,
    "slideshow": {
     "slide_type": ""
    },
    "tags": []
   },
   "source": [
    "# A proper way to run things periodically"
   ]
  },
  {
   "cell_type": "markdown",
   "id": "41fe7cd7-41c7-4179-a623-9c67043f339d",
   "metadata": {
    "editable": true,
    "slideshow": {
     "slide_type": ""
    },
    "tags": []
   },
   "source": [
    "One of our core requirements is to be able to call things periodically. \n",
    "To allow good accuracy in the timing, special care has to be taken.\n",
    "Let's have a closer look ..."
   ]
  },
  {
   "cell_type": "code",
   "execution_count": 1,
   "id": "9bc21746-4630-49ad-9f57-3cce6bcb1d23",
   "metadata": {
    "editable": true,
    "execution": {
     "iopub.execute_input": "2024-04-14T17:14:55.490983Z",
     "iopub.status.busy": "2024-04-14T17:14:55.490716Z",
     "iopub.status.idle": "2024-04-14T17:14:55.497621Z",
     "shell.execute_reply": "2024-04-14T17:14:55.497180Z",
     "shell.execute_reply.started": "2024-04-14T17:14:55.490964Z"
    },
    "slideshow": {
     "slide_type": ""
    },
    "tags": []
   },
   "outputs": [],
   "source": [
    "import time\n",
    "import random\n",
    "import asyncio\n",
    "\n",
    "import app_state  # for singleton 'keep_running'"
   ]
  },
  {
   "cell_type": "code",
   "execution_count": 2,
   "id": "221d79f1-70c6-4a27-acfd-8477942f2f6c",
   "metadata": {
    "editable": true,
    "execution": {
     "iopub.execute_input": "2024-04-14T17:14:55.498593Z",
     "iopub.status.busy": "2024-04-14T17:14:55.498336Z",
     "iopub.status.idle": "2024-04-14T17:14:55.502324Z",
     "shell.execute_reply": "2024-04-14T17:14:55.501785Z",
     "shell.execute_reply.started": "2024-04-14T17:14:55.498577Z"
    },
    "slideshow": {
     "slide_type": ""
    },
    "tags": [
     "remove-cell"
    ]
   },
   "outputs": [],
   "source": [
    "# override print to allow showing the output in one cell as it was printed in a terminal\n",
    "import os\n",
    "\n",
    "real_print = print\n",
    "lines = []\n",
    "def print(text):\n",
    "    global lines\n",
    "    lines.append(text)"
   ]
  },
  {
   "cell_type": "code",
   "execution_count": 3,
   "id": "feb4a54c-dd07-4ce4-8492-ba0458238340",
   "metadata": {
    "editable": true,
    "execution": {
     "iopub.execute_input": "2024-04-14T17:14:55.503343Z",
     "iopub.status.busy": "2024-04-14T17:14:55.503131Z",
     "iopub.status.idle": "2024-04-14T17:14:55.506582Z",
     "shell.execute_reply": "2024-04-14T17:14:55.506132Z",
     "shell.execute_reply.started": "2024-04-14T17:14:55.503328Z"
    },
    "slideshow": {
     "slide_type": ""
    },
    "tags": []
   },
   "outputs": [],
   "source": [
    "exit_after = 5    # seconds\n",
    "call_every = 0.5  # seconds\n",
    "print(f\"Work will be done after {exit_after:.1f} seconds.\")"
   ]
  },
  {
   "cell_type": "code",
   "execution_count": 4,
   "id": "b8d22db0-c64f-402b-b8e7-a58b1af905a6",
   "metadata": {
    "editable": true,
    "execution": {
     "iopub.execute_input": "2024-04-14T17:14:55.507525Z",
     "iopub.status.busy": "2024-04-14T17:14:55.507247Z",
     "iopub.status.idle": "2024-04-14T17:14:55.509741Z",
     "shell.execute_reply": "2024-04-14T17:14:55.509357Z",
     "shell.execute_reply.started": "2024-04-14T17:14:55.507510Z"
    },
    "slideshow": {
     "slide_type": ""
    },
    "tags": [
     "remove-input"
    ]
   },
   "outputs": [
    {
     "name": "stdout",
     "output_type": "stream",
     "text": [
      "Work will be done after 5.0 seconds.\n"
     ]
    }
   ],
   "source": [
    "real_print(\"\\n\".join(lines))\n",
    "lines = []"
   ]
  },
  {
   "cell_type": "markdown",
   "id": "6f15f6d2-a404-46ec-9139-c3d0dc04cf7e",
   "metadata": {
    "editable": true,
    "slideshow": {
     "slide_type": ""
    },
    "tags": []
   },
   "source": [
    "Here's an example of a blocking work load that should be called periodically."
   ]
  },
  {
   "cell_type": "code",
   "execution_count": 5,
   "id": "3b6c0f0e-16ca-402d-aef7-6d7c1621dd63",
   "metadata": {
    "editable": true,
    "execution": {
     "iopub.execute_input": "2024-04-14T17:14:55.510778Z",
     "iopub.status.busy": "2024-04-14T17:14:55.510538Z",
     "iopub.status.idle": "2024-04-14T17:14:55.513402Z",
     "shell.execute_reply": "2024-04-14T17:14:55.512935Z",
     "shell.execute_reply.started": "2024-04-14T17:14:55.510762Z"
    },
    "slideshow": {
     "slide_type": ""
    },
    "tags": [
     "remove-cell"
    ]
   },
   "outputs": [],
   "source": [
    "def do_work():\n",
    "    work_for = call_every * random.random()\n",
    "    time.sleep(work_for)\n",
    "    print(f\"Done with work item @{time.perf_counter() - start:.1f} seconds.\")"
   ]
  },
  {
   "cell_type": "markdown",
   "id": "8050eee4-94c9-4c1d-8072-464151b5a129",
   "metadata": {
    "editable": true,
    "slideshow": {
     "slide_type": ""
    },
    "tags": []
   },
   "source": [
    "And this function helps us terminating everything when the time has come."
   ]
  },
  {
   "cell_type": "code",
   "execution_count": 10,
   "id": "c8adc613-dcdd-4af5-b1f0-e239ad6ac973",
   "metadata": {
    "editable": true,
    "execution": {
     "iopub.execute_input": "2024-04-14T17:18:16.763453Z",
     "iopub.status.busy": "2024-04-14T17:18:16.763226Z",
     "iopub.status.idle": "2024-04-14T17:18:16.766079Z",
     "shell.execute_reply": "2024-04-14T17:18:16.765604Z",
     "shell.execute_reply.started": "2024-04-14T17:18:16.763437Z"
    },
    "slideshow": {
     "slide_type": ""
    },
    "tags": []
   },
   "outputs": [],
   "source": [
    "async def exit_after(exit_after):\n",
    "    \n",
    "    await asyncio.sleep(exit_after)\n",
    "    app_state.keep_running = False"
   ]
  },
  {
   "cell_type": "markdown",
   "id": "7f71f74f-6a0f-485c-837b-e5abc1b4a704",
   "metadata": {
    "editable": true,
    "slideshow": {
     "slide_type": ""
    },
    "tags": []
   },
   "source": [
    "The actual asynchronouse implementation simply wraps the calls in an endless `while` loop.\n",
    "Execution time of the callback is measured to modify the final sleep time.\n",
    "By doing so the timing can be kept.\n",
    "The function terminates if the singleton `app_state.keep_running` has been set to `False` somewhere."
   ]
  },
  {
   "cell_type": "code",
   "execution_count": 11,
   "id": "edc71f05-a9e5-43a4-a865-b7a10e46df36",
   "metadata": {
    "editable": true,
    "execution": {
     "iopub.execute_input": "2024-04-14T17:19:59.537427Z",
     "iopub.status.busy": "2024-04-14T17:19:59.537213Z",
     "iopub.status.idle": "2024-04-14T17:19:59.540293Z",
     "shell.execute_reply": "2024-04-14T17:19:59.539756Z",
     "shell.execute_reply.started": "2024-04-14T17:19:59.537411Z"
    },
    "slideshow": {
     "slide_type": ""
    },
    "tags": []
   },
   "outputs": [],
   "source": [
    "async def periodically(call_every, callback):\n",
    "    while app_state.keep_running:\n",
    "        \n",
    "        tic  = time.perf_counter()\n",
    "        callback()\n",
    "        toc = time.perf_counter()\n",
    "    \n",
    "        sleep_for = max(0, call_every - (toc - tic))\n",
    "        await asyncio.sleep(sleep_for)"
   ]
  },
  {
   "cell_type": "markdown",
   "id": "4cae5295-515a-4107-8d7a-5adcb888aea9",
   "metadata": {
    "editable": true,
    "slideshow": {
     "slide_type": ""
    },
    "tags": []
   },
   "source": [
    "And this is how it looks like ..."
   ]
  },
  {
   "cell_type": "code",
   "execution_count": 12,
   "id": "adb22046-f8a3-48b4-82ab-46e015173b0f",
   "metadata": {
    "editable": true,
    "execution": {
     "iopub.execute_input": "2024-04-14T17:19:59.953879Z",
     "iopub.status.busy": "2024-04-14T17:19:59.953668Z",
     "iopub.status.idle": "2024-04-14T17:20:04.969475Z",
     "shell.execute_reply": "2024-04-14T17:20:04.968627Z",
     "shell.execute_reply.started": "2024-04-14T17:19:59.953863Z"
    },
    "slideshow": {
     "slide_type": ""
    },
    "tags": []
   },
   "outputs": [],
   "source": [
    "app_state.keep_running = True\n",
    "\n",
    "start = time.perf_counter()\n",
    "_ = await asyncio.gather(\n",
    "    exit_after(5),\n",
    "    periodically(call_every, lambda : do_work())\n",
    ")\n",
    "end = time.perf_counter()\n",
    "print(f\"All work completed after {end - start:.1f} seconds.\")"
   ]
  },
  {
   "cell_type": "code",
   "execution_count": 13,
   "id": "9504ca22-bae1-4a75-ac43-099162bc9719",
   "metadata": {
    "editable": true,
    "execution": {
     "iopub.execute_input": "2024-04-14T17:20:04.970799Z",
     "iopub.status.busy": "2024-04-14T17:20:04.970469Z",
     "iopub.status.idle": "2024-04-14T17:20:04.973885Z",
     "shell.execute_reply": "2024-04-14T17:20:04.973412Z",
     "shell.execute_reply.started": "2024-04-14T17:20:04.970779Z"
    },
    "slideshow": {
     "slide_type": ""
    },
    "tags": [
     "remove-input"
    ]
   },
   "outputs": [
    {
     "name": "stdout",
     "output_type": "stream",
     "text": [
      "Done with work item @0.1 seconds.\n",
      "Done with work item @0.6 seconds.\n",
      "Done with work item @1.1 seconds.\n",
      "Done with work item @1.7 seconds.\n",
      "Done with work item @2.1 seconds.\n",
      "Done with work item @3.0 seconds.\n",
      "Done with work item @3.0 seconds.\n",
      "Done with work item @3.6 seconds.\n",
      "Done with work item @4.4 seconds.\n",
      "Done with work item @4.9 seconds.\n",
      "All work completed after 5.0 seconds.\n"
     ]
    }
   ],
   "source": [
    "real_print(\"\\n\".join(lines))\n",
    "lines = []"
   ]
  },
  {
   "cell_type": "markdown",
   "id": "30ea890b-6e01-4336-ba4c-8af77f8a76b8",
   "metadata": {
    "editable": true,
    "slideshow": {
     "slide_type": ""
    },
    "tags": []
   },
   "source": [
    "That's it!"
   ]
  },
  {
   "cell_type": "code",
   "execution_count": null,
   "id": "e443f172-a726-450e-aa98-4b740b663802",
   "metadata": {
    "editable": true,
    "slideshow": {
     "slide_type": ""
    },
    "tags": []
   },
   "outputs": [],
   "source": []
  }
 ],
 "metadata": {
  "kernelspec": {
   "display_name": "Python 3 (ipykernel)",
   "language": "python",
   "name": "python3"
  },
  "language_info": {
   "codemirror_mode": {
    "name": "ipython",
    "version": 3
   },
   "file_extension": ".py",
   "mimetype": "text/x-python",
   "name": "python",
   "nbconvert_exporter": "python",
   "pygments_lexer": "ipython3",
   "version": "3.12.2"
  }
 },
 "nbformat": 4,
 "nbformat_minor": 5
}
