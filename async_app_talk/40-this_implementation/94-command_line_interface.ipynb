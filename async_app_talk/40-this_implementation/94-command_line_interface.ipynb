{
 "cells": [
  {
   "cell_type": "markdown",
   "id": "6dd026e3-385c-4d70-91d8-f3437d83cdac",
   "metadata": {
    "editable": true,
    "slideshow": {
     "slide_type": ""
    },
    "tags": []
   },
   "source": [
    "# The command line interface"
   ]
  },
  {
   "cell_type": "code",
   "execution_count": 1,
   "id": "5b4b44c5-00a0-49b9-827c-4476e35ff14c",
   "metadata": {
    "editable": true,
    "execution": {
     "iopub.execute_input": "2024-04-14T17:57:23.741652Z",
     "iopub.status.busy": "2024-04-14T17:57:23.741425Z",
     "iopub.status.idle": "2024-04-14T17:57:23.774285Z",
     "shell.execute_reply": "2024-04-14T17:57:23.773862Z",
     "shell.execute_reply.started": "2024-04-14T17:57:23.741634Z"
    },
    "slideshow": {
     "slide_type": ""
    },
    "tags": []
   },
   "outputs": [],
   "source": [
    "import asyncio\n",
    "\n",
    "import click\n",
    "from click.testing import CliRunner\n",
    "\n",
    "import async_app.state as app_state\n",
    "from async_app.app_factory import async_app_options"
   ]
  },
  {
   "cell_type": "markdown",
   "id": "349cf92d-9e40-4922-aca6-84d9dc722c87",
   "metadata": {
    "editable": true,
    "slideshow": {
     "slide_type": ""
    },
    "tags": []
   },
   "source": [
    "The following code is an excerpt of the real implementation to visualize the interface the user will deal with."
   ]
  },
  {
   "cell_type": "code",
   "execution_count": 2,
   "id": "44d0b728-4265-41c3-8a15-c702c72d4b82",
   "metadata": {
    "editable": true,
    "execution": {
     "iopub.execute_input": "2024-04-14T17:57:23.775469Z",
     "iopub.status.busy": "2024-04-14T17:57:23.775119Z",
     "iopub.status.idle": "2024-04-14T17:57:23.779940Z",
     "shell.execute_reply": "2024-04-14T17:57:23.779341Z",
     "shell.execute_reply.started": "2024-04-14T17:57:23.775452Z"
    },
    "slideshow": {
     "slide_type": ""
    },
    "tags": [
     "remove-cell"
    ]
   },
   "outputs": [],
   "source": [
    "class AsyncApp(object):\n",
    "    def __init__(self, **kwargs):\n",
    "        self.task_descriptions = {\n",
    "            \"init\": [],\n",
    "            \"continuous\": [],\n",
    "            \"periodic\": [],\n",
    "            \"cleanup\": [],\n",
    "        }\n",
    "\n",
    "    def add_task_description(self, task_description):\n",
    "        \"\"\"Depending on the tasks kind, add it to its matching list.\"\"\"\n",
    "        ...\n",
    "\n",
    "    async def run(self):\n",
    "        \"\"\"Run init tasks first, and after completion execute regular and periodic tasks.\"\"\"\n",
    "        ...\n",
    "        \n",
    "    async def task_monitor(self):\n",
    "        \"\"\"Offer a callback for a periodical to watch task execution.\"\"\"\n",
    "        ...\n",
    "\n",
    "    def periodicals_monitor(self):\n",
    "        \"\"\"Offer a callback for periodicals monitoring that can be called periodically.\"\"\"\n",
    "        ...\n",
    "\n",
    "    def exit(self, *args):\n",
    "        \"\"\"Exit the app cleanly.\"\"\"\n",
    "        app_state.keep_running = False\n",
    "        "
   ]
  },
  {
   "cell_type": "code",
   "execution_count": 5,
   "id": "81483322-be40-4c2e-8b2a-1e93bde26274",
   "metadata": {
    "editable": true,
    "execution": {
     "iopub.execute_input": "2024-04-14T17:57:30.122766Z",
     "iopub.status.busy": "2024-04-14T17:57:30.122553Z",
     "iopub.status.idle": "2024-04-14T17:57:30.125864Z",
     "shell.execute_reply": "2024-04-14T17:57:30.125406Z",
     "shell.execute_reply.started": "2024-04-14T17:57:30.122750Z"
    },
    "slideshow": {
     "slide_type": ""
    },
    "tags": []
   },
   "outputs": [],
   "source": [
    "@click.command\n",
    "@async_app_options\n",
    "@click.option(\"-m\", \"--my-option\", type=str, required=True, help=\"My required option\")\n",
    "def main(my_option, **kwargs):\n",
    "    app = AsyncApp(**kwargs)\n",
    "\n",
    "    task_descriptions = []\n",
    "    for task_description in task_descriptions:\n",
    "        app.add_task_description(task_description)\n",
    "\n",
    "    asyncio.run(app.run())\n"
   ]
  },
  {
   "cell_type": "code",
   "execution_count": 6,
   "id": "014eddca-bc43-4e1f-9926-65c92f324ce7",
   "metadata": {
    "editable": true,
    "execution": {
     "iopub.execute_input": "2024-04-14T17:57:30.634744Z",
     "iopub.status.busy": "2024-04-14T17:57:30.634530Z",
     "iopub.status.idle": "2024-04-14T17:57:30.639092Z",
     "shell.execute_reply": "2024-04-14T17:57:30.638617Z",
     "shell.execute_reply.started": "2024-04-14T17:57:30.634728Z"
    },
    "slideshow": {
     "slide_type": ""
    },
    "tags": []
   },
   "outputs": [
    {
     "name": "stdout",
     "output_type": "stream",
     "text": [
      "Usage: main [OPTIONS]\n",
      "\n",
      "Options:\n",
      "  -v, --verbose                   Increase verbosity\n",
      "  -pmf, --process-monitoring-frequency INTEGER\n",
      "                                  Set process monitoring frequency in Hz. '0'\n",
      "                                  means to not monitor at all.   [default: 0]\n",
      "  -smf, --system-monitoring-frequency INTEGER\n",
      "                                  Set system monitoring frequency in Hz. '0'\n",
      "                                  means to not monitor at all.   [default: 0]\n",
      "  -tmf, --task-monitoring-frequency INTEGER\n",
      "                                  Set task monitoring frequency in Hz. '0' means\n",
      "                                  to not monitor at all.   [default: 0]\n",
      "  -rmf, --periodicals-monitoring-frequency INTEGER\n",
      "                                  Set periodicals monitoring frequency in Hz.\n",
      "                                  '0' means to not monitor at all.   [default:\n",
      "                                  0]\n",
      "  -m, --my-option TEXT            My required option  [required]\n",
      "  --help                          Show this message and exit.\n",
      "\n"
     ]
    }
   ],
   "source": [
    "runner = CliRunner()\n",
    "result = runner.invoke(main, [\"--help\"])\n",
    "print(result.output)"
   ]
  },
  {
   "cell_type": "code",
   "execution_count": null,
   "id": "34a7cd1a-3ace-4cb3-9280-d29cd9c9f6c1",
   "metadata": {
    "editable": true,
    "slideshow": {
     "slide_type": ""
    },
    "tags": []
   },
   "outputs": [],
   "source": []
  }
 ],
 "metadata": {
  "kernelspec": {
   "display_name": "Python 3 (ipykernel)",
   "language": "python",
   "name": "python3"
  },
  "language_info": {
   "codemirror_mode": {
    "name": "ipython",
    "version": 3
   },
   "file_extension": ".py",
   "mimetype": "text/x-python",
   "name": "python",
   "nbconvert_exporter": "python",
   "pygments_lexer": "ipython3",
   "version": "3.12.2"
  }
 },
 "nbformat": 4,
 "nbformat_minor": 5
}
