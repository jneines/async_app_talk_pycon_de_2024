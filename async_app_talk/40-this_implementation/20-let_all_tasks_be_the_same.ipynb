{
 "cells": [
  {
   "cell_type": "markdown",
   "id": "e0c9af46-10e3-48eb-994a-47e79abd2ad5",
   "metadata": {
    "editable": true,
    "slideshow": {
     "slide_type": ""
    },
    "tags": []
   },
   "source": [
    "# Let all tasks be the same"
   ]
  },
  {
   "cell_type": "markdown",
   "id": "2cffdcd7-1b28-43de-aed6-0cd797e4b4d8",
   "metadata": {
    "editable": true,
    "slideshow": {
     "slide_type": ""
    },
    "tags": []
   },
   "source": [
    "The strategy for the `AsyncApp` is to base all function execution on the same foundation.\n",
    "\n",
    "- Every task must be interceptable or cancellable\n",
    "- Periodic calls are done in a while loop with dynamic sleeps to match the call frequency\n",
    "- Event listeners respect timeouts to be executed in a while loop as well\n",
    "- The while loops condition is a singleton `keep_running` variable which is imported from a module, used by all tasks and can be changed by any task at any time to end all tasks execution."
   ]
  },
  {
   "cell_type": "code",
   "execution_count": 3,
   "id": "5cee028b-6ea9-4d67-99f5-ce53438b6d21",
   "metadata": {
    "editable": true,
    "execution": {
     "iopub.execute_input": "2024-04-08T14:30:38.961885Z",
     "iopub.status.busy": "2024-04-08T14:30:38.961619Z",
     "iopub.status.idle": "2024-04-08T14:30:38.964378Z",
     "shell.execute_reply": "2024-04-08T14:30:38.963920Z",
     "shell.execute_reply.started": "2024-04-08T14:30:38.961871Z"
    },
    "slideshow": {
     "slide_type": ""
    },
    "tags": []
   },
   "outputs": [],
   "source": [
    "import asyncio\n",
    "\n",
    "import app_state"
   ]
  },
  {
   "cell_type": "code",
   "execution_count": 6,
   "id": "f5107df4-592c-4cd7-b5a7-16d0ff6b1d59",
   "metadata": {
    "editable": true,
    "execution": {
     "iopub.execute_input": "2024-04-08T14:32:04.783035Z",
     "iopub.status.busy": "2024-04-08T14:32:04.782778Z",
     "iopub.status.idle": "2024-04-08T14:32:04.785969Z",
     "shell.execute_reply": "2024-04-08T14:32:04.785505Z",
     "shell.execute_reply.started": "2024-04-08T14:32:04.783019Z"
    },
    "slideshow": {
     "slide_type": ""
    },
    "tags": []
   },
   "outputs": [],
   "source": [
    "async def run_forever():\n",
    "    while app_state.keep_running:\n",
    "        print(\"Still running\")\n",
    "        await asyncio.sleep(1)\n",
    "    print(\"Done with all the work.\")"
   ]
  },
  {
   "cell_type": "code",
   "execution_count": 7,
   "id": "65f24588-8b98-47fc-a40e-92b670276ab6",
   "metadata": {
    "editable": true,
    "execution": {
     "iopub.execute_input": "2024-04-08T14:32:05.266284Z",
     "iopub.status.busy": "2024-04-08T14:32:05.266069Z",
     "iopub.status.idle": "2024-04-08T14:32:05.269315Z",
     "shell.execute_reply": "2024-04-08T14:32:05.268670Z",
     "shell.execute_reply.started": "2024-04-08T14:32:05.266269Z"
    },
    "slideshow": {
     "slide_type": ""
    },
    "tags": []
   },
   "outputs": [],
   "source": [
    "async def exit_after(exit_after):\n",
    "    await asyncio.sleep(exit_after)\n",
    "    app_state.keep_running = False"
   ]
  },
  {
   "cell_type": "code",
   "execution_count": 8,
   "id": "cfef4aa1-df37-4529-964b-1ba8d8a8338e",
   "metadata": {
    "editable": true,
    "execution": {
     "iopub.execute_input": "2024-04-08T14:32:29.466247Z",
     "iopub.status.busy": "2024-04-08T14:32:29.465995Z",
     "iopub.status.idle": "2024-04-08T14:32:29.468615Z",
     "shell.execute_reply": "2024-04-08T14:32:29.468197Z",
     "shell.execute_reply.started": "2024-04-08T14:32:29.466229Z"
    },
    "slideshow": {
     "slide_type": ""
    },
    "tags": []
   },
   "outputs": [
    {
     "name": "stdout",
     "output_type": "stream",
     "text": [
      "Still running\n",
      "Still running\n",
      "Still running\n",
      "Still running\n",
      "Still running\n",
      "Done with all the work.\n"
     ]
    }
   ],
   "source": [
    "_= asyncio.gather(\n",
    "    exit_after(5),\n",
    "    run_forever(),\n",
    ")"
   ]
  },
  {
   "cell_type": "code",
   "execution_count": null,
   "id": "97f89f07-0e33-42c3-8de1-b14d01a5d937",
   "metadata": {
    "editable": true,
    "slideshow": {
     "slide_type": ""
    },
    "tags": []
   },
   "outputs": [],
   "source": []
  }
 ],
 "metadata": {
  "kernelspec": {
   "display_name": "Python 3 (ipykernel)",
   "language": "python",
   "name": "python3"
  },
  "language_info": {
   "codemirror_mode": {
    "name": "ipython",
    "version": 3
   },
   "file_extension": ".py",
   "mimetype": "text/x-python",
   "name": "python",
   "nbconvert_exporter": "python",
   "pygments_lexer": "ipython3",
   "version": "3.12.2"
  }
 },
 "nbformat": 4,
 "nbformat_minor": 5
}
