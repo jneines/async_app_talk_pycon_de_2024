{
 "cells": [
  {
   "cell_type": "markdown",
   "id": "e0c9af46-10e3-48eb-994a-47e79abd2ad5",
   "metadata": {
    "editable": true,
    "slideshow": {
     "slide_type": ""
    },
    "tags": []
   },
   "source": [
    "# Let all tasks be the same"
   ]
  },
  {
   "cell_type": "markdown",
   "id": "2cffdcd7-1b28-43de-aed6-0cd797e4b4d8",
   "metadata": {
    "editable": true,
    "slideshow": {
     "slide_type": ""
    },
    "tags": []
   },
   "source": [
    "The strategy for the `AsyncApp` is to base all function execution on the same foundation.\n",
    "\n",
    "Everything should basically be a task. And these tasks will be executed concurrently.\n",
    "For this to be possible we require the following:\n",
    "\n",
    "- Each task must be interruptible or cancelable\n",
    "- Periodic calls are done in a while loop with dynamic sleeps to match the call frequency\n",
    "- Event listeners respect timeouts to allow interrupting work and will be executed in a while loop as well\n",
    "- The while loops condition is a singleton `keep_running` variable which is imported from a module, used by all tasks and can be changed by any task at any time to end all tasks execution."
   ]
  },
  {
   "cell_type": "code",
   "execution_count": 1,
   "id": "5cee028b-6ea9-4d67-99f5-ce53438b6d21",
   "metadata": {
    "editable": true,
    "execution": {
     "iopub.execute_input": "2024-04-13T16:46:54.097100Z",
     "iopub.status.busy": "2024-04-13T16:46:54.096348Z",
     "iopub.status.idle": "2024-04-13T16:46:54.102309Z",
     "shell.execute_reply": "2024-04-13T16:46:54.101117Z",
     "shell.execute_reply.started": "2024-04-13T16:46:54.097078Z"
    },
    "slideshow": {
     "slide_type": ""
    },
    "tags": []
   },
   "outputs": [],
   "source": [
    "import asyncio\n",
    "\n",
    "import app_state"
   ]
  },
  {
   "cell_type": "code",
   "execution_count": 2,
   "id": "3008e18b-d8d8-4004-9226-6606ce07fbde",
   "metadata": {
    "editable": true,
    "execution": {
     "iopub.execute_input": "2024-04-13T16:46:54.103198Z",
     "iopub.status.busy": "2024-04-13T16:46:54.103061Z",
     "iopub.status.idle": "2024-04-13T16:46:54.106266Z",
     "shell.execute_reply": "2024-04-13T16:46:54.105744Z",
     "shell.execute_reply.started": "2024-04-13T16:46:54.103184Z"
    },
    "slideshow": {
     "slide_type": ""
    },
    "tags": [
     "remove-cell"
    ]
   },
   "outputs": [],
   "source": [
    "# override print to allow showing the output in one cell as it was printed in a terminal\n",
    "import os\n",
    "\n",
    "real_print = print\n",
    "lines = []\n",
    "def print(text):\n",
    "    global lines\n",
    "    lines.append(text)"
   ]
  },
  {
   "cell_type": "code",
   "execution_count": 3,
   "id": "f5107df4-592c-4cd7-b5a7-16d0ff6b1d59",
   "metadata": {
    "editable": true,
    "execution": {
     "iopub.execute_input": "2024-04-13T16:46:54.107163Z",
     "iopub.status.busy": "2024-04-13T16:46:54.106899Z",
     "iopub.status.idle": "2024-04-13T16:46:54.109654Z",
     "shell.execute_reply": "2024-04-13T16:46:54.109165Z",
     "shell.execute_reply.started": "2024-04-13T16:46:54.107148Z"
    },
    "slideshow": {
     "slide_type": ""
    },
    "tags": []
   },
   "outputs": [],
   "source": [
    "async def run_forever():\n",
    "    while app_state.keep_running:\n",
    "        print(\"Still running\")\n",
    "        await asyncio.sleep(1)\n",
    "    print(\"Done with all the work.\")"
   ]
  },
  {
   "cell_type": "code",
   "execution_count": 4,
   "id": "65f24588-8b98-47fc-a40e-92b670276ab6",
   "metadata": {
    "editable": true,
    "execution": {
     "iopub.execute_input": "2024-04-13T16:46:54.110687Z",
     "iopub.status.busy": "2024-04-13T16:46:54.110433Z",
     "iopub.status.idle": "2024-04-13T16:46:54.113102Z",
     "shell.execute_reply": "2024-04-13T16:46:54.112677Z",
     "shell.execute_reply.started": "2024-04-13T16:46:54.110672Z"
    },
    "slideshow": {
     "slide_type": ""
    },
    "tags": []
   },
   "outputs": [],
   "source": [
    "async def exit_after(exit_after):\n",
    "    await asyncio.sleep(exit_after)\n",
    "    app_state.keep_running = False"
   ]
  },
  {
   "cell_type": "code",
   "execution_count": 7,
   "id": "cfef4aa1-df37-4529-964b-1ba8d8a8338e",
   "metadata": {
    "editable": true,
    "execution": {
     "iopub.execute_input": "2024-04-13T16:49:23.185388Z",
     "iopub.status.busy": "2024-04-13T16:49:23.185174Z",
     "iopub.status.idle": "2024-04-13T16:49:28.188268Z",
     "shell.execute_reply": "2024-04-13T16:49:28.187853Z",
     "shell.execute_reply.started": "2024-04-13T16:49:23.185372Z"
    },
    "slideshow": {
     "slide_type": ""
    },
    "tags": []
   },
   "outputs": [],
   "source": [
    "_ = await asyncio.gather(\n",
    "    exit_after(5),\n",
    "    run_forever(),\n",
    ")"
   ]
  },
  {
   "cell_type": "code",
   "execution_count": 6,
   "id": "97f89f07-0e33-42c3-8de1-b14d01a5d937",
   "metadata": {
    "editable": true,
    "execution": {
     "iopub.execute_input": "2024-04-13T16:46:59.123028Z",
     "iopub.status.busy": "2024-04-13T16:46:59.122737Z",
     "iopub.status.idle": "2024-04-13T16:46:59.125746Z",
     "shell.execute_reply": "2024-04-13T16:46:59.125307Z",
     "shell.execute_reply.started": "2024-04-13T16:46:59.123012Z"
    },
    "slideshow": {
     "slide_type": ""
    },
    "tags": [
     "remove-input"
    ]
   },
   "outputs": [
    {
     "name": "stdout",
     "output_type": "stream",
     "text": [
      "Still running\n",
      "Still running\n",
      "Still running\n",
      "Still running\n",
      "Still running\n",
      "Done with all the work.\n"
     ]
    }
   ],
   "source": [
    "real_print(\"\\n\".join(lines))\n",
    "lines = []"
   ]
  },
  {
   "cell_type": "code",
   "execution_count": null,
   "id": "558eb75b-0c00-4b35-82dd-d7e141a68416",
   "metadata": {
    "editable": true,
    "slideshow": {
     "slide_type": ""
    },
    "tags": []
   },
   "outputs": [],
   "source": []
  }
 ],
 "metadata": {
  "kernelspec": {
   "display_name": "Python 3 (ipykernel)",
   "language": "python",
   "name": "python3"
  },
  "language_info": {
   "codemirror_mode": {
    "name": "ipython",
    "version": 3
   },
   "file_extension": ".py",
   "mimetype": "text/x-python",
   "name": "python",
   "nbconvert_exporter": "python",
   "pygments_lexer": "ipython3",
   "version": "3.12.2"
  }
 },
 "nbformat": 4,
 "nbformat_minor": 5
}
