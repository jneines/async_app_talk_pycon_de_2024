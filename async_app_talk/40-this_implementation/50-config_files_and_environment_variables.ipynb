{
 "cells": [
  {
   "cell_type": "markdown",
   "id": "7fc67aa7-2df4-4af3-a5b8-1b021c431486",
   "metadata": {
    "editable": true,
    "slideshow": {
     "slide_type": ""
    },
    "tags": []
   },
   "source": [
    "# Config files and environment variables"
   ]
  },
  {
   "cell_type": "markdown",
   "id": "bc9337e7-bb40-4009-b88c-590b9ff89c1d",
   "metadata": {
    "editable": true,
    "slideshow": {
     "slide_type": ""
    },
    "tags": []
   },
   "source": [
    "And the final ingredient is based on config files and environment variables."
   ]
  },
  {
   "cell_type": "markdown",
   "id": "4f6cc9cd-461b-4aa7-918d-4b7371e10f5b",
   "metadata": {
    "editable": true,
    "slideshow": {
     "slide_type": ""
    },
    "tags": []
   },
   "source": [
    "The ability to use config files is added by reading `toml` files located in the applications default locations. The default location is chosen based on the [platformdirs](https://pypi.org/project/platformdirs) package.\n",
    "\n",
    "Every option set in the config file must match an available command line argument, as every option simply sets an environment variable that a `click` based option is aware of. This way application options can both be defined and changed using a configuration file and command line arguments."
   ]
  },
  {
   "cell_type": "code",
   "execution_count": 1,
   "id": "132180db-1373-4402-a3fc-0a2a75052eb7",
   "metadata": {
    "editable": true,
    "execution": {
     "iopub.execute_input": "2024-04-14T17:31:59.391346Z",
     "iopub.status.busy": "2024-04-14T17:31:59.391110Z",
     "iopub.status.idle": "2024-04-14T17:31:59.414611Z",
     "shell.execute_reply": "2024-04-14T17:31:59.414163Z",
     "shell.execute_reply.started": "2024-04-14T17:31:59.391325Z"
    },
    "slideshow": {
     "slide_type": ""
    },
    "tags": []
   },
   "outputs": [],
   "source": [
    "import os\n",
    "import tomllib\n",
    "\n",
    "import click\n",
    "from click.testing import CliRunner"
   ]
  },
  {
   "cell_type": "code",
   "execution_count": 2,
   "id": "81d50523-f748-4e8c-955e-bef590cda029",
   "metadata": {
    "editable": true,
    "execution": {
     "iopub.execute_input": "2024-04-14T17:32:00.032943Z",
     "iopub.status.busy": "2024-04-14T17:32:00.032714Z",
     "iopub.status.idle": "2024-04-14T17:32:00.035621Z",
     "shell.execute_reply": "2024-04-14T17:32:00.035217Z",
     "shell.execute_reply.started": "2024-04-14T17:32:00.032924Z"
    },
    "slideshow": {
     "slide_type": ""
    },
    "tags": []
   },
   "outputs": [],
   "source": [
    "toml_config=\"\"\"\n",
    "name = \"Pete\"\n",
    "frequency = 2\n",
    "\"\"\""
   ]
  },
  {
   "cell_type": "code",
   "execution_count": 3,
   "id": "7b48e2d9-2e12-461c-b319-ad6434a51ffc",
   "metadata": {
    "editable": true,
    "execution": {
     "iopub.execute_input": "2024-04-14T17:32:00.921648Z",
     "iopub.status.busy": "2024-04-14T17:32:00.921432Z",
     "iopub.status.idle": "2024-04-14T17:32:00.923894Z",
     "shell.execute_reply": "2024-04-14T17:32:00.923484Z",
     "shell.execute_reply.started": "2024-04-14T17:32:00.921632Z"
    },
    "slideshow": {
     "slide_type": ""
    },
    "tags": []
   },
   "outputs": [],
   "source": [
    "config = tomllib.loads(toml_config)"
   ]
  },
  {
   "cell_type": "code",
   "execution_count": 7,
   "id": "0c936ede-9a04-4074-aece-921bdfd08732",
   "metadata": {
    "editable": true,
    "execution": {
     "iopub.execute_input": "2024-04-14T17:33:27.245892Z",
     "iopub.status.busy": "2024-04-14T17:33:27.245598Z",
     "iopub.status.idle": "2024-04-14T17:33:27.250438Z",
     "shell.execute_reply": "2024-04-14T17:33:27.250023Z",
     "shell.execute_reply.started": "2024-04-14T17:33:27.245876Z"
    },
    "slideshow": {
     "slide_type": ""
    },
    "tags": []
   },
   "outputs": [
    {
     "name": "stdout",
     "output_type": "stream",
     "text": [
      "name Pete\n",
      "frequency 2\n"
     ]
    },
    {
     "data": {
      "text/plain": [
       "{'NAME': 'Pete', 'FREQUENCY': '2'}"
      ]
     },
     "execution_count": 7,
     "metadata": {},
     "output_type": "execute_result"
    }
   ],
   "source": [
    "for key, value in config.items():\n",
    "    os.environ[f\"{key.upper()}\"] = str(value)\n",
    "    print(key, value)\n",
    "\n",
    "{key: value for key, value in os.environ.items() if key.lower() in config.keys()}"
   ]
  },
  {
   "cell_type": "code",
   "execution_count": 8,
   "id": "6d7962a3-546f-483a-9214-2e9f09d5258e",
   "metadata": {
    "editable": true,
    "execution": {
     "iopub.execute_input": "2024-04-14T17:33:34.836408Z",
     "iopub.status.busy": "2024-04-14T17:33:34.836191Z",
     "iopub.status.idle": "2024-04-14T17:33:34.840109Z",
     "shell.execute_reply": "2024-04-14T17:33:34.839475Z",
     "shell.execute_reply.started": "2024-04-14T17:33:34.836391Z"
    },
    "slideshow": {
     "slide_type": ""
    },
    "tags": []
   },
   "outputs": [],
   "source": [
    "@click.command()\n",
    "@click.option(\"-n\", \"--name\", envvar=\"NAME\", type=str, help=\"Choose the name\")\n",
    "@click.option(\"-f\", \"--frequency\", envvar=\"FREQUENCY\", type=str, help=\"Choose the name\")\n",
    "def run(name, frequency):\n",
    "    print(f\"Running with {name=} and {frequency=}\")"
   ]
  },
  {
   "cell_type": "code",
   "execution_count": 9,
   "id": "5a2cb1fd-5978-48dc-a2ec-cc6c217ebe2d",
   "metadata": {
    "editable": true,
    "execution": {
     "iopub.execute_input": "2024-04-14T17:33:35.244578Z",
     "iopub.status.busy": "2024-04-14T17:33:35.244340Z",
     "iopub.status.idle": "2024-04-14T17:33:35.248016Z",
     "shell.execute_reply": "2024-04-14T17:33:35.247438Z",
     "shell.execute_reply.started": "2024-04-14T17:33:35.244563Z"
    },
    "slideshow": {
     "slide_type": ""
    },
    "tags": []
   },
   "outputs": [
    {
     "name": "stdout",
     "output_type": "stream",
     "text": [
      "Running with name='Pete' and frequency='2'\n",
      "\n"
     ]
    }
   ],
   "source": [
    "runner = CliRunner()\n",
    "result = runner.invoke(run, [])\n",
    "print(result.output)"
   ]
  },
  {
   "cell_type": "code",
   "execution_count": null,
   "id": "a972a8d0-5eeb-4bf9-9766-f5c8f42560d3",
   "metadata": {
    "editable": true,
    "slideshow": {
     "slide_type": ""
    },
    "tags": []
   },
   "outputs": [],
   "source": []
  }
 ],
 "metadata": {
  "kernelspec": {
   "display_name": "Python 3 (ipykernel)",
   "language": "python",
   "name": "python3"
  },
  "language_info": {
   "codemirror_mode": {
    "name": "ipython",
    "version": 3
   },
   "file_extension": ".py",
   "mimetype": "text/x-python",
   "name": "python",
   "nbconvert_exporter": "python",
   "pygments_lexer": "ipython3",
   "version": "3.12.2"
  }
 },
 "nbformat": 4,
 "nbformat_minor": 5
}
