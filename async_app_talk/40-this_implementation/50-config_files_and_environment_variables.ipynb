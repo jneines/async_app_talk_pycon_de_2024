{
 "cells": [
  {
   "cell_type": "markdown",
   "id": "7fc67aa7-2df4-4af3-a5b8-1b021c431486",
   "metadata": {
    "editable": true,
    "slideshow": {
     "slide_type": ""
    },
    "tags": []
   },
   "source": [
    "# Config files and environment variables"
   ]
  },
  {
   "cell_type": "markdown",
   "id": "4f6cc9cd-461b-4aa7-918d-4b7371e10f5b",
   "metadata": {
    "editable": true,
    "slideshow": {
     "slide_type": ""
    },
    "tags": []
   },
   "source": [
    "The ability to use config files is added by reading `toml` files located in the applications default locations. The default location is chosen based on the `app_dirs` package.\n",
    "\n",
    "Every option set in the config file must match an available command line argument, as every option simply sets an environment variable that a `click` based option is aware of. This way application options can both be defined and changed using a configuration file and command line arguments."
   ]
  },
  {
   "cell_type": "code",
   "execution_count": 32,
   "id": "132180db-1373-4402-a3fc-0a2a75052eb7",
   "metadata": {
    "editable": true,
    "execution": {
     "iopub.execute_input": "2024-04-08T14:18:42.892352Z",
     "iopub.status.busy": "2024-04-08T14:18:42.891977Z",
     "iopub.status.idle": "2024-04-08T14:18:42.894667Z",
     "shell.execute_reply": "2024-04-08T14:18:42.894268Z",
     "shell.execute_reply.started": "2024-04-08T14:18:42.892335Z"
    },
    "slideshow": {
     "slide_type": ""
    },
    "tags": []
   },
   "outputs": [],
   "source": [
    "import os\n",
    "import tomllib\n",
    "\n",
    "import click\n",
    "from click.testing import CliRunner"
   ]
  },
  {
   "cell_type": "code",
   "execution_count": 33,
   "id": "81d50523-f748-4e8c-955e-bef590cda029",
   "metadata": {
    "editable": true,
    "execution": {
     "iopub.execute_input": "2024-04-08T14:18:43.072161Z",
     "iopub.status.busy": "2024-04-08T14:18:43.071955Z",
     "iopub.status.idle": "2024-04-08T14:18:43.074264Z",
     "shell.execute_reply": "2024-04-08T14:18:43.073893Z",
     "shell.execute_reply.started": "2024-04-08T14:18:43.072146Z"
    },
    "slideshow": {
     "slide_type": ""
    },
    "tags": []
   },
   "outputs": [],
   "source": [
    "toml_config=\"\"\"\n",
    "name = \"Pete\"\n",
    "frequency = 2\n",
    "\"\"\""
   ]
  },
  {
   "cell_type": "code",
   "execution_count": 34,
   "id": "7b48e2d9-2e12-461c-b319-ad6434a51ffc",
   "metadata": {
    "editable": true,
    "execution": {
     "iopub.execute_input": "2024-04-08T14:18:43.228058Z",
     "iopub.status.busy": "2024-04-08T14:18:43.227850Z",
     "iopub.status.idle": "2024-04-08T14:18:43.230445Z",
     "shell.execute_reply": "2024-04-08T14:18:43.230050Z",
     "shell.execute_reply.started": "2024-04-08T14:18:43.228041Z"
    },
    "slideshow": {
     "slide_type": ""
    },
    "tags": []
   },
   "outputs": [],
   "source": [
    "config = tomllib.loads(toml_config)"
   ]
  },
  {
   "cell_type": "code",
   "execution_count": 35,
   "id": "0c936ede-9a04-4074-aece-921bdfd08732",
   "metadata": {
    "editable": true,
    "execution": {
     "iopub.execute_input": "2024-04-08T14:18:43.466029Z",
     "iopub.status.busy": "2024-04-08T14:18:43.465814Z",
     "iopub.status.idle": "2024-04-08T14:18:43.470423Z",
     "shell.execute_reply": "2024-04-08T14:18:43.470024Z",
     "shell.execute_reply.started": "2024-04-08T14:18:43.466013Z"
    },
    "slideshow": {
     "slide_type": ""
    },
    "tags": []
   },
   "outputs": [
    {
     "name": "stdout",
     "output_type": "stream",
     "text": [
      "name Pete\n",
      "frequency 2\n"
     ]
    },
    {
     "data": {
      "text/plain": [
       "environ{'STARSHIP_SHELL': 'zsh',\n",
       "        'TERM_PROGRAM': 'tmux',\n",
       "        'TERM': 'xterm-color',\n",
       "        'SHELL': '/bin/zsh',\n",
       "        'TMPDIR': '/var/folders/4f/zxcbb2rd6q98m0h5fzm9xljm0000gn/T/',\n",
       "        'CONDA_SHLVL': '3',\n",
       "        'TERM_PROGRAM_VERSION': '3.3a',\n",
       "        'CONDA_PROMPT_MODIFIER': '(main.py312) ',\n",
       "        'TERM_SESSION_ID': 'w3t0p0:32CAD7B6-1D38-4F1E-A110-2ADAABB08090',\n",
       "        'ZSH': '/Users/jneines/.oh-my-zsh',\n",
       "        'USER': 'jneines',\n",
       "        'COMMAND_MODE': 'unix2003',\n",
       "        'CONDA_EXE': '/Users/jneines/miniforge3/bin/conda',\n",
       "        'SSH_AUTH_SOCK': '/private/tmp/com.apple.launchd.iJLkHBwrLy/Listeners',\n",
       "        '__CF_USER_TEXT_ENCODING': '0x1F5:0x0:0x0',\n",
       "        'PAGER': 'cat',\n",
       "        'TMUX': '/private/tmp/tmux-501/default,92291,0',\n",
       "        '_CE_CONDA': '',\n",
       "        'LSCOLORS': 'Gxfxcxdxbxegedabagacad',\n",
       "        'CONDA_PREFIX_1': '/Users/jneines/miniforge3/envs/main.py312',\n",
       "        'CONDA_ROOT': '/Users/jneines/miniforge3',\n",
       "        'PATH': '/Users/jneines/miniforge3/envs/main.py312/bin:/Users/jneines/.cargo/bin:/Users/jneines/miniforge3/condabin:/usr/local/bin:/System/Cryptexes/App/usr/bin:/usr/bin:/bin:/usr/sbin:/sbin:/var/run/com.apple.security.cryptexd/codex.system/bootstrap/usr/local/bin:/var/run/com.apple.security.cryptexd/codex.system/bootstrap/usr/bin:/var/run/com.apple.security.cryptexd/codex.system/bootstrap/usr/appleinternal/bin:/opt/X11/bin:/Library/Apple/usr/bin:/Library/TeX/texbin:/usr/local/go/bin',\n",
       "        'XML_CATALOG_FILES': 'file:///Users/jneines/miniforge3/envs/main.py312/etc/xml/catalog file:///etc/xml/catalog',\n",
       "        'CONDA_PREFIX_2': '/Users/jneines/miniforge3',\n",
       "        'LaunchInstanceID': '58572008-6B20-4929-AA15-C0EBD70A0367',\n",
       "        '__CFBundleIdentifier': 'com.googlecode.iterm2',\n",
       "        'CONDA_PREFIX': '/Users/jneines/miniforge3/envs/main.py312',\n",
       "        'PWD': '/Users/jneines/development/async_app/async_app',\n",
       "        'ITERM_PROFILE': 'Default',\n",
       "        'XPC_FLAGS': '0x0',\n",
       "        'TMUX_PANE': '%0',\n",
       "        '_CE_M': '',\n",
       "        'XPC_SERVICE_NAME': '0',\n",
       "        'SHLVL': '2',\n",
       "        'HOME': '/Users/jneines',\n",
       "        'COLORFGBG': '15;0',\n",
       "        'LC_TERMINAL_VERSION': '3.4.23',\n",
       "        'ITERM_SESSION_ID': 'w3t0p0:32CAD7B6-1D38-4F1E-A110-2ADAABB08090',\n",
       "        'STARSHIP_SESSION_KEY': '3458257091236028',\n",
       "        'LOGNAME': 'jneines',\n",
       "        'LESS': '-R',\n",
       "        'CONDA_PYTHON_EXE': '/Users/jneines/miniforge3/bin/python',\n",
       "        'LC_CTYPE': 'UTF-8',\n",
       "        'CONDA_DEFAULT_ENV': 'main.py312',\n",
       "        'LC_TERMINAL': 'iTerm2',\n",
       "        'DISPLAY': '/private/tmp/com.apple.launchd.k9BkcvSzMs/org.xquartz:0',\n",
       "        'SECURITYSESSIONID': '186a5',\n",
       "        'COLORTERM': 'truecolor',\n",
       "        '_': '/Users/jneines/miniforge3/envs/main.py312/bin/jupyter',\n",
       "        'JPY_SESSION_NAME': '/Users/jneines/development/pyconde_2024/async_app_talk/async_app_talk/async_app_talk/40-this_implementation/Untitled4.ipynb',\n",
       "        'JPY_PARENT_PID': '92307',\n",
       "        'PYDEVD_USE_FRAME_EVAL': 'NO',\n",
       "        'CLICOLOR': '1',\n",
       "        'FORCE_COLOR': '1',\n",
       "        'CLICOLOR_FORCE': '1',\n",
       "        'GIT_PAGER': 'cat',\n",
       "        'MPLBACKEND': 'module://matplotlib_inline.backend_inline',\n",
       "        'MY_APP_NAME': 'Pete',\n",
       "        'MY_APP_FREQUENCY': '2',\n",
       "        'NAME': 'Pete',\n",
       "        'FREQUENCY': '2'}"
      ]
     },
     "execution_count": 35,
     "metadata": {},
     "output_type": "execute_result"
    }
   ],
   "source": [
    "for key, value in config.items():\n",
    "    os.environ[f\"{key.upper()}\"] = str(value)\n",
    "    print(key, value)\n",
    "\n",
    "os.environ"
   ]
  },
  {
   "cell_type": "code",
   "execution_count": 36,
   "id": "6d7962a3-546f-483a-9214-2e9f09d5258e",
   "metadata": {
    "editable": true,
    "execution": {
     "iopub.execute_input": "2024-04-08T14:18:44.400430Z",
     "iopub.status.busy": "2024-04-08T14:18:44.400221Z",
     "iopub.status.idle": "2024-04-08T14:18:44.403568Z",
     "shell.execute_reply": "2024-04-08T14:18:44.403043Z",
     "shell.execute_reply.started": "2024-04-08T14:18:44.400413Z"
    },
    "slideshow": {
     "slide_type": ""
    },
    "tags": []
   },
   "outputs": [],
   "source": [
    "@click.command()\n",
    "@click.option(\"-n\", \"--name\", envvar=\"NAME\", type=str, help=\"Choose the name\")\n",
    "@click.option(\"-f\", \"--frequency\", envvar=\"FREQUENCY\", type=str, help=\"Choose the name\")\n",
    "def run(name, frequency):\n",
    "    print(f\"Running with {name=} and {frequency=}\")"
   ]
  },
  {
   "cell_type": "code",
   "execution_count": 37,
   "id": "5a2cb1fd-5978-48dc-a2ec-cc6c217ebe2d",
   "metadata": {
    "editable": true,
    "execution": {
     "iopub.execute_input": "2024-04-08T14:18:45.104205Z",
     "iopub.status.busy": "2024-04-08T14:18:45.103809Z",
     "iopub.status.idle": "2024-04-08T14:18:45.107966Z",
     "shell.execute_reply": "2024-04-08T14:18:45.107481Z",
     "shell.execute_reply.started": "2024-04-08T14:18:45.104189Z"
    },
    "slideshow": {
     "slide_type": ""
    },
    "tags": []
   },
   "outputs": [
    {
     "name": "stdout",
     "output_type": "stream",
     "text": [
      "Running with name='Pete' and frequency='2'\n",
      "\n"
     ]
    }
   ],
   "source": [
    "runner = CliRunner()\n",
    "result = runner.invoke(run, [])\n",
    "print(result.output)"
   ]
  },
  {
   "cell_type": "code",
   "execution_count": null,
   "id": "a972a8d0-5eeb-4bf9-9766-f5c8f42560d3",
   "metadata": {
    "editable": true,
    "slideshow": {
     "slide_type": ""
    },
    "tags": []
   },
   "outputs": [],
   "source": []
  }
 ],
 "metadata": {
  "kernelspec": {
   "display_name": "Python 3 (ipykernel)",
   "language": "python",
   "name": "python3"
  },
  "language_info": {
   "codemirror_mode": {
    "name": "ipython",
    "version": 3
   },
   "file_extension": ".py",
   "mimetype": "text/x-python",
   "name": "python",
   "nbconvert_exporter": "python",
   "pygments_lexer": "ipython3",
   "version": "3.12.2"
  }
 },
 "nbformat": 4,
 "nbformat_minor": 5
}
