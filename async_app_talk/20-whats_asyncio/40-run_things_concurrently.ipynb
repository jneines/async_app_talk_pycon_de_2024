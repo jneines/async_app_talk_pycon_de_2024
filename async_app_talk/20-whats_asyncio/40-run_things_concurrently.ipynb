{
 "cells": [
  {
   "cell_type": "markdown",
   "id": "2be3f838-8e9b-48f4-aa47-ad4c0d9c6e92",
   "metadata": {
    "editable": true,
    "slideshow": {
     "slide_type": ""
    },
    "tags": []
   },
   "source": [
    "# Run things concurrently"
   ]
  },
  {
   "cell_type": "markdown",
   "id": "dfdb16f6-52e4-46d9-987f-8c991df582ac",
   "metadata": {
    "editable": true,
    "slideshow": {
     "slide_type": ""
    },
    "tags": []
   },
   "source": [
    "Trigger execution of many coroutines/tasks simultaneously"
   ]
  },
  {
   "cell_type": "code",
   "execution_count": 1,
   "id": "822aa512-150f-4201-a4ee-0fac548bec23",
   "metadata": {
    "editable": true,
    "execution": {
     "iopub.execute_input": "2024-04-14T16:30:46.633040Z",
     "iopub.status.busy": "2024-04-14T16:30:46.632834Z",
     "iopub.status.idle": "2024-04-14T16:30:46.636604Z",
     "shell.execute_reply": "2024-04-14T16:30:46.635815Z",
     "shell.execute_reply.started": "2024-04-14T16:30:46.633022Z"
    },
    "slideshow": {
     "slide_type": ""
    },
    "tags": [
     "remove-cell"
    ]
   },
   "outputs": [],
   "source": [
    "import asyncio\n",
    "import time"
   ]
  },
  {
   "cell_type": "code",
   "execution_count": 2,
   "id": "1e7aae25-4e50-4bf9-8f2d-a1297070501d",
   "metadata": {
    "editable": true,
    "execution": {
     "iopub.execute_input": "2024-04-14T16:30:46.638216Z",
     "iopub.status.busy": "2024-04-14T16:30:46.637998Z",
     "iopub.status.idle": "2024-04-14T16:30:46.641306Z",
     "shell.execute_reply": "2024-04-14T16:30:46.640826Z",
     "shell.execute_reply.started": "2024-04-14T16:30:46.638201Z"
    },
    "slideshow": {
     "slide_type": ""
    },
    "tags": [
     "remove-cell"
    ]
   },
   "outputs": [],
   "source": [
    "# override print to allow showing the output in one cell as it was printed in a terminal\n",
    "import os\n",
    "\n",
    "real_print = print\n",
    "lines = []\n",
    "def print(text):\n",
    "    global lines\n",
    "    lines.append(text)"
   ]
  },
  {
   "cell_type": "code",
   "execution_count": 3,
   "id": "7e46acc2-36c2-471f-8859-17c1bf3c817b",
   "metadata": {
    "editable": true,
    "execution": {
     "iopub.execute_input": "2024-04-14T16:30:46.642338Z",
     "iopub.status.busy": "2024-04-14T16:30:46.642012Z",
     "iopub.status.idle": "2024-04-14T16:30:46.646027Z",
     "shell.execute_reply": "2024-04-14T16:30:46.645436Z",
     "shell.execute_reply.started": "2024-04-14T16:30:46.642323Z"
    },
    "slideshow": {
     "slide_type": ""
    },
    "tags": [
     "remove-input"
    ]
   },
   "outputs": [],
   "source": [
    "async def friendly_wait_for(wait_for):\n",
    "    \n",
    "    await asyncio.sleep(wait_for)\n",
    "    \n",
    "    print(f\"Done waiting for {wait_for} seconds.\")\n",
    "    \n",
    "    return wait_for"
   ]
  },
  {
   "cell_type": "code",
   "execution_count": 4,
   "id": "3b049401-e8c0-4edb-905c-bc7c147391d5",
   "metadata": {
    "editable": true,
    "execution": {
     "iopub.execute_input": "2024-04-14T16:30:46.647010Z",
     "iopub.status.busy": "2024-04-14T16:30:46.646795Z",
     "iopub.status.idle": "2024-04-14T16:30:48.154070Z",
     "shell.execute_reply": "2024-04-14T16:30:48.153313Z",
     "shell.execute_reply.started": "2024-04-14T16:30:46.646996Z"
    },
    "slideshow": {
     "slide_type": ""
    },
    "tags": []
   },
   "outputs": [],
   "source": [
    "results = await asyncio.gather(\n",
    "    friendly_wait_for(.5),\n",
    "    friendly_wait_for(1),\n",
    "    friendly_wait_for(1.5),\n",
    ")\n",
    "print(results)"
   ]
  },
  {
   "cell_type": "code",
   "execution_count": 5,
   "id": "0c338cbe-5621-45c2-8981-c3209b0296d7",
   "metadata": {
    "editable": true,
    "execution": {
     "iopub.execute_input": "2024-04-14T16:30:48.155700Z",
     "iopub.status.busy": "2024-04-14T16:30:48.155317Z",
     "iopub.status.idle": "2024-04-14T16:30:48.158762Z",
     "shell.execute_reply": "2024-04-14T16:30:48.158371Z",
     "shell.execute_reply.started": "2024-04-14T16:30:48.155680Z"
    },
    "slideshow": {
     "slide_type": ""
    },
    "tags": [
     "remove-input"
    ]
   },
   "outputs": [
    {
     "name": "stdout",
     "output_type": "stream",
     "text": [
      "Done waiting for 0.5 seconds.\n",
      "Done waiting for 1 seconds.\n",
      "Done waiting for 1.5 seconds.\n",
      "[0.5, 1, 1.5]\n"
     ]
    }
   ],
   "source": [
    "real_print(\"\\n\".join([str(line) for line in lines]))\n",
    "lines = []"
   ]
  },
  {
   "cell_type": "markdown",
   "id": "ebbfc533-c3aa-42cd-8fbd-75233d6a7b1e",
   "metadata": {
    "editable": true,
    "slideshow": {
     "slide_type": ""
    },
    "tags": []
   },
   "source": [
    "Work with results as they come in ..."
   ]
  },
  {
   "cell_type": "code",
   "execution_count": 6,
   "id": "a4d5a9fc-7201-4108-a342-cb9f4e5e2855",
   "metadata": {
    "editable": true,
    "execution": {
     "iopub.execute_input": "2024-04-14T16:30:48.159546Z",
     "iopub.status.busy": "2024-04-14T16:30:48.159312Z",
     "iopub.status.idle": "2024-04-14T16:30:50.664549Z",
     "shell.execute_reply": "2024-04-14T16:30:50.663772Z",
     "shell.execute_reply.started": "2024-04-14T16:30:48.159530Z"
    },
    "slideshow": {
     "slide_type": ""
    },
    "tags": []
   },
   "outputs": [],
   "source": [
    "for coro in asyncio.as_completed(\n",
    "    [\n",
    "        friendly_wait_for(2.5),\n",
    "        friendly_wait_for(1),\n",
    "        friendly_wait_for(0.5),\n",
    "    ]\n",
    "):\n",
    "    result = await coro\n",
    "    print(result)"
   ]
  },
  {
   "cell_type": "code",
   "execution_count": 7,
   "id": "26b4f29b-6a73-4033-97eb-b204ef64557c",
   "metadata": {
    "editable": true,
    "execution": {
     "iopub.execute_input": "2024-04-14T16:30:50.666218Z",
     "iopub.status.busy": "2024-04-14T16:30:50.665767Z",
     "iopub.status.idle": "2024-04-14T16:30:50.669652Z",
     "shell.execute_reply": "2024-04-14T16:30:50.669105Z",
     "shell.execute_reply.started": "2024-04-14T16:30:50.666190Z"
    },
    "slideshow": {
     "slide_type": ""
    },
    "tags": [
     "remove-input"
    ]
   },
   "outputs": [
    {
     "name": "stdout",
     "output_type": "stream",
     "text": [
      "Done waiting for 0.5 seconds.\n",
      "0.5\n",
      "Done waiting for 1 seconds.\n",
      "1\n",
      "Done waiting for 2.5 seconds.\n",
      "2.5\n"
     ]
    }
   ],
   "source": [
    "real_print(\"\\n\".join([str(line) for line in lines]))\n",
    "lines = []"
   ]
  },
  {
   "cell_type": "markdown",
   "id": "804fc210-fd27-4635-8842-8887871e1ee5",
   "metadata": {
    "editable": true,
    "slideshow": {
     "slide_type": ""
    },
    "tags": []
   },
   "source": [
    "Use tasks instead of coroutines.\n",
    "Note that `as_completed` always returns the wrapped coroutine."
   ]
  },
  {
   "cell_type": "code",
   "execution_count": 8,
   "id": "c5ae8c87-dabb-49a0-bdb3-57ccb8db7001",
   "metadata": {
    "editable": true,
    "execution": {
     "iopub.execute_input": "2024-04-14T16:30:50.670728Z",
     "iopub.status.busy": "2024-04-14T16:30:50.670359Z",
     "iopub.status.idle": "2024-04-14T16:30:53.178050Z",
     "shell.execute_reply": "2024-04-14T16:30:53.177280Z",
     "shell.execute_reply.started": "2024-04-14T16:30:50.670713Z"
    },
    "slideshow": {
     "slide_type": ""
    },
    "tags": []
   },
   "outputs": [],
   "source": [
    "for coro in asyncio.as_completed(\n",
    "    [\n",
    "        asyncio.create_task(friendly_wait_for(2.5)),\n",
    "        asyncio.create_task(friendly_wait_for(1)),\n",
    "        asyncio.create_task(friendly_wait_for(0.5)),\n",
    "    ]\n",
    "):\n",
    "    result = await coro\n",
    "    print(result)"
   ]
  },
  {
   "cell_type": "code",
   "execution_count": 9,
   "id": "fc36ff32-bb36-4991-ab9e-f00664d7a2eb",
   "metadata": {
    "editable": true,
    "execution": {
     "iopub.execute_input": "2024-04-14T16:30:53.179488Z",
     "iopub.status.busy": "2024-04-14T16:30:53.179186Z",
     "iopub.status.idle": "2024-04-14T16:30:53.182619Z",
     "shell.execute_reply": "2024-04-14T16:30:53.182180Z",
     "shell.execute_reply.started": "2024-04-14T16:30:53.179470Z"
    },
    "slideshow": {
     "slide_type": ""
    },
    "tags": [
     "remove-input"
    ]
   },
   "outputs": [
    {
     "name": "stdout",
     "output_type": "stream",
     "text": [
      "Done waiting for 0.5 seconds.\n",
      "0.5\n",
      "Done waiting for 1 seconds.\n",
      "1\n",
      "Done waiting for 2.5 seconds.\n",
      "2.5\n"
     ]
    }
   ],
   "source": [
    "real_print(\"\\n\".join([str(line) for line in lines]))\n",
    "lines = []"
   ]
  },
  {
   "cell_type": "code",
   "execution_count": null,
   "id": "35335fd0-3ad0-4edc-91a2-57e67e0e9c58",
   "metadata": {
    "editable": true,
    "slideshow": {
     "slide_type": ""
    },
    "tags": []
   },
   "outputs": [],
   "source": []
  }
 ],
 "metadata": {
  "kernelspec": {
   "display_name": "Python 3 (ipykernel)",
   "language": "python",
   "name": "python3"
  },
  "language_info": {
   "codemirror_mode": {
    "name": "ipython",
    "version": 3
   },
   "file_extension": ".py",
   "mimetype": "text/x-python",
   "name": "python",
   "nbconvert_exporter": "python",
   "pygments_lexer": "ipython3",
   "version": "3.12.2"
  }
 },
 "nbformat": 4,
 "nbformat_minor": 5
}
