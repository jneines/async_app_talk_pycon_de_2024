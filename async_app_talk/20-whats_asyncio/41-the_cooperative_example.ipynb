{
 "cells": [
  {
   "cell_type": "markdown",
   "id": "9fcddd6c-9ed5-4091-a06c-d3b8d580463e",
   "metadata": {
    "editable": true,
    "slideshow": {
     "slide_type": ""
    },
    "tags": []
   },
   "source": [
    "# The cooperative example"
   ]
  },
  {
   "cell_type": "code",
   "execution_count": 1,
   "id": "8075d6fa-2d98-4e5f-afd7-9088f4de5887",
   "metadata": {
    "editable": true,
    "execution": {
     "iopub.execute_input": "2024-04-13T21:16:19.032512Z",
     "iopub.status.busy": "2024-04-13T21:16:19.032230Z",
     "iopub.status.idle": "2024-04-13T21:16:19.035591Z",
     "shell.execute_reply": "2024-04-13T21:16:19.034993Z",
     "shell.execute_reply.started": "2024-04-13T21:16:19.032492Z"
    },
    "slideshow": {
     "slide_type": ""
    },
    "tags": [
     "remove-cell"
    ]
   },
   "outputs": [],
   "source": [
    "import asyncio\n",
    "import time"
   ]
  },
  {
   "cell_type": "code",
   "execution_count": 2,
   "id": "f0ef8261-28c4-4e1b-b609-3ae8de315387",
   "metadata": {
    "editable": true,
    "execution": {
     "iopub.execute_input": "2024-04-13T21:16:19.327998Z",
     "iopub.status.busy": "2024-04-13T21:16:19.327783Z",
     "iopub.status.idle": "2024-04-13T21:16:19.330822Z",
     "shell.execute_reply": "2024-04-13T21:16:19.330400Z",
     "shell.execute_reply.started": "2024-04-13T21:16:19.327983Z"
    },
    "slideshow": {
     "slide_type": ""
    },
    "tags": [
     "remove-cell"
    ]
   },
   "outputs": [],
   "source": [
    "# override print to allow showing the output in one cell as it was printed in a terminal\n",
    "import os\n",
    "\n",
    "real_print = print\n",
    "lines = []\n",
    "def print(text):\n",
    "    global lines\n",
    "    lines.append(text)"
   ]
  },
  {
   "cell_type": "code",
   "execution_count": 3,
   "id": "943d6f50-2387-4360-8a21-16d4d09b0352",
   "metadata": {
    "editable": true,
    "execution": {
     "iopub.execute_input": "2024-04-13T21:16:19.936214Z",
     "iopub.status.busy": "2024-04-13T21:16:19.936002Z",
     "iopub.status.idle": "2024-04-13T21:16:19.939127Z",
     "shell.execute_reply": "2024-04-13T21:16:19.938734Z",
     "shell.execute_reply.started": "2024-04-13T21:16:19.936198Z"
    },
    "slideshow": {
     "slide_type": ""
    },
    "tags": [
     "remove-cell"
    ]
   },
   "outputs": [],
   "source": [
    "async def notify_every(every):\n",
    "    while keep_running:\n",
    "        print(\"Notify!\")\n",
    "        await asyncio.sleep(every)"
   ]
  },
  {
   "cell_type": "code",
   "execution_count": 4,
   "id": "ead45488-e344-4dbf-b90c-9bab46eb056b",
   "metadata": {
    "editable": true,
    "execution": {
     "iopub.execute_input": "2024-04-13T21:16:20.791689Z",
     "iopub.status.busy": "2024-04-13T21:16:20.791468Z",
     "iopub.status.idle": "2024-04-13T21:16:20.794970Z",
     "shell.execute_reply": "2024-04-13T21:16:20.794361Z",
     "shell.execute_reply.started": "2024-04-13T21:16:20.791673Z"
    },
    "slideshow": {
     "slide_type": ""
    },
    "tags": [
     "remove-cell"
    ]
   },
   "outputs": [],
   "source": [
    "async def exit_after(exit_after):\n",
    "    global keep_running\n",
    "    \n",
    "    await asyncio.sleep(exit_after)\n",
    "    keep_running = False"
   ]
  },
  {
   "cell_type": "markdown",
   "id": "47db3434-61d8-492d-b48b-8cb8a79c3c0e",
   "metadata": {
    "editable": true,
    "slideshow": {
     "slide_type": ""
    },
    "tags": []
   },
   "source": [
    "But how can this be transformed into something more friendly?\n",
    "\n",
    "All that needs to be done is to split our *long* `time.sleep` call into a series of many *shorter* `time.sleep` calls, which in the end add up to the same amount of sleep time. \n",
    "\n",
    "A call to `asyncio.sleep` with in minimalist sleep time allows intercepting the 'work' and execute other things in parallel.\n",
    "\n",
    "The `friendly_blocking_wait_for` function immplements just this."
   ]
  },
  {
   "cell_type": "code",
   "execution_count": 6,
   "id": "0aaf1b61-0da7-4478-bcbb-9efea691a15f",
   "metadata": {
    "editable": true,
    "execution": {
     "iopub.execute_input": "2024-04-13T21:16:50.367989Z",
     "iopub.status.busy": "2024-04-13T21:16:50.367773Z",
     "iopub.status.idle": "2024-04-13T21:16:50.371249Z",
     "shell.execute_reply": "2024-04-13T21:16:50.370843Z",
     "shell.execute_reply.started": "2024-04-13T21:16:50.367973Z"
    },
    "slideshow": {
     "slide_type": ""
    },
    "tags": []
   },
   "outputs": [],
   "source": [
    "async def friendly_blocking_wait_for(wait_for):\n",
    "    print(f\"I'm going to sleep right now for {wait_for} seconds.\")\n",
    "    \n",
    "    # split blocking wait_for into parts\n",
    "    number_of_parts=10\n",
    "    sub_wait_for = wait_for / number_of_parts\n",
    "    \n",
    "    tic = time.perf_counter()\n",
    "    for index in range(number_of_parts):\n",
    "        # That call is still blocking!\n",
    "        time.sleep(sub_wait_for)\n",
    "        # This little 'pause' allows asyncio to trigger things in between\n",
    "        await asyncio.sleep(1e-6)\n",
    "    toc = time.perf_counter()\n",
    "    \n",
    "    print(\n",
    "        \"Hey y'all. That was a good nap! \"\n",
    "        f\"Slept for {toc-tic:.2f} seconds. \"\n",
    "        \"Did i miss something?\"\n",
    "        )"
   ]
  },
  {
   "cell_type": "markdown",
   "id": "80b4e002-d2e4-4a74-8b39-8b572dcce4e4",
   "metadata": {
    "editable": true,
    "slideshow": {
     "slide_type": ""
    },
    "tags": []
   },
   "source": [
    "Let's check if that already helped."
   ]
  },
  {
   "cell_type": "code",
   "execution_count": 7,
   "id": "c9f27571-3e1e-4edd-b8ac-ef4b7384071e",
   "metadata": {
    "editable": true,
    "execution": {
     "iopub.execute_input": "2024-04-13T21:16:51.414381Z",
     "iopub.status.busy": "2024-04-13T21:16:51.414163Z",
     "iopub.status.idle": "2024-04-13T21:16:56.471643Z",
     "shell.execute_reply": "2024-04-13T21:16:56.470815Z",
     "shell.execute_reply.started": "2024-04-13T21:16:51.414365Z"
    },
    "slideshow": {
     "slide_type": ""
    },
    "tags": []
   },
   "outputs": [],
   "source": [
    "keep_running = True\n",
    "exec_for = 5\n",
    "wait_for = 2\n",
    "_notify_every = .2\n",
    "\n",
    "tic = time.perf_counter()\n",
    "_ = await asyncio.gather(\n",
    "    exit_after(exec_for),\n",
    "    notify_every(_notify_every),\n",
    "    friendly_blocking_wait_for(wait_for),\n",
    ")\n",
    "toc = time.perf_counter()\n",
    "\n",
    "print(f\"All over execution time was {toc - tic:.2f} seconds.\")"
   ]
  },
  {
   "cell_type": "code",
   "execution_count": 8,
   "id": "db82f9f2-14bb-4c69-b08b-28fbf43d1f10",
   "metadata": {
    "editable": true,
    "execution": {
     "iopub.execute_input": "2024-04-13T21:16:56.473104Z",
     "iopub.status.busy": "2024-04-13T21:16:56.472832Z",
     "iopub.status.idle": "2024-04-13T21:16:56.476189Z",
     "shell.execute_reply": "2024-04-13T21:16:56.475715Z",
     "shell.execute_reply.started": "2024-04-13T21:16:56.473086Z"
    },
    "slideshow": {
     "slide_type": ""
    },
    "tags": [
     "remove-input"
    ]
   },
   "outputs": [
    {
     "name": "stdout",
     "output_type": "stream",
     "text": [
      "Notify!\n",
      "I'm going to sleep right now for 2 seconds.\n",
      "Notify!\n",
      "Notify!\n",
      "Notify!\n",
      "Notify!\n",
      "Notify!\n",
      "Notify!\n",
      "Notify!\n",
      "Notify!\n",
      "Notify!\n",
      "Notify!\n",
      "Hey y'all. That was a good nap! Slept for 2.04 seconds. Did i miss something?\n",
      "Notify!\n",
      "Notify!\n",
      "Notify!\n",
      "Notify!\n",
      "Notify!\n",
      "Notify!\n",
      "Notify!\n",
      "Notify!\n",
      "Notify!\n",
      "Notify!\n",
      "Notify!\n",
      "Notify!\n",
      "Notify!\n",
      "Notify!\n",
      "All over execution time was 5.05 seconds.\n"
     ]
    }
   ],
   "source": [
    "real_print(\"\\n\".join(lines))\n",
    "lines = []"
   ]
  },
  {
   "cell_type": "markdown",
   "id": "383571a3-5306-43c7-92fa-9cf874ea5a92",
   "metadata": {
    "editable": true,
    "slideshow": {
     "slide_type": ""
    },
    "tags": []
   },
   "source": [
    "Much better!\n",
    "\n",
    "So for every function that has to be interceptable a special implementatio allowing this needs to be available. \n",
    "\n",
    "And that's exactly the case. Find *doubles* of almost all blocking Python functions below the [asyncio part of Pythons documentation](https://docs.python.org/3/library/asyncio.html)."
   ]
  },
  {
   "cell_type": "code",
   "execution_count": null,
   "id": "ebc4bfb3-1e7e-40be-9187-a84e680ea8c5",
   "metadata": {
    "editable": true,
    "slideshow": {
     "slide_type": ""
    },
    "tags": []
   },
   "outputs": [],
   "source": []
  }
 ],
 "metadata": {
  "kernelspec": {
   "display_name": "Python 3 (ipykernel)",
   "language": "python",
   "name": "python3"
  },
  "language_info": {
   "codemirror_mode": {
    "name": "ipython",
    "version": 3
   },
   "file_extension": ".py",
   "mimetype": "text/x-python",
   "name": "python",
   "nbconvert_exporter": "python",
   "pygments_lexer": "ipython3",
   "version": "3.12.2"
  }
 },
 "nbformat": 4,
 "nbformat_minor": 5
}
