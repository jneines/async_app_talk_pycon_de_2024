{
 "cells": [
  {
   "cell_type": "code",
   "execution_count": 1,
   "id": "126857fc-c27b-41cb-b48b-af0a75a419dd",
   "metadata": {
    "editable": true,
    "execution": {
     "iopub.execute_input": "2024-04-05T15:36:34.119564Z",
     "iopub.status.busy": "2024-04-05T15:36:34.119317Z",
     "iopub.status.idle": "2024-04-05T15:36:34.123299Z",
     "shell.execute_reply": "2024-04-05T15:36:34.122513Z",
     "shell.execute_reply.started": "2024-04-05T15:36:34.119546Z"
    },
    "slideshow": {
     "slide_type": ""
    },
    "tags": [
     "remove-cell"
    ]
   },
   "outputs": [],
   "source": [
    "import subprocess\n",
    "from pathlib import Path\n",
    "import tempfile\n",
    "import shlex\n",
    "from IPython.display import SVG, Image"
   ]
  },
  {
   "cell_type": "code",
   "execution_count": 2,
   "id": "549cdf3b-858d-40e6-ba11-34d0e22e60ca",
   "metadata": {
    "editable": true,
    "execution": {
     "iopub.execute_input": "2024-04-05T15:36:34.124259Z",
     "iopub.status.busy": "2024-04-05T15:36:34.124039Z",
     "iopub.status.idle": "2024-04-05T15:36:34.128928Z",
     "shell.execute_reply": "2024-04-05T15:36:34.128424Z",
     "shell.execute_reply.started": "2024-04-05T15:36:34.124243Z"
    },
    "slideshow": {
     "slide_type": ""
    },
    "tags": [
     "remove-cell"
    ]
   },
   "outputs": [],
   "source": [
    "def run_mmdc(input_str, output_format=\"svg\", output_width=600, debug=False):\n",
    "    out_path = tempfile.mktemp(suffix=f\".{output_format}\")\n",
    "    cmd = f\"mmdc -q --backgroundColor transparent --width {output_width} -o {out_path} -s 2 -i -\"\n",
    "    p = subprocess.Popen(shlex.split(cmd), stdin=subprocess.PIPE, stdout=subprocess.PIPE, stderr=subprocess.PIPE, encoding=\"ascii\", universal_newlines=False)\n",
    "    stdout, stderr = p.communicate(input_str)\n",
    "\n",
    "    if debug:\n",
    "        print(stdout)\n",
    "        print(stderr)\n",
    "\n",
    "    out_file = Path(out_path)\n",
    "    with out_file.open(\"rb\") as fd:\n",
    "        image_data = fd.read()\n",
    "    out_file.unlink()\n",
    "    if output_format == \"svg\":\n",
    "        return SVG(data=image_data.decode(\"utf-8\").replace(\"width=\\\"100%\\\"\", \"width=\\\"600\\\"\"))\n",
    "    else:\n",
    "        return Image(image_data, width=output_width)"
   ]
  },
  {
   "cell_type": "markdown",
   "id": "2f90c025-ff7f-43db-a415-96278cdcaae7",
   "metadata": {
    "editable": true,
    "slideshow": {
     "slide_type": ""
    },
    "tags": []
   },
   "source": [
    "# Asyncio based execution"
   ]
  },
  {
   "cell_type": "code",
   "execution_count": 3,
   "id": "b204314c-6dc1-4eab-a80f-62d5301284fc",
   "metadata": {
    "editable": true,
    "execution": {
     "iopub.execute_input": "2024-04-05T15:36:34.129959Z",
     "iopub.status.busy": "2024-04-05T15:36:34.129707Z",
     "iopub.status.idle": "2024-04-05T15:36:35.428319Z",
     "shell.execute_reply": "2024-04-05T15:36:35.427889Z",
     "shell.execute_reply.started": "2024-04-05T15:36:34.129945Z"
    },
    "slideshow": {
     "slide_type": ""
    },
    "tags": [
     "remove-input"
    ]
   },
   "outputs": [
    {
     "data": {
      "image/svg+xml": [
       "<svg xmlns:xlink=\"http://www.w3.org/1999/xlink\" xmlns=\"http://www.w3.org/2000/svg\" aria-roledescription=\"block\" role=\"graphics-document document\" viewBox=\"-5 -294.25 417.5625 588.5\" style=\"max-width: 417.562px; background-color: transparent;\" width=\"600\" id=\"my-svg\"><style>#my-svg{font-family:&quot;trebuchet ms&quot;,verdana,arial,sans-serif;font-size:16px;fill:#333;}#my-svg .error-icon{fill:#552222;}#my-svg .error-text{fill:#552222;stroke:#552222;}#my-svg .edge-thickness-normal{stroke-width:2px;}#my-svg .edge-thickness-thick{stroke-width:3.5px;}#my-svg .edge-pattern-solid{stroke-dasharray:0;}#my-svg .edge-pattern-dashed{stroke-dasharray:3;}#my-svg .edge-pattern-dotted{stroke-dasharray:2;}#my-svg .marker{fill:#333333;stroke:#333333;}#my-svg .marker.cross{stroke:#333333;}#my-svg svg{font-family:&quot;trebuchet ms&quot;,verdana,arial,sans-serif;font-size:16px;}#my-svg .label{font-family:&quot;trebuchet ms&quot;,verdana,arial,sans-serif;color:#333;}#my-svg .cluster-label text{fill:#333;}#my-svg .cluster-label span,#my-svg p{color:#333;}#my-svg .label text,#my-svg span,#my-svg p{fill:#333;color:#333;}#my-svg .node rect,#my-svg .node circle,#my-svg .node ellipse,#my-svg .node polygon,#my-svg .node path{fill:#ECECFF;stroke:#9370DB;stroke-width:1px;}#my-svg .flowchart-label text{text-anchor:middle;}#my-svg .node .label{text-align:center;}#my-svg .node.clickable{cursor:pointer;}#my-svg .arrowheadPath{fill:#333333;}#my-svg .edgePath .path{stroke:#333333;stroke-width:2.0px;}#my-svg .flowchart-link{stroke:#333333;fill:none;}#my-svg .edgeLabel{background-color:#e8e8e8;text-align:center;}#my-svg .edgeLabel rect{opacity:0.5;background-color:#e8e8e8;fill:#e8e8e8;}#my-svg .labelBkg{background-color:rgba(232, 232, 232, 0.5);}#my-svg .node .cluster{fill:rgba(255, 255, 222, 0.5);stroke:rgba(170, 170, 51, 0.2);box-shadow:rgba(50, 50, 93, 0.25) 0px 13px 27px -5px,rgba(0, 0, 0, 0.3) 0px 8px 16px -8px;stroke-width:1px;}#my-svg .cluster text{fill:#333;}#my-svg .cluster span,#my-svg p{color:#333;}#my-svg div.mermaidTooltip{position:absolute;text-align:center;max-width:200px;padding:2px;font-family:&quot;trebuchet ms&quot;,verdana,arial,sans-serif;font-size:12px;background:hsl(80, 100%, 96.2745098039%);border:1px solid #aaaa33;border-radius:2px;pointer-events:none;z-index:100;}#my-svg .flowchartTitleText{text-anchor:middle;font-size:18px;fill:#333;}#my-svg :root{--mermaid-font-family:&quot;trebuchet ms&quot;,verdana,arial,sans-serif;}</style><g/><marker orient=\"auto\" markerHeight=\"12\" markerWidth=\"12\" markerUnits=\"userSpaceOnUse\" refY=\"5\" refX=\"6\" viewBox=\"0 0 10 10\" class=\"marker block\" id=\"my-svg_block-pointEnd\"><path style=\"stroke-width: 1; stroke-dasharray: 1, 0;\" class=\"arrowMarkerPath\" d=\"M 0 0 L 10 5 L 0 10 z\"/></marker><marker orient=\"auto\" markerHeight=\"12\" markerWidth=\"12\" markerUnits=\"userSpaceOnUse\" refY=\"5\" refX=\"4.5\" viewBox=\"0 0 10 10\" class=\"marker block\" id=\"my-svg_block-pointStart\"><path style=\"stroke-width: 1; stroke-dasharray: 1, 0;\" class=\"arrowMarkerPath\" d=\"M 0 5 L 10 10 L 10 0 z\"/></marker><marker orient=\"auto\" markerHeight=\"11\" markerWidth=\"11\" markerUnits=\"userSpaceOnUse\" refY=\"5\" refX=\"11\" viewBox=\"0 0 10 10\" class=\"marker block\" id=\"my-svg_block-circleEnd\"><circle style=\"stroke-width: 1; stroke-dasharray: 1, 0;\" class=\"arrowMarkerPath\" r=\"5\" cy=\"5\" cx=\"5\"/></marker><marker orient=\"auto\" markerHeight=\"11\" markerWidth=\"11\" markerUnits=\"userSpaceOnUse\" refY=\"5\" refX=\"-1\" viewBox=\"0 0 10 10\" class=\"marker block\" id=\"my-svg_block-circleStart\"><circle style=\"stroke-width: 1; stroke-dasharray: 1, 0;\" class=\"arrowMarkerPath\" r=\"5\" cy=\"5\" cx=\"5\"/></marker><marker orient=\"auto\" markerHeight=\"11\" markerWidth=\"11\" markerUnits=\"userSpaceOnUse\" refY=\"5.2\" refX=\"12\" viewBox=\"0 0 11 11\" class=\"marker cross block\" id=\"my-svg_block-crossEnd\"><path style=\"stroke-width: 2; stroke-dasharray: 1, 0;\" class=\"arrowMarkerPath\" d=\"M 1,1 l 9,9 M 10,1 l -9,9\"/></marker><marker orient=\"auto\" markerHeight=\"11\" markerWidth=\"11\" markerUnits=\"userSpaceOnUse\" refY=\"5.2\" refX=\"-1\" viewBox=\"0 0 11 11\" class=\"marker cross block\" id=\"my-svg_block-crossStart\"><path style=\"stroke-width: 2; stroke-dasharray: 1, 0;\" class=\"arrowMarkerPath\" d=\"M 1,1 l 9,9 M 10,1 l -9,9\"/></marker><g class=\"block\"><g transform=\"translate(203.78125, -276)\" data-id=\"T00\" data-node=\"true\" id=\"T00\" class=\"node default default flowchart-label\"><rect height=\"26.5\" width=\"407.5625\" y=\"-13.25\" x=\"-203.78125\" ry=\"0\" rx=\"0\" style=\"fill:#d4bb5c;stroke:#d48e20;\" class=\"basic label-container\"/><g transform=\"translate(-43.9453125, -9.25)\" style=\"color:#555;\" class=\"label\"><rect/><foreignObject height=\"18.5\" width=\"87.890625\"><div xmlns=\"http://www.w3.org/1999/xhtml\" style=\"color: rgb(85, 85, 85); display: inline-block; white-space: nowrap;\"><span style=\"color:#555;\" class=\"nodeLabel\">Main Thread</span></div></foreignObject></g></g><g transform=\"translate(47.9453125, -241.5)\" data-id=\"T11\" data-node=\"true\" id=\"T11\" class=\"node default default flowchart-label\"><rect height=\"26.5\" width=\"95.890625\" y=\"-13.25\" x=\"-47.9453125\" ry=\"0\" rx=\"0\" style=\"fill:#ca5d46;stroke:#d48e20;\" class=\"basic label-container\"/><g transform=\"translate(-21.73046875, -9.25)\" style=\"color:#cfcfcf;\" class=\"label\"><rect/><foreignObject height=\"18.5\" width=\"43.4609375\"><div xmlns=\"http://www.w3.org/1999/xhtml\" style=\"color: rgb(207, 207, 207); display: inline-block; white-space: nowrap;\"><span style=\"color:#cfcfcf;\" class=\"nodeLabel\">Task 1</span></div></foreignObject></g></g><g transform=\"translate(151.8359375, -207)\" data-id=\"T21\" data-node=\"true\" id=\"T21\" class=\"node default default flowchart-label\"><rect height=\"26.5\" width=\"95.890625\" y=\"-13.25\" x=\"-47.9453125\" ry=\"0\" rx=\"0\" style=\"fill:#ca5d46;stroke:#d48e20;\" class=\"basic label-container\"/><g transform=\"translate(-21.73046875, -9.25)\" style=\"color:#cfcfcf;\" class=\"label\"><rect/><foreignObject height=\"18.5\" width=\"43.4609375\"><div xmlns=\"http://www.w3.org/1999/xhtml\" style=\"color: rgb(207, 207, 207); display: inline-block; white-space: nowrap;\"><span style=\"color:#cfcfcf;\" class=\"nodeLabel\">Task 2</span></div></foreignObject></g></g><g transform=\"translate(255.7265625, -172.5)\" data-id=\"P11\" data-node=\"true\" id=\"P11\" class=\"node default default flowchart-label\"><rect height=\"26.5\" width=\"95.890625\" y=\"-13.25\" x=\"-47.9453125\" ry=\"0\" rx=\"0\" style=\"fill:#6d794c;stroke:#d48e20;\" class=\"basic label-container\"/><g transform=\"translate(-42, -9.25)\" style=\"color:#cfcfcf;\" class=\"label\"><rect/><foreignObject height=\"18.5\" width=\"84\"><div xmlns=\"http://www.w3.org/1999/xhtml\" style=\"color: rgb(207, 207, 207); display: inline-block; white-space: nowrap;\"><span style=\"color:#cfcfcf;\" class=\"nodeLabel\">Periodical 1</span></div></foreignObject></g></g><g transform=\"translate(359.6171875, -138)\" data-id=\"P21\" data-node=\"true\" id=\"P21\" class=\"node default default flowchart-label\"><rect height=\"26.5\" width=\"95.890625\" y=\"-13.25\" x=\"-47.9453125\" ry=\"0\" rx=\"0\" style=\"fill:#6d794c;stroke:#d48e20;\" class=\"basic label-container\"/><g transform=\"translate(-42, -9.25)\" style=\"color:#cfcfcf;\" class=\"label\"><rect/><foreignObject height=\"18.5\" width=\"84\"><div xmlns=\"http://www.w3.org/1999/xhtml\" style=\"color: rgb(207, 207, 207); display: inline-block; white-space: nowrap;\"><span style=\"color:#cfcfcf;\" class=\"nodeLabel\">Periodical 2</span></div></foreignObject></g></g><g transform=\"translate(47.9453125, -103.5)\" data-id=\"T12\" data-node=\"true\" id=\"T12\" class=\"node default default flowchart-label\"><rect height=\"26.5\" width=\"95.890625\" y=\"-13.25\" x=\"-47.9453125\" ry=\"0\" rx=\"0\" style=\"fill:#ca5d46;stroke:#d48e20;\" class=\"basic label-container\"/><g transform=\"translate(-21.73046875, -9.25)\" style=\"color:#cfcfcf;\" class=\"label\"><rect/><foreignObject height=\"18.5\" width=\"43.4609375\"><div xmlns=\"http://www.w3.org/1999/xhtml\" style=\"color: rgb(207, 207, 207); display: inline-block; white-space: nowrap;\"><span style=\"color:#cfcfcf;\" class=\"nodeLabel\">Task 1</span></div></foreignObject></g></g><g transform=\"translate(151.8359375, -69)\" data-id=\"T22\" data-node=\"true\" id=\"T22\" class=\"node default default flowchart-label\"><rect height=\"26.5\" width=\"95.890625\" y=\"-13.25\" x=\"-47.9453125\" ry=\"0\" rx=\"0\" style=\"fill:#ca5d46;stroke:#d48e20;\" class=\"basic label-container\"/><g transform=\"translate(-21.73046875, -9.25)\" style=\"color:#cfcfcf;\" class=\"label\"><rect/><foreignObject height=\"18.5\" width=\"43.4609375\"><div xmlns=\"http://www.w3.org/1999/xhtml\" style=\"color: rgb(207, 207, 207); display: inline-block; white-space: nowrap;\"><span style=\"color:#cfcfcf;\" class=\"nodeLabel\">Task 2</span></div></foreignObject></g></g><g transform=\"translate(255.7265625, -34.5)\" data-id=\"P12\" data-node=\"true\" id=\"P12\" class=\"node default default flowchart-label\"><rect height=\"26.5\" width=\"95.890625\" y=\"-13.25\" x=\"-47.9453125\" ry=\"0\" rx=\"0\" style=\"fill:#6d794c;stroke:#d48e20;\" class=\"basic label-container\"/><g transform=\"translate(-42, -9.25)\" style=\"color:#cfcfcf;\" class=\"label\"><rect/><foreignObject height=\"18.5\" width=\"84\"><div xmlns=\"http://www.w3.org/1999/xhtml\" style=\"color: rgb(207, 207, 207); display: inline-block; white-space: nowrap;\"><span style=\"color:#cfcfcf;\" class=\"nodeLabel\">Periodical 1</span></div></foreignObject></g></g><g transform=\"translate(47.9453125, 34.5)\" data-id=\"T13\" data-node=\"true\" id=\"T13\" class=\"node default default flowchart-label\"><rect height=\"26.5\" width=\"95.890625\" y=\"-13.25\" x=\"-47.9453125\" ry=\"0\" rx=\"0\" style=\"fill:#ca5d46;stroke:#d48e20;\" class=\"basic label-container\"/><g transform=\"translate(-21.73046875, -9.25)\" style=\"color:#cfcfcf;\" class=\"label\"><rect/><foreignObject height=\"18.5\" width=\"43.4609375\"><div xmlns=\"http://www.w3.org/1999/xhtml\" style=\"color: rgb(207, 207, 207); display: inline-block; white-space: nowrap;\"><span style=\"color:#cfcfcf;\" class=\"nodeLabel\">Task 1</span></div></foreignObject></g></g><g transform=\"translate(151.8359375, 69)\" data-id=\"T23\" data-node=\"true\" id=\"T23\" class=\"node default default flowchart-label\"><rect height=\"26.5\" width=\"95.890625\" y=\"-13.25\" x=\"-47.9453125\" ry=\"0\" rx=\"0\" style=\"fill:#ca5d46;stroke:#d48e20;\" class=\"basic label-container\"/><g transform=\"translate(-21.73046875, -9.25)\" style=\"color:#cfcfcf;\" class=\"label\"><rect/><foreignObject height=\"18.5\" width=\"43.4609375\"><div xmlns=\"http://www.w3.org/1999/xhtml\" style=\"color: rgb(207, 207, 207); display: inline-block; white-space: nowrap;\"><span style=\"color:#cfcfcf;\" class=\"nodeLabel\">Task 2</span></div></foreignObject></g></g><g transform=\"translate(255.7265625, 103.5)\" data-id=\"P13\" data-node=\"true\" id=\"P13\" class=\"node default default flowchart-label\"><rect height=\"26.5\" width=\"95.890625\" y=\"-13.25\" x=\"-47.9453125\" ry=\"0\" rx=\"0\" style=\"fill:#6d794c;stroke:#d48e20;\" class=\"basic label-container\"/><g transform=\"translate(-42, -9.25)\" style=\"color:#cfcfcf;\" class=\"label\"><rect/><foreignObject height=\"18.5\" width=\"84\"><div xmlns=\"http://www.w3.org/1999/xhtml\" style=\"color: rgb(207, 207, 207); display: inline-block; white-space: nowrap;\"><span style=\"color:#cfcfcf;\" class=\"nodeLabel\">Periodical 1</span></div></foreignObject></g></g><g transform=\"translate(359.6171875, 138)\" data-id=\"P23\" data-node=\"true\" id=\"P23\" class=\"node default default flowchart-label\"><rect height=\"26.5\" width=\"95.890625\" y=\"-13.25\" x=\"-47.9453125\" ry=\"0\" rx=\"0\" style=\"fill:#6d794c;stroke:#d48e20;\" class=\"basic label-container\"/><g transform=\"translate(-42, -9.25)\" style=\"color:#cfcfcf;\" class=\"label\"><rect/><foreignObject height=\"18.5\" width=\"84\"><div xmlns=\"http://www.w3.org/1999/xhtml\" style=\"color: rgb(207, 207, 207); display: inline-block; white-space: nowrap;\"><span style=\"color:#cfcfcf;\" class=\"nodeLabel\">Periodical 2</span></div></foreignObject></g></g><g transform=\"translate(47.9453125, 172.5)\" data-id=\"T14\" data-node=\"true\" id=\"T14\" class=\"node default default flowchart-label\"><rect height=\"26.5\" width=\"95.890625\" y=\"-13.25\" x=\"-47.9453125\" ry=\"0\" rx=\"0\" style=\"fill:#ca5d46;stroke:#d48e20;\" class=\"basic label-container\"/><g transform=\"translate(-21.73046875, -9.25)\" style=\"color:#cfcfcf;\" class=\"label\"><rect/><foreignObject height=\"18.5\" width=\"43.4609375\"><div xmlns=\"http://www.w3.org/1999/xhtml\" style=\"color: rgb(207, 207, 207); display: inline-block; white-space: nowrap;\"><span style=\"color:#cfcfcf;\" class=\"nodeLabel\">Task 1</span></div></foreignObject></g></g><g transform=\"translate(151.8359375, 207)\" data-id=\"T24\" data-node=\"true\" id=\"T24\" class=\"node default default flowchart-label\"><rect height=\"26.5\" width=\"95.890625\" y=\"-13.25\" x=\"-47.9453125\" ry=\"0\" rx=\"0\" style=\"fill:#ca5d46;stroke:#d48e20;\" class=\"basic label-container\"/><g transform=\"translate(-21.73046875, -9.25)\" style=\"color:#cfcfcf;\" class=\"label\"><rect/><foreignObject height=\"18.5\" width=\"43.4609375\"><div xmlns=\"http://www.w3.org/1999/xhtml\" style=\"color: rgb(207, 207, 207); display: inline-block; white-space: nowrap;\"><span style=\"color:#cfcfcf;\" class=\"nodeLabel\">Task 2</span></div></foreignObject></g></g><g transform=\"translate(255.7265625, 241.5)\" data-id=\"P14\" data-node=\"true\" id=\"P14\" class=\"node default default flowchart-label\"><rect height=\"26.5\" width=\"95.890625\" y=\"-13.25\" x=\"-47.9453125\" ry=\"0\" rx=\"0\" style=\"fill:#6d794c;stroke:#d48e20;\" class=\"basic label-container\"/><g transform=\"translate(-42, -9.25)\" style=\"color:#cfcfcf;\" class=\"label\"><rect/><foreignObject height=\"18.5\" width=\"84\"><div xmlns=\"http://www.w3.org/1999/xhtml\" style=\"color: rgb(207, 207, 207); display: inline-block; white-space: nowrap;\"><span style=\"color:#cfcfcf;\" class=\"nodeLabel\">Periodical 1</span></div></foreignObject></g></g></g></svg>"
      ],
      "text/plain": [
       "<IPython.core.display.SVG object>"
      ]
     },
     "execution_count": 3,
     "metadata": {},
     "output_type": "execute_result"
    }
   ],
   "source": [
    "async_version=\"\"\"\n",
    "block-beta\n",
    "  columns 4\n",
    "  T00[\"Main Thread\"]:4\n",
    "\n",
    "  T11[\"Task 1\"] space space space\n",
    "  space T21[\"Task 2\"] space space \n",
    "  space space P11[\"Periodical 1\"] space\n",
    "  space space space P21[\"Periodical 2\"]\n",
    "\n",
    "  T12[\"Task 1\"] space space space\n",
    "  space T22[\"Task 2\"] space space \n",
    "  space space P12[\"Periodical 1\"] space\n",
    "  space space space space\n",
    "  \n",
    "  T13[\"Task 1\"] space space space\n",
    "  space T23[\"Task 2\"] space space \n",
    "  space space P13[\"Periodical 1\"] space\n",
    "  space space space P23[\"Periodical 2\"]\n",
    "  \n",
    "  T14[\"Task 1\"] space space space\n",
    "  space T24[\"Task 2\"] space space \n",
    "  space space P14[\"Periodical 1\"] space\n",
    "  space space space space\n",
    "  \n",
    "  style T00 fill:#d4bb5c,stroke:#d48e20,color:#555;\n",
    "  style T11 fill:#ca5d46,stroke:#d48e20,color:#cfcfcf; \n",
    "  style T12 fill:#ca5d46,stroke:#d48e20,color:#cfcfcf;\n",
    "  style T13 fill:#ca5d46,stroke:#d48e20,color:#cfcfcf; \n",
    "  style T14 fill:#ca5d46,stroke:#d48e20,color:#cfcfcf;\n",
    "\n",
    "  style T21 fill:#ca5d46,stroke:#d48e20,color:#cfcfcf; \n",
    "  style T22 fill:#ca5d46,stroke:#d48e20,color:#cfcfcf;\n",
    "  style T23 fill:#ca5d46,stroke:#d48e20,color:#cfcfcf; \n",
    "  style T24 fill:#ca5d46,stroke:#d48e20,color:#cfcfcf; \n",
    "\n",
    "  style P11 fill:#6d794c,stroke:#d48e20,color:#cfcfcf; \n",
    "  style P12 fill:#6d794c,stroke:#d48e20,color:#cfcfcf;\n",
    "  style P13 fill:#6d794c,stroke:#d48e20,color:#cfcfcf; \n",
    "  style P14 fill:#6d794c,stroke:#d48e20,color:#cfcfcf;\n",
    "\n",
    "  style P21 fill:#6d794c,stroke:#d48e20,color:#cfcfcf; \n",
    "  style P23 fill:#6d794c,stroke:#d48e20,color:#cfcfcf; \n",
    "\"\"\"\n",
    "run_mmdc(async_version, \"svg\", 800)"
   ]
  }
 ],
 "metadata": {
  "kernelspec": {
   "display_name": "Python 3 (ipykernel)",
   "language": "python",
   "name": "python3"
  },
  "language_info": {
   "codemirror_mode": {
    "name": "ipython",
    "version": 3
   },
   "file_extension": ".py",
   "mimetype": "text/x-python",
   "name": "python",
   "nbconvert_exporter": "python",
   "pygments_lexer": "ipython3",
   "version": "3.12.2"
  }
 },
 "nbformat": 4,
 "nbformat_minor": 5
}
