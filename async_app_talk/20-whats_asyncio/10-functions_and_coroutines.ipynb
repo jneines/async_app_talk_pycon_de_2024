{
 "cells": [
  {
   "cell_type": "markdown",
   "id": "221031ee-6849-4b46-b62a-9274d8c1ddcd",
   "metadata": {
    "editable": true,
    "slideshow": {
     "slide_type": ""
    },
    "tags": []
   },
   "source": [
    "# Functions and coroutines"
   ]
  },
  {
   "cell_type": "code",
   "execution_count": 1,
   "id": "822aa512-150f-4201-a4ee-0fac548bec23",
   "metadata": {
    "editable": true,
    "execution": {
     "iopub.execute_input": "2024-04-14T16:24:34.395952Z",
     "iopub.status.busy": "2024-04-14T16:24:34.395733Z",
     "iopub.status.idle": "2024-04-14T16:24:34.398925Z",
     "shell.execute_reply": "2024-04-14T16:24:34.398505Z",
     "shell.execute_reply.started": "2024-04-14T16:24:34.395933Z"
    },
    "slideshow": {
     "slide_type": ""
    },
    "tags": []
   },
   "outputs": [],
   "source": [
    "import asyncio\n",
    "import time"
   ]
  },
  {
   "cell_type": "code",
   "execution_count": 2,
   "id": "1e7aae25-4e50-4bf9-8f2d-a1297070501d",
   "metadata": {
    "editable": true,
    "execution": {
     "iopub.execute_input": "2024-04-14T16:24:34.399940Z",
     "iopub.status.busy": "2024-04-14T16:24:34.399746Z",
     "iopub.status.idle": "2024-04-14T16:24:34.402532Z",
     "shell.execute_reply": "2024-04-14T16:24:34.402048Z",
     "shell.execute_reply.started": "2024-04-14T16:24:34.399923Z"
    },
    "slideshow": {
     "slide_type": ""
    },
    "tags": [
     "remove-cell"
    ]
   },
   "outputs": [],
   "source": [
    "# override print to allow showing the output in one cell as it was printed in a terminal\n",
    "import os\n",
    "\n",
    "real_print = print\n",
    "lines = []\n",
    "def print(text):\n",
    "    global lines\n",
    "    lines.append(text)"
   ]
  },
  {
   "cell_type": "markdown",
   "id": "5ebe7953-3ad3-4529-9149-df5c9b1ac34f",
   "metadata": {
    "editable": true,
    "slideshow": {
     "slide_type": ""
    },
    "tags": []
   },
   "source": [
    "A traditional function definition as `def` shows.\n",
    "Calling it runs the function"
   ]
  },
  {
   "cell_type": "code",
   "execution_count": 3,
   "id": "368ff71d-f25e-4737-91bc-600fce37dbf7",
   "metadata": {
    "editable": true,
    "execution": {
     "iopub.execute_input": "2024-04-14T16:24:34.403672Z",
     "iopub.status.busy": "2024-04-14T16:24:34.403385Z",
     "iopub.status.idle": "2024-04-14T16:24:34.406930Z",
     "shell.execute_reply": "2024-04-14T16:24:34.406462Z",
     "shell.execute_reply.started": "2024-04-14T16:24:34.403656Z"
    },
    "slideshow": {
     "slide_type": ""
    },
    "tags": []
   },
   "outputs": [],
   "source": [
    "def blocking_wait_for(wait_for):\n",
    "    \n",
    "    time.sleep(wait_for)\n",
    "    \n",
    "    print(f\"Done waiting for {wait_for} seconds.\")\n",
    "    \n",
    "    return wait_for"
   ]
  },
  {
   "cell_type": "code",
   "execution_count": 4,
   "id": "cd7c9014-124e-4166-8a49-51907721ddbd",
   "metadata": {
    "editable": true,
    "execution": {
     "iopub.execute_input": "2024-04-14T16:24:34.407942Z",
     "iopub.status.busy": "2024-04-14T16:24:34.407784Z",
     "iopub.status.idle": "2024-04-14T16:24:35.413305Z",
     "shell.execute_reply": "2024-04-14T16:24:35.412531Z",
     "shell.execute_reply.started": "2024-04-14T16:24:34.407929Z"
    },
    "slideshow": {
     "slide_type": ""
    },
    "tags": []
   },
   "outputs": [],
   "source": [
    "result = blocking_wait_for(1)\n",
    "print(result)"
   ]
  },
  {
   "cell_type": "code",
   "execution_count": 5,
   "id": "f5704922-f145-4d14-b42c-33247226c33b",
   "metadata": {
    "editable": true,
    "execution": {
     "iopub.execute_input": "2024-04-14T16:24:35.414607Z",
     "iopub.status.busy": "2024-04-14T16:24:35.414371Z",
     "iopub.status.idle": "2024-04-14T16:24:35.417842Z",
     "shell.execute_reply": "2024-04-14T16:24:35.417332Z",
     "shell.execute_reply.started": "2024-04-14T16:24:35.414588Z"
    },
    "slideshow": {
     "slide_type": ""
    },
    "tags": [
     "remove-input"
    ]
   },
   "outputs": [
    {
     "name": "stdout",
     "output_type": "stream",
     "text": [
      "Done waiting for 1 seconds.\n",
      "1\n"
     ]
    }
   ],
   "source": [
    "real_print(\"\\n\".join([str(line) for line in lines]))\n",
    "lines = []"
   ]
  },
  {
   "cell_type": "markdown",
   "id": "3c036cbe-6c71-4e91-8ca9-c672f65b5784",
   "metadata": {
    "editable": true,
    "slideshow": {
     "slide_type": ""
    },
    "tags": []
   },
   "source": [
    "Another function. \n",
    "`async def` indicates we implement asynchronous functionality.\n",
    "Calling it generates a coroutine.\n",
    "It's not executed yet!\n",
    "The await statement makes it interruptible."
   ]
  },
  {
   "cell_type": "code",
   "execution_count": 6,
   "id": "44bb8288-8f2c-4928-84a9-05385694242b",
   "metadata": {
    "editable": true,
    "execution": {
     "iopub.execute_input": "2024-04-14T16:24:35.420255Z",
     "iopub.status.busy": "2024-04-14T16:24:35.420017Z",
     "iopub.status.idle": "2024-04-14T16:24:35.423790Z",
     "shell.execute_reply": "2024-04-14T16:24:35.423386Z",
     "shell.execute_reply.started": "2024-04-14T16:24:35.420242Z"
    },
    "slideshow": {
     "slide_type": ""
    },
    "tags": []
   },
   "outputs": [],
   "source": [
    "async def friendly_wait_for(wait_for):\n",
    "    \n",
    "    await asyncio.sleep(wait_for)\n",
    "    \n",
    "    print(f\"Done waiting for {wait_for} seconds.\")\n",
    "    \n",
    "    return wait_for"
   ]
  },
  {
   "cell_type": "code",
   "execution_count": 7,
   "id": "a1af72ed-42ff-42df-9345-451b635c39f2",
   "metadata": {
    "editable": true,
    "execution": {
     "iopub.execute_input": "2024-04-14T16:24:35.425014Z",
     "iopub.status.busy": "2024-04-14T16:24:35.424652Z",
     "iopub.status.idle": "2024-04-14T16:24:35.430675Z",
     "shell.execute_reply": "2024-04-14T16:24:35.430165Z",
     "shell.execute_reply.started": "2024-04-14T16:24:35.425000Z"
    },
    "slideshow": {
     "slide_type": ""
    },
    "tags": []
   },
   "outputs": [
    {
     "data": {
      "text/plain": [
       "<coroutine object friendly_wait_for at 0x108d582b0>"
      ]
     },
     "execution_count": 7,
     "metadata": {},
     "output_type": "execute_result"
    }
   ],
   "source": [
    "coro = friendly_wait_for(1)\n",
    "coro"
   ]
  },
  {
   "cell_type": "markdown",
   "id": "f8a9a5db-9138-4032-97a3-945760db62aa",
   "metadata": {
    "editable": true,
    "slideshow": {
     "slide_type": ""
    },
    "tags": []
   },
   "source": [
    "`await`ing the coroutine triggers execution.\n",
    "Once execution is finished the result is returned."
   ]
  },
  {
   "cell_type": "code",
   "execution_count": 8,
   "id": "8073b7c6-d4f6-4ead-9987-0bd6177586bf",
   "metadata": {
    "editable": true,
    "execution": {
     "iopub.execute_input": "2024-04-14T16:24:35.431761Z",
     "iopub.status.busy": "2024-04-14T16:24:35.431555Z",
     "iopub.status.idle": "2024-04-14T16:24:36.435335Z",
     "shell.execute_reply": "2024-04-14T16:24:36.434538Z",
     "shell.execute_reply.started": "2024-04-14T16:24:35.431747Z"
    },
    "slideshow": {
     "slide_type": ""
    },
    "tags": []
   },
   "outputs": [],
   "source": [
    "result = await coro\n",
    "print(result)"
   ]
  },
  {
   "cell_type": "code",
   "execution_count": 9,
   "id": "58343f2e-e84d-4e20-a46c-29b594502743",
   "metadata": {
    "editable": true,
    "execution": {
     "iopub.execute_input": "2024-04-14T16:24:36.437014Z",
     "iopub.status.busy": "2024-04-14T16:24:36.436675Z",
     "iopub.status.idle": "2024-04-14T16:24:36.439840Z",
     "shell.execute_reply": "2024-04-14T16:24:36.439374Z",
     "shell.execute_reply.started": "2024-04-14T16:24:36.436994Z"
    },
    "slideshow": {
     "slide_type": ""
    },
    "tags": [
     "remove-input"
    ]
   },
   "outputs": [
    {
     "name": "stdout",
     "output_type": "stream",
     "text": [
      "Done waiting for 1 seconds.\n",
      "1\n"
     ]
    }
   ],
   "source": [
    "real_print(\"\\n\".join([str(line) for line in lines]))\n",
    "lines = []"
   ]
  }
 ],
 "metadata": {
  "kernelspec": {
   "display_name": "Python 3 (ipykernel)",
   "language": "python",
   "name": "python3"
  },
  "language_info": {
   "codemirror_mode": {
    "name": "ipython",
    "version": 3
   },
   "file_extension": ".py",
   "mimetype": "text/x-python",
   "name": "python",
   "nbconvert_exporter": "python",
   "pygments_lexer": "ipython3",
   "version": "3.12.2"
  }
 },
 "nbformat": 4,
 "nbformat_minor": 5
}
