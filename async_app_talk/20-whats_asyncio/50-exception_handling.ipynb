{
 "cells": [
  {
   "cell_type": "markdown",
   "id": "cb7dad10-f80e-4fc2-ac78-3c83d471e0d6",
   "metadata": {
    "editable": true,
    "slideshow": {
     "slide_type": ""
    },
    "tags": []
   },
   "source": [
    "# Exception handling\n",
    "\n",
    "Exception handling mostly works as expected from traditional code as well.\n",
    "Note however, that the exceptions only occur when the code is actually executed."
   ]
  },
  {
   "cell_type": "code",
   "execution_count": 1,
   "id": "822aa512-150f-4201-a4ee-0fac548bec23",
   "metadata": {
    "editable": true,
    "execution": {
     "iopub.execute_input": "2024-04-14T16:31:51.084485Z",
     "iopub.status.busy": "2024-04-14T16:31:51.084185Z",
     "iopub.status.idle": "2024-04-14T16:31:51.088563Z",
     "shell.execute_reply": "2024-04-14T16:31:51.087946Z",
     "shell.execute_reply.started": "2024-04-14T16:31:51.084449Z"
    },
    "slideshow": {
     "slide_type": ""
    },
    "tags": [
     "remove-cell"
    ]
   },
   "outputs": [],
   "source": [
    "import asyncio\n",
    "import time"
   ]
  },
  {
   "cell_type": "code",
   "execution_count": 2,
   "id": "1e7aae25-4e50-4bf9-8f2d-a1297070501d",
   "metadata": {
    "editable": true,
    "execution": {
     "iopub.execute_input": "2024-04-14T16:31:51.089581Z",
     "iopub.status.busy": "2024-04-14T16:31:51.089364Z",
     "iopub.status.idle": "2024-04-14T16:31:51.092992Z",
     "shell.execute_reply": "2024-04-14T16:31:51.092578Z",
     "shell.execute_reply.started": "2024-04-14T16:31:51.089566Z"
    },
    "slideshow": {
     "slide_type": ""
    },
    "tags": [
     "remove-cell"
    ]
   },
   "outputs": [],
   "source": [
    "# override print to allow showing the output in one cell as it was printed in a terminal\n",
    "import os\n",
    "\n",
    "real_print = print\n",
    "lines = []\n",
    "def print(text):\n",
    "    global lines\n",
    "    lines.append(text)"
   ]
  },
  {
   "cell_type": "markdown",
   "id": "44eed4cb-c014-49b7-bbcb-a09794e22acb",
   "metadata": {
    "editable": true,
    "slideshow": {
     "slide_type": ""
    },
    "tags": []
   },
   "source": [
    "This function will definitely fail on execution"
   ]
  },
  {
   "cell_type": "code",
   "execution_count": 3,
   "id": "dbbb18f5-bcfb-43ff-937c-7cf587aca6c5",
   "metadata": {
    "editable": true,
    "execution": {
     "iopub.execute_input": "2024-04-14T16:31:51.093978Z",
     "iopub.status.busy": "2024-04-14T16:31:51.093761Z",
     "iopub.status.idle": "2024-04-14T16:31:51.097218Z",
     "shell.execute_reply": "2024-04-14T16:31:51.096685Z",
     "shell.execute_reply.started": "2024-04-14T16:31:51.093963Z"
    },
    "slideshow": {
     "slide_type": ""
    },
    "tags": []
   },
   "outputs": [],
   "source": [
    "async def i_will_fail(wait_for):\n",
    "    await asyncio.sleep(wait_for)\n",
    "   \n",
    "    1/0\n",
    "    \n",
    "    return wait_for"
   ]
  },
  {
   "cell_type": "markdown",
   "id": "3662d120-85e1-4347-bea9-fcc768b12a96",
   "metadata": {
    "editable": true,
    "slideshow": {
     "slide_type": ""
    },
    "tags": []
   },
   "source": [
    "There is no problem when creating the coroutine, as the function is not executed yet."
   ]
  },
  {
   "cell_type": "code",
   "execution_count": 4,
   "id": "1ca744e3-2048-4815-b01f-e5d3cfbd9fb5",
   "metadata": {
    "editable": true,
    "execution": {
     "iopub.execute_input": "2024-04-14T16:31:51.098100Z",
     "iopub.status.busy": "2024-04-14T16:31:51.097864Z",
     "iopub.status.idle": "2024-04-14T16:31:51.100420Z",
     "shell.execute_reply": "2024-04-14T16:31:51.100003Z",
     "shell.execute_reply.started": "2024-04-14T16:31:51.098084Z"
    },
    "slideshow": {
     "slide_type": ""
    },
    "tags": []
   },
   "outputs": [],
   "source": [
    "coro = i_will_fail(1)"
   ]
  },
  {
   "cell_type": "markdown",
   "id": "611211bb-61c0-4358-bc2e-dba92d8de16b",
   "metadata": {
    "editable": true,
    "slideshow": {
     "slide_type": ""
    },
    "tags": []
   },
   "source": [
    "If the code get executed though ..."
   ]
  },
  {
   "cell_type": "code",
   "execution_count": 5,
   "id": "5aeea0ef-c88b-4700-b9fb-6243bbb3cc26",
   "metadata": {
    "editable": true,
    "execution": {
     "iopub.execute_input": "2024-04-14T16:31:51.101523Z",
     "iopub.status.busy": "2024-04-14T16:31:51.101290Z",
     "iopub.status.idle": "2024-04-14T16:31:52.107536Z",
     "shell.execute_reply": "2024-04-14T16:31:52.106762Z",
     "shell.execute_reply.started": "2024-04-14T16:31:51.101506Z"
    },
    "slideshow": {
     "slide_type": ""
    },
    "tags": []
   },
   "outputs": [],
   "source": [
    "try:\n",
    "    await coro\n",
    "except ZeroDivisionError as e:\n",
    "    print(f\"Caught that expected error. Message was {e}\")"
   ]
  },
  {
   "cell_type": "code",
   "execution_count": 6,
   "id": "8f1a5b22-fe15-4e0d-a804-57ef3f7d485e",
   "metadata": {
    "editable": true,
    "execution": {
     "iopub.execute_input": "2024-04-14T16:31:52.109031Z",
     "iopub.status.busy": "2024-04-14T16:31:52.108716Z",
     "iopub.status.idle": "2024-04-14T16:31:52.112349Z",
     "shell.execute_reply": "2024-04-14T16:31:52.111734Z",
     "shell.execute_reply.started": "2024-04-14T16:31:52.109011Z"
    },
    "slideshow": {
     "slide_type": ""
    },
    "tags": [
     "remove-input"
    ]
   },
   "outputs": [
    {
     "name": "stdout",
     "output_type": "stream",
     "text": [
      "Caught that expected error. Message was division by zero\n"
     ]
    }
   ],
   "source": [
    "real_print(\"\\n\".join([str(line) for line in lines]))\n",
    "lines = []"
   ]
  },
  {
   "cell_type": "markdown",
   "id": "9cd8a13a-8cd6-4c31-b716-b0176848bf0f",
   "metadata": {
    "editable": true,
    "slideshow": {
     "slide_type": ""
    },
    "tags": []
   },
   "source": [
    "... the exeception happens.\n",
    "\n",
    "Same for tasks ..."
   ]
  },
  {
   "cell_type": "code",
   "execution_count": 7,
   "id": "ceddb616-d98d-4ff6-b6eb-2ef4a027fdf8",
   "metadata": {
    "editable": true,
    "execution": {
     "iopub.execute_input": "2024-04-14T16:31:52.113559Z",
     "iopub.status.busy": "2024-04-14T16:31:52.113069Z",
     "iopub.status.idle": "2024-04-14T16:31:53.118189Z",
     "shell.execute_reply": "2024-04-14T16:31:53.117422Z",
     "shell.execute_reply.started": "2024-04-14T16:31:52.113545Z"
    },
    "slideshow": {
     "slide_type": ""
    },
    "tags": []
   },
   "outputs": [],
   "source": [
    "coro = i_will_fail(1)\n",
    "\n",
    "try:\n",
    "    task = asyncio.create_task(coro)\n",
    "    await task\n",
    "except ZeroDivisionError as e:\n",
    "    print(f\"Caught that expected error. Message was {e}\")"
   ]
  },
  {
   "cell_type": "code",
   "execution_count": 8,
   "id": "6861ed6c-7a43-4093-af02-af92ed885be5",
   "metadata": {
    "editable": true,
    "execution": {
     "iopub.execute_input": "2024-04-14T16:31:53.119514Z",
     "iopub.status.busy": "2024-04-14T16:31:53.119229Z",
     "iopub.status.idle": "2024-04-14T16:31:53.122474Z",
     "shell.execute_reply": "2024-04-14T16:31:53.122068Z",
     "shell.execute_reply.started": "2024-04-14T16:31:53.119494Z"
    },
    "slideshow": {
     "slide_type": ""
    },
    "tags": [
     "remove-input"
    ]
   },
   "outputs": [
    {
     "name": "stdout",
     "output_type": "stream",
     "text": [
      "Caught that expected error. Message was division by zero\n"
     ]
    }
   ],
   "source": [
    "real_print(\"\\n\".join([str(line) for line in lines]))\n",
    "lines = []"
   ]
  },
  {
   "cell_type": "markdown",
   "id": "b9fa1900-01eb-497b-b09f-ccc6e8328a20",
   "metadata": {
    "editable": true,
    "slideshow": {
     "slide_type": ""
    },
    "tags": []
   },
   "source": [
    "The task is still available though and can be checked upon."
   ]
  },
  {
   "cell_type": "code",
   "execution_count": 9,
   "id": "2e9e1121-4d71-4ba5-945b-0f4073da9b92",
   "metadata": {
    "editable": true,
    "execution": {
     "iopub.execute_input": "2024-04-14T16:31:53.123527Z",
     "iopub.status.busy": "2024-04-14T16:31:53.123292Z",
     "iopub.status.idle": "2024-04-14T16:31:53.125969Z",
     "shell.execute_reply": "2024-04-14T16:31:53.125578Z",
     "shell.execute_reply.started": "2024-04-14T16:31:53.123512Z"
    },
    "slideshow": {
     "slide_type": ""
    },
    "tags": []
   },
   "outputs": [],
   "source": [
    "print(f\"{task.done()=}\")\n",
    "print(f\"{task.exception()=}\")"
   ]
  },
  {
   "cell_type": "code",
   "execution_count": 10,
   "id": "d8affd15-da87-42c4-a248-85b2086c4e74",
   "metadata": {
    "editable": true,
    "execution": {
     "iopub.execute_input": "2024-04-14T16:31:53.126986Z",
     "iopub.status.busy": "2024-04-14T16:31:53.126666Z",
     "iopub.status.idle": "2024-04-14T16:31:53.130063Z",
     "shell.execute_reply": "2024-04-14T16:31:53.129535Z",
     "shell.execute_reply.started": "2024-04-14T16:31:53.126956Z"
    },
    "slideshow": {
     "slide_type": ""
    },
    "tags": [
     "remove-input"
    ]
   },
   "outputs": [
    {
     "name": "stdout",
     "output_type": "stream",
     "text": [
      "task.done()=True\n",
      "task.exception()=ZeroDivisionError('division by zero')\n"
     ]
    }
   ],
   "source": [
    "real_print(\"\\n\".join([str(line) for line in lines]))\n",
    "lines = []"
   ]
  },
  {
   "cell_type": "code",
   "execution_count": null,
   "id": "35335fd0-3ad0-4edc-91a2-57e67e0e9c58",
   "metadata": {
    "editable": true,
    "slideshow": {
     "slide_type": ""
    },
    "tags": []
   },
   "outputs": [],
   "source": []
  }
 ],
 "metadata": {
  "kernelspec": {
   "display_name": "Python 3 (ipykernel)",
   "language": "python",
   "name": "python3"
  },
  "language_info": {
   "codemirror_mode": {
    "name": "ipython",
    "version": 3
   },
   "file_extension": ".py",
   "mimetype": "text/x-python",
   "name": "python",
   "nbconvert_exporter": "python",
   "pygments_lexer": "ipython3",
   "version": "3.12.2"
  }
 },
 "nbformat": 4,
 "nbformat_minor": 5
}
