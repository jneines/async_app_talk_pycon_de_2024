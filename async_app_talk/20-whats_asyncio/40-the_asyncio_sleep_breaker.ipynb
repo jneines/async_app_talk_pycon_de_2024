{
 "cells": [
  {
   "cell_type": "markdown",
   "id": "9fcddd6c-9ed5-4091-a06c-d3b8d580463e",
   "metadata": {
    "editable": true,
    "slideshow": {
     "slide_type": ""
    },
    "tags": []
   },
   "source": [
    "# The magic behind asyncio"
   ]
  },
  {
   "cell_type": "markdown",
   "id": "9e31a5e9-e803-40d5-80ac-013ef74defc3",
   "metadata": {
    "editable": true,
    "slideshow": {
     "slide_type": ""
    },
    "tags": []
   },
   "source": [
    "What actually needs to be done in order to run several tasks in parallel without using threads is to make them interceptable, so that Python can execute parts of every task one after another and with that emulate paralle execution. This strategy is fine for many tasks.\n",
    "\n",
    "- Tasks waiting for some input to arrive\n",
    "- high level handling of I/O\n",
    "\n",
    "It wont work for CPU intensive tasks. Here real parallelism is the onlu answer.\n",
    "\n",
    "So how does it work? \n",
    "\n",
    "Basically we need to tell the iinterpreter, that a function execution needs to be treated differently, that there is places in the code, where execution can be intercepted. That's where the `async` keyword is for.\n",
    "\n",
    "All actions that can be intercepted are marked with the `await` keyword. Behind it is a special implementation that allows interception.\n",
    "    \n",
    "    `time.sleep` vs `asyncio.sleep`\n",
    "\n",
    "Thr result of both is exactly the same. Ones nature is blocking though, whilst the other allows interception to execute something else.\n",
    "\n",
    "And finally you need a `runner` to execute the `async awaitables`. That's where `asyncio.run` comes into play.\n",
    "\n",
    "Let's have a look at a very simple example with a blocking implementation that can be broken up to allow concurrency.\n",
    "\n",
    "The idea is to transform a blocking `time.sleep` being just a simple placeholder for other more complex work with a blocking nature, into something that still executes the same blocking code, but allows things to happen in parallel."
   ]
  },
  {
   "cell_type": "code",
   "execution_count": null,
   "id": "8075d6fa-2d98-4e5f-afd7-9088f4de5887",
   "metadata": {
    "editable": true,
    "slideshow": {
     "slide_type": ""
    },
    "tags": []
   },
   "outputs": [],
   "source": [
    "import asyncio\n",
    "import time"
   ]
  },
  {
   "cell_type": "markdown",
   "id": "034620fb-050c-4687-817a-7b6b3787b8c2",
   "metadata": {
    "editable": true,
    "slideshow": {
     "slide_type": ""
    },
    "tags": []
   },
   "source": [
    "Here's the blocking code to work on. Just a `time.sleep` statement to wait for `wait_for` seconds."
   ]
  },
  {
   "cell_type": "code",
   "execution_count": null,
   "id": "97bf6f87-15b6-45dc-ad1b-5fe2090da3ef",
   "metadata": {
    "editable": true,
    "slideshow": {
     "slide_type": ""
    },
    "tags": []
   },
   "outputs": [],
   "source": [
    "async def blocking_wait_for(wait_for):\n",
    "    print(f\"I'm going to sleep right now for {wait_for} seconds.\")\n",
    "    tic = time.perf_counter()\n",
    "    time.sleep(wait_for)\n",
    "    toc = time.perf_counter()\n",
    "    print(f\"Hey y'all. That was a good nap! Slept for {toc-tic:.2f} seconds. Dig i miss something?\")"
   ]
  },
  {
   "cell_type": "markdown",
   "id": "d7d0ec3c-cd1b-4474-b94c-066acfbd4a75",
   "metadata": {
    "editable": true,
    "slideshow": {
     "slide_type": ""
    },
    "tags": []
   },
   "source": [
    "And here's a simple notifier. We would love to see some message from it every now and then."
   ]
  },
  {
   "cell_type": "code",
   "execution_count": null,
   "id": "943d6f50-2387-4360-8a21-16d4d09b0352",
   "metadata": {
    "editable": true,
    "slideshow": {
     "slide_type": ""
    },
    "tags": []
   },
   "outputs": [],
   "source": [
    "async def notify_every(every):\n",
    "    while keep_running:\n",
    "        print(\"Notify!\")\n",
    "        await asyncio.sleep(every)"
   ]
  },
  {
   "cell_type": "markdown",
   "id": "9d3e4693-e593-412f-9fda-960756c3cd76",
   "metadata": {
    "editable": true,
    "slideshow": {
     "slide_type": ""
    },
    "tags": []
   },
   "source": [
    "The `exit_after` function allows us to end execution of all the work after a chosen time."
   ]
  },
  {
   "cell_type": "code",
   "execution_count": null,
   "id": "ead45488-e344-4dbf-b90c-9bab46eb056b",
   "metadata": {
    "editable": true,
    "slideshow": {
     "slide_type": ""
    },
    "tags": []
   },
   "outputs": [],
   "source": [
    "async def exit_after(exit_after):\n",
    "    global keep_running\n",
    "    await asyncio.sleep(exit_after)\n",
    "    keep_running = False"
   ]
  },
  {
   "cell_type": "markdown",
   "id": "5e1fe973-fde3-4eaf-a4f4-3a72c461ac9a",
   "metadata": {
    "editable": true,
    "slideshow": {
     "slide_type": ""
    },
    "tags": []
   },
   "source": [
    "And heres the final bit. We wait for the resut of every function using the `asyncio.gather` functiom. Let's see how it behaves"
   ]
  },
  {
   "cell_type": "code",
   "execution_count": null,
   "id": "7a696bf7-dfa7-48fe-bd5e-afa9b7ca1c02",
   "metadata": {
    "editable": true,
    "slideshow": {
     "slide_type": ""
    },
    "tags": []
   },
   "outputs": [],
   "source": [
    "keep_running = True\n",
    "asyncio.gather(\n",
    "    exit_after(5),\n",
    "    notify_every(.2),\n",
    "    blocking_wait_for(4),\n",
    ")"
   ]
  },
  {
   "cell_type": "markdown",
   "id": "47db3434-61d8-492d-b48b-8cb8a79c3c0e",
   "metadata": {
    "editable": true,
    "slideshow": {
     "slide_type": ""
    },
    "tags": []
   },
   "source": [
    "That was a forseable outcome. `time.sleep` blocked the exeution globally, hence everything else was executed only after the `blocking_wait_for` finished.\n",
    "\n",
    "But how can this be transformed into something more friendly?\n",
    "\n",
    "All that needs to be done is to split our *long* `time.sleep` call into a series of many *shorter* `time.sleep` calls, which in the end add up to the same amount of sleep time. \n",
    "\n",
    "A call to `asyncio.sleep` with in minimalist sleep time allows intercepting the 'work' and execute other things in parallel.\n",
    "\n",
    "The `friendly_blocking_wait_for` function immplements just this."
   ]
  },
  {
   "cell_type": "code",
   "execution_count": null,
   "id": "0aaf1b61-0da7-4478-bcbb-9efea691a15f",
   "metadata": {
    "editable": true,
    "slideshow": {
     "slide_type": ""
    },
    "tags": []
   },
   "outputs": [],
   "source": [
    "async def friendly_blocking_wait_for(wait_for):\n",
    "    print(f\"I'm going to sleep right now for {wait_for} seconds.\")\n",
    "    # split blocking wait_for into parts\n",
    "    number_of_parts=10\n",
    "    sub_wait_for = wait_for / number_of_parts\n",
    "    tic = time.perf_counter()\n",
    "    for index in range(number_of_parts):\n",
    "        # That call is still blocking!\n",
    "        time.sleep(sub_wait_for)\n",
    "        # This little 'pause' allows asyncio to trigger things in between\n",
    "        await asyncio.sleep(1e-3)\n",
    "    toc = time.perf_counter()\n",
    "    print(f\"Hey y'all. That was a good nap! Slept for {toc-tic:.2f} seconds. Dig i miss something?\")"
   ]
  },
  {
   "cell_type": "markdown",
   "id": "80b4e002-d2e4-4a74-8b39-8b572dcce4e4",
   "metadata": {
    "editable": true,
    "slideshow": {
     "slide_type": ""
    },
    "tags": []
   },
   "source": [
    "Let's check if that already helped."
   ]
  },
  {
   "cell_type": "code",
   "execution_count": null,
   "id": "c9f27571-3e1e-4edd-b8ac-ef4b7384071e",
   "metadata": {
    "editable": true,
    "slideshow": {
     "slide_type": ""
    },
    "tags": []
   },
   "outputs": [],
   "source": [
    "keep_running = True\n",
    "asyncio.gather(\n",
    "    exit_after(5),\n",
    "    notify_every(.2),\n",
    "    friendly_blocking_wait_for(2),\n",
    ")"
   ]
  },
  {
   "cell_type": "markdown",
   "id": "383571a3-5306-43c7-92fa-9cf874ea5a92",
   "metadata": {
    "editable": true,
    "slideshow": {
     "slide_type": ""
    },
    "tags": []
   },
   "source": [
    "Much better!\n",
    "\n",
    "So for every function that has to be interceptable a special implementatio allowing this needs to be available. \n",
    "\n",
    "And that's exactly the case. Find *doubles* of almost all blocking Python functions below the [asyncio part of Pythons documentation](https://docs.python.org/3/library/asyncio.html)."
   ]
  },
  {
   "cell_type": "code",
   "execution_count": null,
   "id": "ebc4bfb3-1e7e-40be-9187-a84e680ea8c5",
   "metadata": {
    "editable": true,
    "slideshow": {
     "slide_type": ""
    },
    "tags": []
   },
   "outputs": [],
   "source": []
  }
 ],
 "metadata": {
  "kernelspec": {
   "display_name": "Python 3 (ipykernel)",
   "language": "python",
   "name": "python3"
  },
  "language_info": {
   "codemirror_mode": {
    "name": "ipython",
    "version": 3
   },
   "file_extension": ".py",
   "mimetype": "text/x-python",
   "name": "python",
   "nbconvert_exporter": "python",
   "pygments_lexer": "ipython3",
   "version": "3.12.2"
  }
 },
 "nbformat": 4,
 "nbformat_minor": 5
}
