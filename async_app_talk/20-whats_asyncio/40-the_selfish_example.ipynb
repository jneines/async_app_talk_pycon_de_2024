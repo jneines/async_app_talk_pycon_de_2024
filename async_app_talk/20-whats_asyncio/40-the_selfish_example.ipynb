{
 "cells": [
  {
   "cell_type": "markdown",
   "id": "9fcddd6c-9ed5-4091-a06c-d3b8d580463e",
   "metadata": {
    "editable": true,
    "slideshow": {
     "slide_type": ""
    },
    "tags": []
   },
   "source": [
    "# The selfish example"
   ]
  },
  {
   "cell_type": "markdown",
   "id": "9e31a5e9-e803-40d5-80ac-013ef74defc3",
   "metadata": {
    "editable": true,
    "slideshow": {
     "slide_type": ""
    },
    "tags": []
   },
   "source": [
    "Let's have a look at a very simple example with a blocking implementation that can be broken up to allow concurrency.\n",
    "\n",
    "Consider `time.sleep` in that context to be just a simple placeholder for other more complex work with a blocking nature."
   ]
  },
  {
   "cell_type": "code",
   "execution_count": 1,
   "id": "8075d6fa-2d98-4e5f-afd7-9088f4de5887",
   "metadata": {
    "editable": true,
    "execution": {
     "iopub.execute_input": "2024-04-13T21:17:28.514985Z",
     "iopub.status.busy": "2024-04-13T21:17:28.514761Z",
     "iopub.status.idle": "2024-04-13T21:17:28.518000Z",
     "shell.execute_reply": "2024-04-13T21:17:28.517109Z",
     "shell.execute_reply.started": "2024-04-13T21:17:28.514967Z"
    },
    "slideshow": {
     "slide_type": ""
    },
    "tags": []
   },
   "outputs": [],
   "source": [
    "import asyncio\n",
    "import time"
   ]
  },
  {
   "cell_type": "code",
   "execution_count": 2,
   "id": "f0ef8261-28c4-4e1b-b609-3ae8de315387",
   "metadata": {
    "editable": true,
    "execution": {
     "iopub.execute_input": "2024-04-13T21:17:28.518905Z",
     "iopub.status.busy": "2024-04-13T21:17:28.518668Z",
     "iopub.status.idle": "2024-04-13T21:17:28.522714Z",
     "shell.execute_reply": "2024-04-13T21:17:28.522057Z",
     "shell.execute_reply.started": "2024-04-13T21:17:28.518889Z"
    },
    "slideshow": {
     "slide_type": ""
    },
    "tags": [
     "remove-cell"
    ]
   },
   "outputs": [],
   "source": [
    "# override print to allow showing the output in one cell as it was printed in a terminal\n",
    "import os\n",
    "\n",
    "real_print = print\n",
    "lines = []\n",
    "def print(text):\n",
    "    global lines\n",
    "    lines.append(text)"
   ]
  },
  {
   "cell_type": "markdown",
   "id": "034620fb-050c-4687-817a-7b6b3787b8c2",
   "metadata": {
    "editable": true,
    "slideshow": {
     "slide_type": ""
    },
    "tags": []
   },
   "source": [
    "Here's the blocking code to work on. Just a `time.sleep` statement to wait for `wait_for` seconds."
   ]
  },
  {
   "cell_type": "code",
   "execution_count": 3,
   "id": "97bf6f87-15b6-45dc-ad1b-5fe2090da3ef",
   "metadata": {
    "editable": true,
    "execution": {
     "iopub.execute_input": "2024-04-13T21:17:28.523750Z",
     "iopub.status.busy": "2024-04-13T21:17:28.523449Z",
     "iopub.status.idle": "2024-04-13T21:17:28.527529Z",
     "shell.execute_reply": "2024-04-13T21:17:28.527036Z",
     "shell.execute_reply.started": "2024-04-13T21:17:28.523735Z"
    },
    "slideshow": {
     "slide_type": ""
    },
    "tags": []
   },
   "outputs": [],
   "source": [
    "async def blocking_wait_for(wait_for):\n",
    "    print(f\"I'm going to sleep right now for {wait_for} seconds.\")\n",
    "    \n",
    "    tic = time.perf_counter()\n",
    "    time.sleep(wait_for)\n",
    "    toc = time.perf_counter()\n",
    "    \n",
    "    print(\n",
    "        \"Hey y'all. That was a good nap! \"\n",
    "        f\"Slept for {toc-tic:.2f} seconds. \"\n",
    "        \"Did i miss something?\"\n",
    "    )"
   ]
  },
  {
   "cell_type": "markdown",
   "id": "d7d0ec3c-cd1b-4474-b94c-066acfbd4a75",
   "metadata": {
    "editable": true,
    "slideshow": {
     "slide_type": ""
    },
    "tags": []
   },
   "source": [
    "And here's a simple notifier. We would love to see some message from it every now and then."
   ]
  },
  {
   "cell_type": "code",
   "execution_count": 4,
   "id": "943d6f50-2387-4360-8a21-16d4d09b0352",
   "metadata": {
    "editable": true,
    "execution": {
     "iopub.execute_input": "2024-04-13T21:17:28.528435Z",
     "iopub.status.busy": "2024-04-13T21:17:28.528226Z",
     "iopub.status.idle": "2024-04-13T21:17:28.531419Z",
     "shell.execute_reply": "2024-04-13T21:17:28.530891Z",
     "shell.execute_reply.started": "2024-04-13T21:17:28.528420Z"
    },
    "slideshow": {
     "slide_type": ""
    },
    "tags": []
   },
   "outputs": [],
   "source": [
    "async def notify_every(every):\n",
    "    while keep_running:\n",
    "        print(\"Notify!\")\n",
    "        await asyncio.sleep(every)"
   ]
  },
  {
   "cell_type": "markdown",
   "id": "9d3e4693-e593-412f-9fda-960756c3cd76",
   "metadata": {
    "editable": true,
    "slideshow": {
     "slide_type": ""
    },
    "tags": []
   },
   "source": [
    "The `exit_after` function allows us to end execution of all the work after a chosen time."
   ]
  },
  {
   "cell_type": "code",
   "execution_count": 5,
   "id": "ead45488-e344-4dbf-b90c-9bab46eb056b",
   "metadata": {
    "editable": true,
    "execution": {
     "iopub.execute_input": "2024-04-13T21:17:28.532463Z",
     "iopub.status.busy": "2024-04-13T21:17:28.532224Z",
     "iopub.status.idle": "2024-04-13T21:17:28.534838Z",
     "shell.execute_reply": "2024-04-13T21:17:28.534441Z",
     "shell.execute_reply.started": "2024-04-13T21:17:28.532447Z"
    },
    "slideshow": {
     "slide_type": ""
    },
    "tags": []
   },
   "outputs": [],
   "source": [
    "async def exit_after(exit_after):\n",
    "    global keep_running\n",
    "    \n",
    "    await asyncio.sleep(exit_after)\n",
    "    keep_running = False"
   ]
  },
  {
   "cell_type": "markdown",
   "id": "5e1fe973-fde3-4eaf-a4f4-3a72c461ac9a",
   "metadata": {
    "editable": true,
    "slideshow": {
     "slide_type": ""
    },
    "tags": []
   },
   "source": [
    "And heres the final bit. We wait for the resut of every function using the `asyncio.gather` functiom. Let's see how it behaves"
   ]
  },
  {
   "cell_type": "code",
   "execution_count": 6,
   "id": "7a696bf7-dfa7-48fe-bd5e-afa9b7ca1c02",
   "metadata": {
    "editable": true,
    "execution": {
     "iopub.execute_input": "2024-04-13T21:17:28.537402Z",
     "iopub.status.busy": "2024-04-13T21:17:28.537208Z",
     "iopub.status.idle": "2024-04-13T21:17:33.558463Z",
     "shell.execute_reply": "2024-04-13T21:17:33.557698Z",
     "shell.execute_reply.started": "2024-04-13T21:17:28.537389Z"
    },
    "slideshow": {
     "slide_type": ""
    },
    "tags": []
   },
   "outputs": [],
   "source": [
    "keep_running = True\n",
    "exec_for = 5\n",
    "wait_for = 2\n",
    "_notify_every = .2\n",
    "\n",
    "tic = time.perf_counter()\n",
    "await asyncio.gather(\n",
    "    exit_after(exec_for),\n",
    "    notify_every(_notify_every),\n",
    "    blocking_wait_for(wait_for),\n",
    ")\n",
    "toc = time.perf_counter()\n",
    "\n",
    "print(f\"All over execution time was {toc - tic:.2f} seconds.\")"
   ]
  },
  {
   "cell_type": "code",
   "execution_count": 7,
   "id": "9fc4e182-6ace-4719-8b19-c90c975bf463",
   "metadata": {
    "editable": true,
    "execution": {
     "iopub.execute_input": "2024-04-13T21:17:33.559698Z",
     "iopub.status.busy": "2024-04-13T21:17:33.559401Z",
     "iopub.status.idle": "2024-04-13T21:17:33.562599Z",
     "shell.execute_reply": "2024-04-13T21:17:33.562183Z",
     "shell.execute_reply.started": "2024-04-13T21:17:33.559680Z"
    },
    "slideshow": {
     "slide_type": ""
    },
    "tags": [
     "remove-input"
    ]
   },
   "outputs": [
    {
     "name": "stdout",
     "output_type": "stream",
     "text": [
      "Notify!\n",
      "I'm going to sleep right now for 2 seconds.\n",
      "Hey y'all. That was a good nap! Slept for 2.00 seconds. Did i miss something?\n",
      "Notify!\n",
      "Notify!\n",
      "Notify!\n",
      "Notify!\n",
      "Notify!\n",
      "Notify!\n",
      "Notify!\n",
      "Notify!\n",
      "Notify!\n",
      "Notify!\n",
      "Notify!\n",
      "Notify!\n",
      "Notify!\n",
      "Notify!\n",
      "Notify!\n",
      "All over execution time was 5.02 seconds.\n"
     ]
    }
   ],
   "source": [
    "real_print(\"\\n\".join(lines))\n",
    "lines = []"
   ]
  },
  {
   "cell_type": "markdown",
   "id": "47db3434-61d8-492d-b48b-8cb8a79c3c0e",
   "metadata": {
    "editable": true,
    "slideshow": {
     "slide_type": ""
    },
    "tags": []
   },
   "source": [
    "That was a forseable outcome. `time.sleep` blocked the exeution globally, hence everything else was executed only after the `blocking_wait_for` finished."
   ]
  },
  {
   "cell_type": "markdown",
   "id": "80b4e002-d2e4-4a74-8b39-8b572dcce4e4",
   "metadata": {
    "editable": true,
    "slideshow": {
     "slide_type": ""
    },
    "tags": []
   },
   "source": [
    "Let's check if that already helped."
   ]
  },
  {
   "cell_type": "code",
   "execution_count": null,
   "id": "ebc4bfb3-1e7e-40be-9187-a84e680ea8c5",
   "metadata": {
    "editable": true,
    "slideshow": {
     "slide_type": ""
    },
    "tags": []
   },
   "outputs": [],
   "source": []
  }
 ],
 "metadata": {
  "kernelspec": {
   "display_name": "Python 3 (ipykernel)",
   "language": "python",
   "name": "python3"
  },
  "language_info": {
   "codemirror_mode": {
    "name": "ipython",
    "version": 3
   },
   "file_extension": ".py",
   "mimetype": "text/x-python",
   "name": "python",
   "nbconvert_exporter": "python",
   "pygments_lexer": "ipython3",
   "version": "3.12.2"
  }
 },
 "nbformat": 4,
 "nbformat_minor": 5
}
