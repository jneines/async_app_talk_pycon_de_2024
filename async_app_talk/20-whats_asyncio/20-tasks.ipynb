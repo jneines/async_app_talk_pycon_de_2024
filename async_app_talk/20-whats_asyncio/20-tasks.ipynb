{
 "cells": [
  {
   "cell_type": "markdown",
   "id": "fa76668d-44aa-4749-a418-d0d32f1b1669",
   "metadata": {
    "editable": true,
    "execution": {
     "iopub.execute_input": "2024-04-14T16:24:53.645324Z",
     "iopub.status.busy": "2024-04-14T16:24:53.645048Z",
     "iopub.status.idle": "2024-04-14T16:24:53.648346Z",
     "shell.execute_reply": "2024-04-14T16:24:53.647725Z",
     "shell.execute_reply.started": "2024-04-14T16:24:53.645304Z"
    },
    "slideshow": {
     "slide_type": ""
    },
    "tags": []
   },
   "source": [
    "# Tasks"
   ]
  },
  {
   "cell_type": "markdown",
   "id": "9096381e-583c-4dc8-bf67-f42f281e2ef8",
   "metadata": {
    "editable": true,
    "slideshow": {
     "slide_type": ""
    },
    "tags": []
   },
   "source": [
    "Tasks are wrappers for co-routines.\n",
    "They add some management interface for the wrapped co-routine:\n",
    "- for querying state of execution: `task.done()`\n",
    "- retrieving results: `task.result()`\n",
    "- cancelling execution: `task.cancel()`\n",
    "- ...\n",
    "\n",
    "Creating a task directly triggers execution."
   ]
  },
  {
   "cell_type": "code",
   "execution_count": 1,
   "id": "822aa512-150f-4201-a4ee-0fac548bec23",
   "metadata": {
    "editable": true,
    "execution": {
     "iopub.execute_input": "2024-04-14T16:39:06.824837Z",
     "iopub.status.busy": "2024-04-14T16:39:06.824612Z",
     "iopub.status.idle": "2024-04-14T16:39:06.827845Z",
     "shell.execute_reply": "2024-04-14T16:39:06.827243Z",
     "shell.execute_reply.started": "2024-04-14T16:39:06.824821Z"
    },
    "slideshow": {
     "slide_type": ""
    },
    "tags": [
     "remove-cell"
    ]
   },
   "outputs": [],
   "source": [
    "import asyncio\n",
    "import time"
   ]
  },
  {
   "cell_type": "code",
   "execution_count": 2,
   "id": "1e7aae25-4e50-4bf9-8f2d-a1297070501d",
   "metadata": {
    "editable": true,
    "execution": {
     "iopub.execute_input": "2024-04-14T16:39:06.829288Z",
     "iopub.status.busy": "2024-04-14T16:39:06.829091Z",
     "iopub.status.idle": "2024-04-14T16:39:06.832383Z",
     "shell.execute_reply": "2024-04-14T16:39:06.831937Z",
     "shell.execute_reply.started": "2024-04-14T16:39:06.829275Z"
    },
    "slideshow": {
     "slide_type": ""
    },
    "tags": [
     "remove-cell"
    ]
   },
   "outputs": [],
   "source": [
    "# override print to allow showing the output in one cell as it was printed in a terminal\n",
    "import os\n",
    "\n",
    "real_print = print\n",
    "lines = []\n",
    "def print(text):\n",
    "    global lines\n",
    "    lines.append(text)"
   ]
  },
  {
   "cell_type": "code",
   "execution_count": 3,
   "id": "44bb8288-8f2c-4928-84a9-05385694242b",
   "metadata": {
    "editable": true,
    "execution": {
     "iopub.execute_input": "2024-04-14T16:39:06.833241Z",
     "iopub.status.busy": "2024-04-14T16:39:06.833010Z",
     "iopub.status.idle": "2024-04-14T16:39:06.835773Z",
     "shell.execute_reply": "2024-04-14T16:39:06.835353Z",
     "shell.execute_reply.started": "2024-04-14T16:39:06.833227Z"
    },
    "slideshow": {
     "slide_type": ""
    },
    "tags": [
     "remove-cell"
    ]
   },
   "outputs": [],
   "source": [
    "async def friendly_wait_for(wait_for):\n",
    "    \n",
    "    await asyncio.sleep(wait_for)\n",
    "    \n",
    "    print(f\"Done waiting for {wait_for} seconds.\")\n",
    "    \n",
    "    return wait_for"
   ]
  },
  {
   "cell_type": "code",
   "execution_count": 4,
   "id": "d8171aad-d161-4307-ace5-9d872df73642",
   "metadata": {
    "editable": true,
    "execution": {
     "iopub.execute_input": "2024-04-14T16:39:06.836781Z",
     "iopub.status.busy": "2024-04-14T16:39:06.836521Z",
     "iopub.status.idle": "2024-04-14T16:39:07.842734Z",
     "shell.execute_reply": "2024-04-14T16:39:07.841979Z",
     "shell.execute_reply.started": "2024-04-14T16:39:06.836765Z"
    },
    "slideshow": {
     "slide_type": ""
    },
    "tags": []
   },
   "outputs": [],
   "source": [
    "task = asyncio.create_task(friendly_wait_for(1))\n",
    "\n",
    "print(f\"{task=}\")\n",
    "print(f\"Task completed: {task.done()}\")\n",
    "await task\n",
    "print(f\"Tasks result: {task.result()}\")"
   ]
  },
  {
   "cell_type": "code",
   "execution_count": 5,
   "id": "d6bfc1c0-54ba-476c-9a0d-fc2e66caf111",
   "metadata": {
    "editable": true,
    "execution": {
     "iopub.execute_input": "2024-04-14T16:39:07.844087Z",
     "iopub.status.busy": "2024-04-14T16:39:07.843767Z",
     "iopub.status.idle": "2024-04-14T16:39:07.847206Z",
     "shell.execute_reply": "2024-04-14T16:39:07.846814Z",
     "shell.execute_reply.started": "2024-04-14T16:39:07.844068Z"
    },
    "slideshow": {
     "slide_type": ""
    },
    "tags": [
     "remove-input"
    ]
   },
   "outputs": [
    {
     "name": "stdout",
     "output_type": "stream",
     "text": [
      "task=<Task pending name='Task-6' coro=<friendly_wait_for() running at /var/folders/4f/zxcbb2rd6q98m0h5fzm9xljm0000gn/T/ipykernel_38563/14944068.py:1>>\n",
      "Task completed: False\n",
      "Done waiting for 1 seconds.\n",
      "Tasks result: 1\n"
     ]
    }
   ],
   "source": [
    "real_print(\"\\n\".join([str(line) for line in lines]))\n",
    "lines = []"
   ]
  },
  {
   "cell_type": "code",
   "execution_count": 6,
   "id": "8ca0c4c8-5951-4887-8387-a72a9d5bac7e",
   "metadata": {
    "editable": true,
    "execution": {
     "iopub.execute_input": "2024-04-14T16:39:07.848203Z",
     "iopub.status.busy": "2024-04-14T16:39:07.847975Z",
     "iopub.status.idle": "2024-04-14T16:39:07.853640Z",
     "shell.execute_reply": "2024-04-14T16:39:07.853150Z",
     "shell.execute_reply.started": "2024-04-14T16:39:07.848189Z"
    },
    "slideshow": {
     "slide_type": ""
    },
    "tags": []
   },
   "outputs": [],
   "source": [
    "task = asyncio.create_task(friendly_wait_for(5))\n",
    "\n",
    "print(f\"{task=}\")"
   ]
  },
  {
   "cell_type": "code",
   "execution_count": 7,
   "id": "5f710848-250a-41fd-94cd-8e9e3ee42116",
   "metadata": {
    "editable": true,
    "execution": {
     "iopub.execute_input": "2024-04-14T16:39:07.854667Z",
     "iopub.status.busy": "2024-04-14T16:39:07.854333Z",
     "iopub.status.idle": "2024-04-14T16:39:07.857434Z",
     "shell.execute_reply": "2024-04-14T16:39:07.856939Z",
     "shell.execute_reply.started": "2024-04-14T16:39:07.854632Z"
    },
    "slideshow": {
     "slide_type": ""
    },
    "tags": [
     "remove-input"
    ]
   },
   "outputs": [
    {
     "name": "stdout",
     "output_type": "stream",
     "text": [
      "task=<Task pending name='Task-7' coro=<friendly_wait_for() running at /var/folders/4f/zxcbb2rd6q98m0h5fzm9xljm0000gn/T/ipykernel_38563/14944068.py:1>>\n"
     ]
    }
   ],
   "source": [
    "real_print(\"\\n\".join([str(line) for line in lines]))\n",
    "lines = []"
   ]
  },
  {
   "cell_type": "markdown",
   "id": "c5c6eb14-6916-407a-aed5-65759c27ffff",
   "metadata": {
    "editable": true,
    "slideshow": {
     "slide_type": ""
    },
    "tags": []
   },
   "source": [
    "Task execution can be cancelled.\n",
    "In that case no result is set.\n",
    "Querying for the result will lead to an exception."
   ]
  },
  {
   "cell_type": "code",
   "execution_count": 8,
   "id": "47bbf8bc-cbcb-43bb-9002-04dd9bafeed6",
   "metadata": {
    "editable": true,
    "execution": {
     "iopub.execute_input": "2024-04-14T16:39:07.858380Z",
     "iopub.status.busy": "2024-04-14T16:39:07.858115Z",
     "iopub.status.idle": "2024-04-14T16:39:07.860708Z",
     "shell.execute_reply": "2024-04-14T16:39:07.860245Z",
     "shell.execute_reply.started": "2024-04-14T16:39:07.858364Z"
    },
    "slideshow": {
     "slide_type": ""
    },
    "tags": []
   },
   "outputs": [],
   "source": [
    "_ = task.cancel()"
   ]
  },
  {
   "cell_type": "markdown",
   "id": "39c79bb8-29da-4867-a699-a21f608846ef",
   "metadata": {
    "editable": true,
    "slideshow": {
     "slide_type": ""
    },
    "tags": []
   },
   "source": [
    "Querying task status of course works as expected."
   ]
  },
  {
   "cell_type": "code",
   "execution_count": 9,
   "id": "49af5f64-d7d4-4371-838d-6a9da2b0ab50",
   "metadata": {
    "editable": true,
    "execution": {
     "iopub.execute_input": "2024-04-14T16:39:07.861568Z",
     "iopub.status.busy": "2024-04-14T16:39:07.861385Z",
     "iopub.status.idle": "2024-04-14T16:39:07.863864Z",
     "shell.execute_reply": "2024-04-14T16:39:07.863381Z",
     "shell.execute_reply.started": "2024-04-14T16:39:07.861553Z"
    },
    "slideshow": {
     "slide_type": ""
    },
    "tags": []
   },
   "outputs": [],
   "source": [
    "print(f\"Task cancelled: {task.cancelled()}\")\n",
    "print(f\"Task completed: {task.done()}\")"
   ]
  },
  {
   "cell_type": "code",
   "execution_count": 10,
   "id": "25c6ff17-5da6-4fc1-8e9f-6e947476101d",
   "metadata": {
    "editable": true,
    "execution": {
     "iopub.execute_input": "2024-04-14T16:39:07.864735Z",
     "iopub.status.busy": "2024-04-14T16:39:07.864556Z",
     "iopub.status.idle": "2024-04-14T16:39:07.867112Z",
     "shell.execute_reply": "2024-04-14T16:39:07.866704Z",
     "shell.execute_reply.started": "2024-04-14T16:39:07.864723Z"
    },
    "slideshow": {
     "slide_type": ""
    },
    "tags": [
     "remove-input"
    ]
   },
   "outputs": [
    {
     "name": "stdout",
     "output_type": "stream",
     "text": [
      "Task cancelled: False\n",
      "Task completed: False\n"
     ]
    }
   ],
   "source": [
    "real_print(\"\\n\".join([str(line) for line in lines]))\n",
    "lines = []"
   ]
  },
  {
   "cell_type": "code",
   "execution_count": null,
   "id": "35335fd0-3ad0-4edc-91a2-57e67e0e9c58",
   "metadata": {
    "editable": true,
    "slideshow": {
     "slide_type": ""
    },
    "tags": []
   },
   "outputs": [],
   "source": []
  }
 ],
 "metadata": {
  "kernelspec": {
   "display_name": "Python 3 (ipykernel)",
   "language": "python",
   "name": "python3"
  },
  "language_info": {
   "codemirror_mode": {
    "name": "ipython",
    "version": 3
   },
   "file_extension": ".py",
   "mimetype": "text/x-python",
   "name": "python",
   "nbconvert_exporter": "python",
   "pygments_lexer": "ipython3",
   "version": "3.12.2"
  }
 },
 "nbformat": 4,
 "nbformat_minor": 5
}
