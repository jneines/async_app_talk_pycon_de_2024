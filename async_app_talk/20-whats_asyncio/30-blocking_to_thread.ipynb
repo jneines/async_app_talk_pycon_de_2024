{
 "cells": [
  {
   "cell_type": "markdown",
   "id": "6d77ee50-911a-46b9-9496-4a8bba244c8d",
   "metadata": {
    "editable": true,
    "slideshow": {
     "slide_type": ""
    },
    "tags": []
   },
   "source": [
    "# Move blocking things to own thread"
   ]
  },
  {
   "cell_type": "markdown",
   "id": "88af112c-6744-44e5-9d73-a8a98da5b5cd",
   "metadata": {
    "editable": true,
    "slideshow": {
     "slide_type": ""
    },
    "tags": []
   },
   "source": [
    "Blocking calls can be sent to a thread for execution whilst offering an `asyncio` interface to deal with\n",
    "\n",
    ":::{warning} \n",
    "Note however, that there is no way to automagically interrupt the function executed in the thread, if it's not designed that way.\n",
    "\n",
    "So cancelling this task is technically possible, but without any effect.\n",
    ":::"
   ]
  },
  {
   "cell_type": "code",
   "execution_count": 1,
   "id": "822aa512-150f-4201-a4ee-0fac548bec23",
   "metadata": {
    "editable": true,
    "execution": {
     "iopub.execute_input": "2024-04-14T16:28:46.940289Z",
     "iopub.status.busy": "2024-04-14T16:28:46.940027Z",
     "iopub.status.idle": "2024-04-14T16:28:46.943147Z",
     "shell.execute_reply": "2024-04-14T16:28:46.942327Z",
     "shell.execute_reply.started": "2024-04-14T16:28:46.940271Z"
    },
    "slideshow": {
     "slide_type": ""
    },
    "tags": []
   },
   "outputs": [],
   "source": [
    "import asyncio\n",
    "import time"
   ]
  },
  {
   "cell_type": "code",
   "execution_count": 2,
   "id": "1e7aae25-4e50-4bf9-8f2d-a1297070501d",
   "metadata": {
    "editable": true,
    "execution": {
     "iopub.execute_input": "2024-04-14T16:28:46.944586Z",
     "iopub.status.busy": "2024-04-14T16:28:46.944164Z",
     "iopub.status.idle": "2024-04-14T16:28:46.947522Z",
     "shell.execute_reply": "2024-04-14T16:28:46.947076Z",
     "shell.execute_reply.started": "2024-04-14T16:28:46.944571Z"
    },
    "slideshow": {
     "slide_type": ""
    },
    "tags": [
     "remove-cell"
    ]
   },
   "outputs": [],
   "source": [
    "# override print to allow showing the output in one cell as it was printed in a terminal\n",
    "import os\n",
    "\n",
    "real_print = print\n",
    "lines = []\n",
    "def print(text):\n",
    "    global lines\n",
    "    lines.append(text)"
   ]
  },
  {
   "cell_type": "code",
   "execution_count": 3,
   "id": "368ff71d-f25e-4737-91bc-600fce37dbf7",
   "metadata": {
    "editable": true,
    "execution": {
     "iopub.execute_input": "2024-04-14T16:28:46.948423Z",
     "iopub.status.busy": "2024-04-14T16:28:46.948221Z",
     "iopub.status.idle": "2024-04-14T16:28:46.951642Z",
     "shell.execute_reply": "2024-04-14T16:28:46.951088Z",
     "shell.execute_reply.started": "2024-04-14T16:28:46.948407Z"
    },
    "slideshow": {
     "slide_type": ""
    },
    "tags": [
     "remove-input"
    ]
   },
   "outputs": [],
   "source": [
    "def blocking_wait_for(wait_for):\n",
    "    \n",
    "    time.sleep(wait_for)\n",
    "    \n",
    "    print(f\"Done waiting for {wait_for} seconds.\")\n",
    "    \n",
    "    return wait_for"
   ]
  },
  {
   "cell_type": "code",
   "execution_count": 4,
   "id": "07bdda15-dfc0-428c-8c53-e87f97f746a4",
   "metadata": {
    "editable": true,
    "execution": {
     "iopub.execute_input": "2024-04-14T16:28:46.952394Z",
     "iopub.status.busy": "2024-04-14T16:28:46.952163Z",
     "iopub.status.idle": "2024-04-14T16:28:47.962222Z",
     "shell.execute_reply": "2024-04-14T16:28:47.961455Z",
     "shell.execute_reply.started": "2024-04-14T16:28:46.952379Z"
    },
    "slideshow": {
     "slide_type": ""
    },
    "tags": []
   },
   "outputs": [],
   "source": [
    "task = asyncio.create_task(\n",
    "    asyncio.to_thread(blocking_wait_for, 1)  # creates coroutine\n",
    ")\n",
    "await task\n",
    "print(task.result())"
   ]
  },
  {
   "cell_type": "code",
   "execution_count": 5,
   "id": "9f7bfb85-7b72-46e0-a233-72c5c3e9fcb5",
   "metadata": {
    "editable": true,
    "execution": {
     "iopub.execute_input": "2024-04-14T16:28:47.963889Z",
     "iopub.status.busy": "2024-04-14T16:28:47.963204Z",
     "iopub.status.idle": "2024-04-14T16:28:47.966734Z",
     "shell.execute_reply": "2024-04-14T16:28:47.966305Z",
     "shell.execute_reply.started": "2024-04-14T16:28:47.963869Z"
    },
    "slideshow": {
     "slide_type": ""
    },
    "tags": [
     "remove-input"
    ]
   },
   "outputs": [
    {
     "name": "stdout",
     "output_type": "stream",
     "text": [
      "Done waiting for 1 seconds.\n",
      "1\n"
     ]
    }
   ],
   "source": [
    "real_print(\"\\n\".join([str(line) for line in lines]))\n",
    "lines = []"
   ]
  },
  {
   "cell_type": "code",
   "execution_count": null,
   "id": "35335fd0-3ad0-4edc-91a2-57e67e0e9c58",
   "metadata": {
    "editable": true,
    "slideshow": {
     "slide_type": ""
    },
    "tags": []
   },
   "outputs": [],
   "source": []
  }
 ],
 "metadata": {
  "kernelspec": {
   "display_name": "Python 3 (ipykernel)",
   "language": "python",
   "name": "python3"
  },
  "language_info": {
   "codemirror_mode": {
    "name": "ipython",
    "version": 3
   },
   "file_extension": ".py",
   "mimetype": "text/x-python",
   "name": "python",
   "nbconvert_exporter": "python",
   "pygments_lexer": "ipython3",
   "version": "3.12.2"
  }
 },
 "nbformat": 4,
 "nbformat_minor": 5
}
