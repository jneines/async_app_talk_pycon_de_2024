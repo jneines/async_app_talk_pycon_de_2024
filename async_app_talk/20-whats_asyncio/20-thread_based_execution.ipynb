{
 "cells": [
  {
   "cell_type": "code",
   "execution_count": 1,
   "id": "ed59417c-ab5a-47ff-a204-d78ce0fe8a2c",
   "metadata": {
    "editable": true,
    "execution": {
     "iopub.execute_input": "2024-04-05T15:36:24.673648Z",
     "iopub.status.busy": "2024-04-05T15:36:24.673414Z",
     "iopub.status.idle": "2024-04-05T15:36:24.677279Z",
     "shell.execute_reply": "2024-04-05T15:36:24.676562Z",
     "shell.execute_reply.started": "2024-04-05T15:36:24.673630Z"
    },
    "slideshow": {
     "slide_type": ""
    },
    "tags": [
     "remove-cell"
    ]
   },
   "outputs": [],
   "source": [
    "import subprocess\n",
    "from pathlib import Path\n",
    "import tempfile\n",
    "import shlex\n",
    "from IPython.display import SVG, Image"
   ]
  },
  {
   "cell_type": "code",
   "execution_count": 2,
   "id": "021dfad1-608a-4e9e-a71f-e9b0d84340d0",
   "metadata": {
    "editable": true,
    "execution": {
     "iopub.execute_input": "2024-04-05T15:36:24.678425Z",
     "iopub.status.busy": "2024-04-05T15:36:24.678027Z",
     "iopub.status.idle": "2024-04-05T15:36:24.682774Z",
     "shell.execute_reply": "2024-04-05T15:36:24.681931Z",
     "shell.execute_reply.started": "2024-04-05T15:36:24.678410Z"
    },
    "slideshow": {
     "slide_type": ""
    },
    "tags": [
     "remove-cell"
    ]
   },
   "outputs": [],
   "source": [
    "def run_mmdc(input_str, output_format=\"svg\", output_width=600, debug=False):\n",
    "    out_path = tempfile.mktemp(suffix=f\".{output_format}\")\n",
    "    cmd = f\"mmdc -q --backgroundColor transparent --width {output_width} -o {out_path} -s 2 -i -\"\n",
    "    p = subprocess.Popen(shlex.split(cmd), stdin=subprocess.PIPE, stdout=subprocess.PIPE, stderr=subprocess.PIPE, encoding=\"ascii\", universal_newlines=False)\n",
    "    stdout, stderr = p.communicate(input_str)\n",
    "\n",
    "    if debug:\n",
    "        print(stdout)\n",
    "        print(stderr)\n",
    "\n",
    "    out_file = Path(out_path)\n",
    "    with out_file.open(\"rb\") as fd:\n",
    "        image_data = fd.read()\n",
    "    out_file.unlink()\n",
    "    if output_format == \"svg\":\n",
    "        return SVG(data=image_data.decode(\"utf-8\").replace(\"width=\\\"100%\\\"\", \"width=\\\"600\\\"\"))\n",
    "    else:\n",
    "        return Image(image_data, width=output_width)"
   ]
  },
  {
   "cell_type": "markdown",
   "id": "2658d022-9a54-4983-9da3-8ffccf7d6ccd",
   "metadata": {
    "editable": true,
    "slideshow": {
     "slide_type": ""
    },
    "tags": []
   },
   "source": [
    "# Thread based execution"
   ]
  },
  {
   "cell_type": "code",
   "execution_count": 3,
   "id": "d838b558-1c6d-42c1-8ed6-f97d023c2f9a",
   "metadata": {
    "editable": true,
    "execution": {
     "iopub.execute_input": "2024-04-05T15:36:24.684158Z",
     "iopub.status.busy": "2024-04-05T15:36:24.683881Z",
     "iopub.status.idle": "2024-04-05T15:36:25.888166Z",
     "shell.execute_reply": "2024-04-05T15:36:25.887742Z",
     "shell.execute_reply.started": "2024-04-05T15:36:24.684143Z"
    },
    "slideshow": {
     "slide_type": ""
    },
    "tags": [
     "remove-input"
    ]
   },
   "outputs": [
    {
     "data": {
      "image/svg+xml": [
       "<svg xmlns:xlink=\"http://www.w3.org/1999/xlink\" xmlns=\"http://www.w3.org/2000/svg\" aria-roledescription=\"block\" role=\"graphics-document document\" viewBox=\"-5 -232 466 464\" style=\"max-width: 466px; background-color: transparent;\" width=\"600\" id=\"my-svg\"><style>#my-svg{font-family:&quot;trebuchet ms&quot;,verdana,arial,sans-serif;font-size:16px;fill:#333;}#my-svg .error-icon{fill:#552222;}#my-svg .error-text{fill:#552222;stroke:#552222;}#my-svg .edge-thickness-normal{stroke-width:2px;}#my-svg .edge-thickness-thick{stroke-width:3.5px;}#my-svg .edge-pattern-solid{stroke-dasharray:0;}#my-svg .edge-pattern-dashed{stroke-dasharray:3;}#my-svg .edge-pattern-dotted{stroke-dasharray:2;}#my-svg .marker{fill:#333333;stroke:#333333;}#my-svg .marker.cross{stroke:#333333;}#my-svg svg{font-family:&quot;trebuchet ms&quot;,verdana,arial,sans-serif;font-size:16px;}#my-svg .label{font-family:&quot;trebuchet ms&quot;,verdana,arial,sans-serif;color:#333;}#my-svg .cluster-label text{fill:#333;}#my-svg .cluster-label span,#my-svg p{color:#333;}#my-svg .label text,#my-svg span,#my-svg p{fill:#333;color:#333;}#my-svg .node rect,#my-svg .node circle,#my-svg .node ellipse,#my-svg .node polygon,#my-svg .node path{fill:#ECECFF;stroke:#9370DB;stroke-width:1px;}#my-svg .flowchart-label text{text-anchor:middle;}#my-svg .node .label{text-align:center;}#my-svg .node.clickable{cursor:pointer;}#my-svg .arrowheadPath{fill:#333333;}#my-svg .edgePath .path{stroke:#333333;stroke-width:2.0px;}#my-svg .flowchart-link{stroke:#333333;fill:none;}#my-svg .edgeLabel{background-color:#e8e8e8;text-align:center;}#my-svg .edgeLabel rect{opacity:0.5;background-color:#e8e8e8;fill:#e8e8e8;}#my-svg .labelBkg{background-color:rgba(232, 232, 232, 0.5);}#my-svg .node .cluster{fill:rgba(255, 255, 222, 0.5);stroke:rgba(170, 170, 51, 0.2);box-shadow:rgba(50, 50, 93, 0.25) 0px 13px 27px -5px,rgba(0, 0, 0, 0.3) 0px 8px 16px -8px;stroke-width:1px;}#my-svg .cluster text{fill:#333;}#my-svg .cluster span,#my-svg p{color:#333;}#my-svg div.mermaidTooltip{position:absolute;text-align:center;max-width:200px;padding:2px;font-family:&quot;trebuchet ms&quot;,verdana,arial,sans-serif;font-size:12px;background:hsl(80, 100%, 96.2745098039%);border:1px solid #aaaa33;border-radius:2px;pointer-events:none;z-index:100;}#my-svg .flowchartTitleText{text-anchor:middle;font-size:18px;fill:#333;}#my-svg :root{--mermaid-font-family:&quot;trebuchet ms&quot;,verdana,arial,sans-serif;}</style><g/><marker orient=\"auto\" markerHeight=\"12\" markerWidth=\"12\" markerUnits=\"userSpaceOnUse\" refY=\"5\" refX=\"6\" viewBox=\"0 0 10 10\" class=\"marker block\" id=\"my-svg_block-pointEnd\"><path style=\"stroke-width: 1; stroke-dasharray: 1, 0;\" class=\"arrowMarkerPath\" d=\"M 0 0 L 10 5 L 0 10 z\"/></marker><marker orient=\"auto\" markerHeight=\"12\" markerWidth=\"12\" markerUnits=\"userSpaceOnUse\" refY=\"5\" refX=\"4.5\" viewBox=\"0 0 10 10\" class=\"marker block\" id=\"my-svg_block-pointStart\"><path style=\"stroke-width: 1; stroke-dasharray: 1, 0;\" class=\"arrowMarkerPath\" d=\"M 0 5 L 10 10 L 10 0 z\"/></marker><marker orient=\"auto\" markerHeight=\"11\" markerWidth=\"11\" markerUnits=\"userSpaceOnUse\" refY=\"5\" refX=\"11\" viewBox=\"0 0 10 10\" class=\"marker block\" id=\"my-svg_block-circleEnd\"><circle style=\"stroke-width: 1; stroke-dasharray: 1, 0;\" class=\"arrowMarkerPath\" r=\"5\" cy=\"5\" cx=\"5\"/></marker><marker orient=\"auto\" markerHeight=\"11\" markerWidth=\"11\" markerUnits=\"userSpaceOnUse\" refY=\"5\" refX=\"-1\" viewBox=\"0 0 10 10\" class=\"marker block\" id=\"my-svg_block-circleStart\"><circle style=\"stroke-width: 1; stroke-dasharray: 1, 0;\" class=\"arrowMarkerPath\" r=\"5\" cy=\"5\" cx=\"5\"/></marker><marker orient=\"auto\" markerHeight=\"11\" markerWidth=\"11\" markerUnits=\"userSpaceOnUse\" refY=\"5.2\" refX=\"12\" viewBox=\"0 0 11 11\" class=\"marker cross block\" id=\"my-svg_block-crossEnd\"><path style=\"stroke-width: 2; stroke-dasharray: 1, 0;\" class=\"arrowMarkerPath\" d=\"M 1,1 l 9,9 M 10,1 l -9,9\"/></marker><marker orient=\"auto\" markerHeight=\"11\" markerWidth=\"11\" markerUnits=\"userSpaceOnUse\" refY=\"5.2\" refX=\"-1\" viewBox=\"0 0 11 11\" class=\"marker cross block\" id=\"my-svg_block-crossStart\"><path style=\"stroke-width: 2; stroke-dasharray: 1, 0;\" class=\"arrowMarkerPath\" d=\"M 1,1 l 9,9 M 10,1 l -9,9\"/></marker><g class=\"block\"><g transform=\"translate(228, -154)\" data-id=\"T00\" data-node=\"true\" id=\"T00\" class=\"node default default flowchart-label\"><rect height=\"146\" width=\"456\" y=\"-73\" x=\"-228\" ry=\"0\" rx=\"0\" style=\"fill:#d4bb5c;stroke:#d48e20;\" class=\"basic label-container\"/><g transform=\"translate(-43.9453125, -9.25)\" style=\"color:#555;\" class=\"label\"><rect/><foreignObject height=\"18.5\" width=\"87.890625\"><div xmlns=\"http://www.w3.org/1999/xhtml\" style=\"color: rgb(85, 85, 85); display: inline-block; white-space: nowrap;\"><span style=\"color:#555;\" class=\"nodeLabel\">Main Thread</span></div></foreignObject></g></g><g transform=\"translate(54, 0)\" data-id=\"T_11\" data-node=\"true\" id=\"T_11\" class=\"node default default flowchart-label\"><rect height=\"146\" width=\"108\" y=\"-73\" x=\"-54\" ry=\"0\" rx=\"0\" style=\"fill:#bf9153;stroke:#d48e20;\" class=\"basic label-container\"/><g transform=\"translate(-31.75390625, -9.25)\" style=\"color:#cfcfcf;\" class=\"label\"><rect/><foreignObject height=\"18.5\" width=\"63.5078125\"><div xmlns=\"http://www.w3.org/1999/xhtml\" style=\"color: rgb(207, 207, 207); display: inline-block; white-space: nowrap;\"><span style=\"color:#cfcfcf;\" class=\"nodeLabel\">Thread 1</span></div></foreignObject></g></g><g transform=\"translate(170, 0)\" data-id=\"T_12\" data-node=\"true\" id=\"T_12\" class=\"node default default flowchart-label\"><rect height=\"146\" width=\"108\" y=\"-73\" x=\"-54\" ry=\"0\" rx=\"0\" style=\"fill:#bf9153;stroke:#d48e20;\" class=\"basic label-container\"/><g transform=\"translate(-31.75390625, -9.25)\" style=\"color:#cfcfcf;\" class=\"label\"><rect/><foreignObject height=\"18.5\" width=\"63.5078125\"><div xmlns=\"http://www.w3.org/1999/xhtml\" style=\"color: rgb(207, 207, 207); display: inline-block; white-space: nowrap;\"><span style=\"color:#cfcfcf;\" class=\"nodeLabel\">Thread 2</span></div></foreignObject></g></g><g transform=\"translate(286, 0)\" data-id=\"T_13\" data-node=\"true\" id=\"T_13\" class=\"node default default flowchart-label\"><rect height=\"146\" width=\"108\" y=\"-73\" x=\"-54\" ry=\"0\" rx=\"0\" style=\"fill:#bf9153;stroke:#d48e20;\" class=\"basic label-container\"/><g transform=\"translate(-31.75390625, -9.25)\" style=\"color:#cfcfcf;\" class=\"label\"><rect/><foreignObject height=\"18.5\" width=\"63.5078125\"><div xmlns=\"http://www.w3.org/1999/xhtml\" style=\"color: rgb(207, 207, 207); display: inline-block; white-space: nowrap;\"><span style=\"color:#cfcfcf;\" class=\"nodeLabel\">Thread 3</span></div></foreignObject></g></g><g transform=\"translate(402, 0)\" data-id=\"T_14\" data-node=\"true\" id=\"T_14\" class=\"node default default flowchart-label\"><rect height=\"146\" width=\"108\" y=\"-73\" x=\"-54\" ry=\"0\" rx=\"0\" style=\"fill:#bf9153;stroke:#d48e20;\" class=\"basic label-container\"/><g transform=\"translate(-31.75390625, -9.25)\" style=\"color:#cfcfcf;\" class=\"label\"><rect/><foreignObject height=\"18.5\" width=\"63.5078125\"><div xmlns=\"http://www.w3.org/1999/xhtml\" style=\"color: rgb(207, 207, 207); display: inline-block; white-space: nowrap;\"><span style=\"color:#cfcfcf;\" class=\"nodeLabel\">Thread 4</span></div></foreignObject></g></g><g transform=\"translate(54, 154)\" data-id=\"task1\" data-node=\"true\" id=\"task1\" class=\"node default default flowchart-label\"><rect height=\"146\" width=\"108\" y=\"-73\" x=\"-54\" ry=\"0\" rx=\"0\" style=\"\" class=\"basic cluster composite label-container\"/><g transform=\"translate(0, 0)\" style=\"\" class=\"label\"><rect/><foreignObject height=\"0\" width=\"0\"><div xmlns=\"http://www.w3.org/1999/xhtml\" style=\"display: inline-block; white-space: nowrap;\"><span class=\"nodeLabel\"/></div></foreignObject></g></g><g transform=\"translate(54, 154)\" data-id=\"T11\" data-node=\"true\" id=\"T11\" class=\"node default default flowchart-label\"><rect height=\"130\" width=\"92\" y=\"-65\" x=\"-46\" ry=\"0\" rx=\"0\" style=\"fill:#ca5d46;stroke:#d48e20;\" class=\"basic label-container\"/><g transform=\"translate(-21.73046875, -9.25)\" style=\"color:#cfcfcf;\" class=\"label\"><rect/><foreignObject height=\"18.5\" width=\"43.4609375\"><div xmlns=\"http://www.w3.org/1999/xhtml\" style=\"color: rgb(207, 207, 207); display: inline-block; white-space: nowrap;\"><span style=\"color:#cfcfcf;\" class=\"nodeLabel\">Task 1</span></div></foreignObject></g></g><g transform=\"translate(170, 154)\" data-id=\"task2\" data-node=\"true\" id=\"task2\" class=\"node default default flowchart-label\"><rect height=\"146\" width=\"108\" y=\"-73\" x=\"-54\" ry=\"0\" rx=\"0\" style=\"\" class=\"basic cluster composite label-container\"/><g transform=\"translate(0, 0)\" style=\"\" class=\"label\"><rect/><foreignObject height=\"0\" width=\"0\"><div xmlns=\"http://www.w3.org/1999/xhtml\" style=\"display: inline-block; white-space: nowrap;\"><span class=\"nodeLabel\"/></div></foreignObject></g></g><g transform=\"translate(170, 154)\" data-id=\"T21\" data-node=\"true\" id=\"T21\" class=\"node default default flowchart-label\"><rect height=\"130\" width=\"92\" y=\"-65\" x=\"-46\" ry=\"0\" rx=\"0\" style=\"fill:#ca5d46;stroke:#d48e20;\" class=\"basic label-container\"/><g transform=\"translate(-21.73046875, -9.25)\" style=\"color:#cfcfcf;\" class=\"label\"><rect/><foreignObject height=\"18.5\" width=\"43.4609375\"><div xmlns=\"http://www.w3.org/1999/xhtml\" style=\"color: rgb(207, 207, 207); display: inline-block; white-space: nowrap;\"><span style=\"color:#cfcfcf;\" class=\"nodeLabel\">Task 2</span></div></foreignObject></g></g><g transform=\"translate(286, 154)\" data-id=\"group3\" data-node=\"true\" id=\"group3\" class=\"node default default flowchart-label\"><rect height=\"146\" width=\"108\" y=\"-73\" x=\"-54\" ry=\"0\" rx=\"0\" style=\"\" class=\"basic cluster composite label-container\"/><g transform=\"translate(0, 0)\" style=\"\" class=\"label\"><rect/><foreignObject height=\"0\" width=\"0\"><div xmlns=\"http://www.w3.org/1999/xhtml\" style=\"display: inline-block; white-space: nowrap;\"><span class=\"nodeLabel\"/></div></foreignObject></g></g><g transform=\"translate(286, 102.25)\" data-id=\"P11\" data-node=\"true\" id=\"P11\" class=\"node default default flowchart-label\"><rect height=\"26.5\" width=\"92\" y=\"-13.25\" x=\"-46\" ry=\"0\" rx=\"0\" style=\"fill:#6d794c;stroke:#d48e20;\" class=\"basic label-container\"/><g transform=\"translate(-42, -9.25)\" style=\"color:#cfcfcf;\" class=\"label\"><rect/><foreignObject height=\"18.5\" width=\"84\"><div xmlns=\"http://www.w3.org/1999/xhtml\" style=\"color: rgb(207, 207, 207); display: inline-block; white-space: nowrap;\"><span style=\"color:#cfcfcf;\" class=\"nodeLabel\">Periodical 1</span></div></foreignObject></g></g><g transform=\"translate(286, 136.75)\" data-id=\"P12\" data-node=\"true\" id=\"P12\" class=\"node default default flowchart-label\"><rect height=\"26.5\" width=\"92\" y=\"-13.25\" x=\"-46\" ry=\"0\" rx=\"0\" style=\"fill:#6d794c;stroke:#d48e20;\" class=\"basic label-container\"/><g transform=\"translate(-42, -9.25)\" style=\"color:#cfcfcf;\" class=\"label\"><rect/><foreignObject height=\"18.5\" width=\"84\"><div xmlns=\"http://www.w3.org/1999/xhtml\" style=\"color: rgb(207, 207, 207); display: inline-block; white-space: nowrap;\"><span style=\"color:#cfcfcf;\" class=\"nodeLabel\">Periodical 1</span></div></foreignObject></g></g><g transform=\"translate(286, 171.25)\" data-id=\"P13\" data-node=\"true\" id=\"P13\" class=\"node default default flowchart-label\"><rect height=\"26.5\" width=\"92\" y=\"-13.25\" x=\"-46\" ry=\"0\" rx=\"0\" style=\"fill:#6d794c;stroke:#d48e20;\" class=\"basic label-container\"/><g transform=\"translate(-42, -9.25)\" style=\"color:#cfcfcf;\" class=\"label\"><rect/><foreignObject height=\"18.5\" width=\"84\"><div xmlns=\"http://www.w3.org/1999/xhtml\" style=\"color: rgb(207, 207, 207); display: inline-block; white-space: nowrap;\"><span style=\"color:#cfcfcf;\" class=\"nodeLabel\">Periodical 1</span></div></foreignObject></g></g><g transform=\"translate(286, 205.75)\" data-id=\"P14\" data-node=\"true\" id=\"P14\" class=\"node default default flowchart-label\"><rect height=\"26.5\" width=\"92\" y=\"-13.25\" x=\"-46\" ry=\"0\" rx=\"0\" style=\"fill:#6d794c;stroke:#d48e20;\" class=\"basic label-container\"/><g transform=\"translate(-42, -9.25)\" style=\"color:#cfcfcf;\" class=\"label\"><rect/><foreignObject height=\"18.5\" width=\"84\"><div xmlns=\"http://www.w3.org/1999/xhtml\" style=\"color: rgb(207, 207, 207); display: inline-block; white-space: nowrap;\"><span style=\"color:#cfcfcf;\" class=\"nodeLabel\">Periodical 1</span></div></foreignObject></g></g><g transform=\"translate(402, 154)\" data-id=\"task4\" data-node=\"true\" id=\"task4\" class=\"node default default flowchart-label\"><rect height=\"146\" width=\"108\" y=\"-73\" x=\"-54\" ry=\"0\" rx=\"0\" style=\"\" class=\"basic cluster composite label-container\"/><g transform=\"translate(0, 0)\" style=\"\" class=\"label\"><rect/><foreignObject height=\"0\" width=\"0\"><div xmlns=\"http://www.w3.org/1999/xhtml\" style=\"display: inline-block; white-space: nowrap;\"><span class=\"nodeLabel\"/></div></foreignObject></g></g><g transform=\"translate(402, 102.25)\" data-id=\"P21\" data-node=\"true\" id=\"P21\" class=\"node default default flowchart-label\"><rect height=\"26.5\" width=\"92\" y=\"-13.25\" x=\"-46\" ry=\"0\" rx=\"0\" style=\"fill:#6d794c;stroke:#d48e20;\" class=\"basic label-container\"/><g transform=\"translate(-42, -9.25)\" style=\"color:#cfcfcf;\" class=\"label\"><rect/><foreignObject height=\"18.5\" width=\"84\"><div xmlns=\"http://www.w3.org/1999/xhtml\" style=\"color: rgb(207, 207, 207); display: inline-block; white-space: nowrap;\"><span style=\"color:#cfcfcf;\" class=\"nodeLabel\">Periodical 2</span></div></foreignObject></g></g><g transform=\"translate(402, 171.25)\" data-id=\"P23\" data-node=\"true\" id=\"P23\" class=\"node default default flowchart-label\"><rect height=\"26.5\" width=\"92\" y=\"-13.25\" x=\"-46\" ry=\"0\" rx=\"0\" style=\"fill:#6d794c;stroke:#d48e20;\" class=\"basic label-container\"/><g transform=\"translate(-42, -9.25)\" style=\"color:#cfcfcf;\" class=\"label\"><rect/><foreignObject height=\"18.5\" width=\"84\"><div xmlns=\"http://www.w3.org/1999/xhtml\" style=\"color: rgb(207, 207, 207); display: inline-block; white-space: nowrap;\"><span style=\"color:#cfcfcf;\" class=\"nodeLabel\">Periodical 2</span></div></foreignObject></g></g></g></svg>"
      ],
      "text/plain": [
       "<IPython.core.display.SVG object>"
      ]
     },
     "execution_count": 3,
     "metadata": {},
     "output_type": "execute_result"
    }
   ],
   "source": [
    "thread_version=\"\"\"\n",
    "block-beta\n",
    "  columns 4\n",
    "  T00[\"Main Thread\"]:4\n",
    "\n",
    "  T_11[\"Thread 1\"]\n",
    "  T_12[\"Thread 2\"]\n",
    "  T_13[\"Thread 3\"]\n",
    "  T_14[\"Thread 4\"]\n",
    "\n",
    "  block:task1:1\n",
    "  columns 1\n",
    "  T11[\"Task 1\"]\n",
    "  end\n",
    "\n",
    "  block:task2:1\n",
    "  columns 1\n",
    "  T21[\"Task 2\"]\n",
    "  end\n",
    "\n",
    "  block:group3:1\n",
    "  columns 1\n",
    "  P11[\"Periodical 1\"]\n",
    "  P12[\"Periodical 1\"]\n",
    "  P13[\"Periodical 1\"]\n",
    "  P14[\"Periodical 1\"]\n",
    "  end\n",
    "\n",
    "  block:task4:1\n",
    "  columns 1\n",
    "  P21[\"Periodical 2\"]\n",
    "  space\n",
    "  P23[\"Periodical 2\"]\n",
    "  space\n",
    "  end\n",
    "\n",
    "  style T00 fill:#d4bb5c,stroke:#d48e20,color:#555;\n",
    "  style T_11 fill:#bf9153,stroke:#d48e20,color:#cfcfcf;\n",
    "  style T_12 fill:#bf9153,stroke:#d48e20,color:#cfcfcf;\n",
    "  style T_13 fill:#bf9153,stroke:#d48e20,color:#cfcfcf;\n",
    "  style T_14 fill:#bf9153,stroke:#d48e20,color:#cfcfcf;\n",
    "  style T11 fill:#ca5d46,stroke:#d48e20,color:#cfcfcf; \n",
    "  style T21 fill:#ca5d46,stroke:#d48e20,color:#cfcfcf; \n",
    "  \n",
    "  style P11 fill:#6d794c,stroke:#d48e20,color:#cfcfcf; \n",
    "  style P12 fill:#6d794c,stroke:#d48e20,color:#cfcfcf;\n",
    "  style P13 fill:#6d794c,stroke:#d48e20,color:#cfcfcf; \n",
    "  style P14 fill:#6d794c,stroke:#d48e20,color:#cfcfcf;\n",
    "\n",
    "  style P21 fill:#6d794c,stroke:#d48e20,color:#cfcfcf; \n",
    "  style P23 fill:#6d794c,stroke:#d48e20,color:#cfcfcf; \n",
    "  \n",
    "\"\"\"\n",
    "run_mmdc(thread_version, \"svg\", 800)"
   ]
  },
  {
   "cell_type": "code",
   "execution_count": null,
   "id": "fde134cb-96f6-4d21-a081-26cf73d908d1",
   "metadata": {
    "editable": true,
    "slideshow": {
     "slide_type": ""
    },
    "tags": []
   },
   "outputs": [],
   "source": []
  }
 ],
 "metadata": {
  "kernelspec": {
   "display_name": "Python 3 (ipykernel)",
   "language": "python",
   "name": "python3"
  },
  "language_info": {
   "codemirror_mode": {
    "name": "ipython",
    "version": 3
   },
   "file_extension": ".py",
   "mimetype": "text/x-python",
   "name": "python",
   "nbconvert_exporter": "python",
   "pygments_lexer": "ipython3",
   "version": "3.12.2"
  }
 },
 "nbformat": 4,
 "nbformat_minor": 5
}
